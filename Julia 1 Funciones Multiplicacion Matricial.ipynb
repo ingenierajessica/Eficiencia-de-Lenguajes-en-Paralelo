{
 "cells": [
  {
   "cell_type": "markdown",
   "metadata": {},
   "source": [
    "\n",
    "# Multiplicación de Matrices en Ciclos For\n"
   ]
  },
  {
   "cell_type": "markdown",
   "metadata": {},
   "source": [
    "<h2>Contenido</h2>\n",
    "\n",
    "- [Matriz: Multiplicación](#Matriz:-Multiplicación)\n",
    "- [Matriz por Vector](#Matriz-por-Vector)\n",
    "- [Multiplicación de Matrices](#Multiplicación-de-Matrices)\n",
    "- [Multiplicación de una matriz por su transpuesta](#Multiplicación-de-una-matriz-por-su-transpuesta)\n",
    "- [El cuadrado de una matriz por su transpuesta](#El-cuadrado-de-una-matriz-por-su-transpuesta)\n",
    "- [Referencías](#Referencias)"
   ]
  },
  {
   "cell_type": "markdown",
   "metadata": {},
   "source": [
    "<h2>Matriz: Multiplicación</h2>\n"
   ]
  },
  {
   "cell_type": "markdown",
   "metadata": {},
   "source": [
    "¿Cuándo se puede multiplicar dos matrices?\n",
    "\n",
    "Cuando el número de columna de la primera matriz **es igual** al número de filas de la segunda matriz."
   ]
  },
  {
   "cell_type": "markdown",
   "metadata": {},
   "source": [
    "<img src=\"material-jyFms9hh.png\" alt=\"(Multiplicación de Matrices)\">"
   ]
  },
  {
   "cell_type": "markdown",
   "metadata": {},
   "source": [
    "[blue_text](https://www.geogebra.org/resource/jyFms9hh/gWfr05GxoKt6c3JS/material-jyFms9hh.png)"
   ]
  },
  {
   "cell_type": "markdown",
   "metadata": {},
   "source": [
    "<h2>Matriz por Vector</h2>\n"
   ]
  },
  {
   "cell_type": "code",
   "execution_count": 5,
   "metadata": {},
   "outputs": [
    {
     "data": {
      "text/plain": [
       "10"
      ]
     },
     "execution_count": 5,
     "metadata": {},
     "output_type": "execute_result"
    }
   ],
   "source": [
    "#Orden de la matriz\n",
    "n=10\n"
   ]
  },
  {
   "cell_type": "code",
   "execution_count": 6,
   "metadata": {},
   "outputs": [
    {
     "data": {
      "text/plain": [
       "10×10 Array{Int64,2}:\n",
       "  7  10  10   7  7   8   2  4  1  5\n",
       "  1   7   6   2  7   7   7  2  8  3\n",
       "  7   3   5   8  3   8   7  4  3  8\n",
       "  6   2  10   2  6   5  10  2  5  7\n",
       "  1   7   4   8  1   6   1  2  1  9\n",
       "  6  10   6   2  7   9   6  2  7  8\n",
       " 10   7   1   5  9  10  10  4  8  1\n",
       "  4   8   4   3  1  10   4  4  7  7\n",
       " 10   7   2   9  1   8   1  7  9  6\n",
       "  5   5   3  10  9   1   5  9  6  1"
      ]
     },
     "execution_count": 6,
     "metadata": {},
     "output_type": "execute_result"
    }
   ],
   "source": [
    "\n",
    "#Matriz \n",
    "A = rand(1:10,n,n) \n",
    "\n"
   ]
  },
  {
   "cell_type": "code",
   "execution_count": 7,
   "metadata": {},
   "outputs": [
    {
     "data": {
      "text/plain": [
       "10-element Array{Int64,1}:\n",
       "  3\n",
       " 10\n",
       "  4\n",
       "  4\n",
       "  6\n",
       "  8\n",
       "  5\n",
       "  2\n",
       "  5\n",
       "  2"
      ]
     },
     "execution_count": 7,
     "metadata": {},
     "output_type": "execute_result"
    }
   ],
   "source": [
    "#Vector\n",
    "v= rand(1:10,n)"
   ]
  },
  {
   "cell_type": "code",
   "execution_count": 8,
   "metadata": {},
   "outputs": [
    {
     "data": {
      "text/plain": [
       "matriz_vector (generic function with 1 method)"
      ]
     },
     "execution_count": 8,
     "metadata": {},
     "output_type": "execute_result"
    }
   ],
   "source": [
    "#Código de una función que multiplica por ciclos for entre una matriz y un vector\n",
    "\n",
    "function matriz_vector(n::Int64, A::Array{Int64}, v::Array{Int64})\n",
    "    #Matrices auxiliares\n",
    "    R = zeros(Int64,n,1) \n",
    "\n",
    "    for i= 1:n  #Recorre filas\n",
    "        for j = 1:n #Recorre columnas  \n",
    "            R[i,1]=R[i,1]+A[i,j]*v[j,1]\n",
    "        end\n",
    "    end \n",
    "    return R \n",
    "end"
   ]
  },
  {
   "cell_type": "code",
   "execution_count": 9,
   "metadata": {},
   "outputs": [
    {
     "data": {
      "text/plain": [
       "10×1 Array{Int64,2}:\n",
       " 328\n",
       " 288\n",
       " 259\n",
       " 255\n",
       " 207\n",
       " 349\n",
       " 358\n",
       " 283\n",
       " 290\n",
       " 254"
      ]
     },
     "execution_count": 9,
     "metadata": {},
     "output_type": "execute_result"
    }
   ],
   "source": [
    "matriz_vector(n,A,v)"
   ]
  },
  {
   "cell_type": "code",
   "execution_count": 17,
   "metadata": {},
   "outputs": [
    {
     "data": {
      "text/plain": [
       "10-element Array{Int64,1}:\n",
       " 328\n",
       " 288\n",
       " 259\n",
       " 255\n",
       " 207\n",
       " 349\n",
       " 358\n",
       " 283\n",
       " 290\n",
       " 254"
      ]
     },
     "execution_count": 17,
     "metadata": {},
     "output_type": "execute_result"
    }
   ],
   "source": [
    "#Comprobación\n",
    "A*v"
   ]
  },
  {
   "cell_type": "markdown",
   "metadata": {},
   "source": [
    "[Contenido](#Contenido)"
   ]
  },
  {
   "cell_type": "markdown",
   "metadata": {},
   "source": [
    "<h2>Multiplicación de Matrices</h2>\n"
   ]
  },
  {
   "cell_type": "code",
   "execution_count": 10,
   "metadata": {},
   "outputs": [
    {
     "data": {
      "text/plain": [
       "matriz_cuadrada (generic function with 2 methods)"
      ]
     },
     "execution_count": 10,
     "metadata": {},
     "output_type": "execute_result"
    }
   ],
   "source": [
    "#Código de una función que multiplica por ciclos for entre una matriz y un vector\n",
    "\n",
    "function matriz_cuadrada(n::Int64, A::Array{Int64})\n",
    "    R = zeros(Int64,n,n)    \n",
    "    for i= 1:n  #Recorre el primer indice  externo de la posición matricial\n",
    "        for j = 1:n #Recorre el tercer índice externo de la posición matricial        \n",
    "            for k = 1:n  #Recorre el indice interno de la posición matricial \n",
    "                    R[i,j]= R[i,j]+A[i,k]*A[k,j]\n",
    "\n",
    "            end\n",
    "\n",
    "        end\n",
    "\n",
    "    end \n",
    "    return R\n",
    "end\n"
   ]
  },
  {
   "cell_type": "code",
   "execution_count": 11,
   "metadata": {},
   "outputs": [
    {
     "data": {
      "text/plain": [
       "10×10 Array{Int64,2}:\n",
       " 297  391  361  316  322  428  341  208  298  362\n",
       " 290  336  212  286  242  377  263  193  301  279\n",
       " 342  365  306  305  334  389  330  229  304  292\n",
       " 355  356  245  359  299  400  300  240  284  285\n",
       " 200  229  230  199  252  236  260  164  237  201\n",
       " 345  438  304  367  347  443  320  257  357  327\n",
       " 384  488  338  338  342  511  324  227  359  362\n",
       " 304  365  257  275  295  374  281  220  331  267\n",
       " 352  416  359  309  315  426  299  247  348  333\n",
       " 287  341  293  279  224  401  278  189  283  328"
      ]
     },
     "execution_count": 11,
     "metadata": {},
     "output_type": "execute_result"
    }
   ],
   "source": [
    "matriz_cuadrada(n,A)"
   ]
  },
  {
   "cell_type": "code",
   "execution_count": 16,
   "metadata": {},
   "outputs": [
    {
     "data": {
      "text/plain": [
       "10×10 Array{Int64,2}:\n",
       " 297  391  361  316  322  428  341  208  298  362\n",
       " 290  336  212  286  242  377  263  193  301  279\n",
       " 342  365  306  305  334  389  330  229  304  292\n",
       " 355  356  245  359  299  400  300  240  284  285\n",
       " 200  229  230  199  252  236  260  164  237  201\n",
       " 345  438  304  367  347  443  320  257  357  327\n",
       " 384  488  338  338  342  511  324  227  359  362\n",
       " 304  365  257  275  295  374  281  220  331  267\n",
       " 352  416  359  309  315  426  299  247  348  333\n",
       " 287  341  293  279  224  401  278  189  283  328"
      ]
     },
     "execution_count": 16,
     "metadata": {},
     "output_type": "execute_result"
    }
   ],
   "source": [
    "#Comprobación\n",
    "A*A"
   ]
  },
  {
   "cell_type": "markdown",
   "metadata": {},
   "source": [
    "[Contenido](#Contenido)"
   ]
  },
  {
   "cell_type": "markdown",
   "metadata": {},
   "source": [
    "<h2>Multiplicación de una matriz por su transpuesta</h2>\n"
   ]
  },
  {
   "cell_type": "code",
   "execution_count": 12,
   "metadata": {},
   "outputs": [
    {
     "data": {
      "text/plain": [
       "matriz_por_transpuesta (generic function with 1 method)"
      ]
     },
     "execution_count": 12,
     "metadata": {},
     "output_type": "execute_result"
    }
   ],
   "source": [
    "#Código de una función que multiplica por ciclos for entre una matriz por su matriz transpuesta\n",
    "\n",
    "function matriz_por_transpuesta(n::Int64, A::Array{Int64})\n",
    "    T = zeros(Int64,n,n)\n",
    "    for i= 1:n  #Recorre el primer indice  externo de la posición matricial\n",
    "        for j = 1:n #Recorre el tercer índice externo de la posición matricial \n",
    "                    T[i,j]=  A[j,i] \n",
    "        end\n",
    "    end \n",
    "    \n",
    "    R = zeros(Int64,n,n)\n",
    "    for i= 1:n  #Recorre el primer indice  externo de la posición matricial\n",
    "        for j = 1:n #Recorre el tercer índice externo de la posición matricial \n",
    "            for k = 1:n  #Recorre el indice interno de la posición matricial\n",
    "                    #println(A[i,k]  ,'X',A[k,j] ,'=', A[i,k]*A[k,j])\n",
    "                    R[i,j]= R[i,j]+A[i,k]*T[k,j]\n",
    "            end\n",
    "\n",
    "        end\n",
    "\n",
    "    end \n",
    "    return R\n",
    "end "
   ]
  },
  {
   "cell_type": "code",
   "execution_count": 13,
   "metadata": {},
   "outputs": [
    {
     "data": {
      "text/plain": [
       "10×10 Array{Int64,2}:\n",
       " 457  301  343  326  284  404  377  322  363  313\n",
       " 301  314  256  296  185  354  353  280  263  252\n",
       " 343  256  358  321  253  346  361  300  350  277\n",
       " 326  296  321  383  194  362  353  274  269  254\n",
       " 284  185  253  194  254  266  207  243  266  185\n",
       " 404  354  346  362  266  459  431  368  370  288\n",
       " 377  353  361  353  207  431  537  343  401  364\n",
       " 322  280  300  274  243  368  343  336  349  226\n",
       " 363  263  350  269  266  370  401  349  466  326\n",
       " 313  252  277  254  185  288  364  226  326  384"
      ]
     },
     "execution_count": 13,
     "metadata": {},
     "output_type": "execute_result"
    }
   ],
   "source": [
    "matriz_por_transpuesta(n,A)"
   ]
  },
  {
   "cell_type": "code",
   "execution_count": 14,
   "metadata": {},
   "outputs": [
    {
     "data": {
      "text/plain": [
       "10×10 Array{Int64,2}:\n",
       " 457  301  343  326  284  404  377  322  363  313\n",
       " 301  314  256  296  185  354  353  280  263  252\n",
       " 343  256  358  321  253  346  361  300  350  277\n",
       " 326  296  321  383  194  362  353  274  269  254\n",
       " 284  185  253  194  254  266  207  243  266  185\n",
       " 404  354  346  362  266  459  431  368  370  288\n",
       " 377  353  361  353  207  431  537  343  401  364\n",
       " 322  280  300  274  243  368  343  336  349  226\n",
       " 363  263  350  269  266  370  401  349  466  326\n",
       " 313  252  277  254  185  288  364  226  326  384"
      ]
     },
     "execution_count": 14,
     "metadata": {},
     "output_type": "execute_result"
    }
   ],
   "source": [
    "#Comprobación\n",
    "A*A'"
   ]
  },
  {
   "cell_type": "markdown",
   "metadata": {},
   "source": [
    "[Contenido](#Contenido)"
   ]
  },
  {
   "cell_type": "markdown",
   "metadata": {},
   "source": [
    "<h2>El cuadrado de una matriz por su transpuesta</h2>\n"
   ]
  },
  {
   "cell_type": "markdown",
   "metadata": {},
   "source": [
    "### (A*A^T)^2"
   ]
  },
  {
   "cell_type": "code",
   "execution_count": 18,
   "metadata": {},
   "outputs": [
    {
     "data": {
      "text/plain": [
       "cuadrado_matriz_por_transpuesta (generic function with 1 method)"
      ]
     },
     "execution_count": 18,
     "metadata": {},
     "output_type": "execute_result"
    }
   ],
   "source": [
    "#Código de una función que multiplica por ciclos for entre una matriz por su matriz transpuesta\n",
    "\n",
    "function cuadrado_matriz_por_transpuesta(n::Int64, A::Array{Int64})\n",
    "    T = zeros(Int64,n,n)\n",
    "    for i= 1:n  #Recorre el primer indice  externo de la posición matricial\n",
    "        for j = 1:n #Recorre el tercer índice externo de la posición matricial \n",
    "                    T[i,j]=  A[j,i] \n",
    "        end\n",
    "\n",
    "    end \n",
    "    R1 = zeros(Int64,n,n)\n",
    "    for i= 1:n  #Recorre el primer indice  externo de la posición matricial\n",
    "        for j = 1:n #Recorre el tercer índice externo de la posición matricial \n",
    "            for k = 1:n  #Recorre el indice interno de la posición matricial\n",
    "                    #println(A[i,k]  ,'X',A[k,j] ,'=', A[i,k]*A[k,j])\n",
    "                    R1[i,j]= R1[i,j]+A[i,k]*T[k,j]\n",
    "\n",
    "            end\n",
    "\n",
    "        end\n",
    "\n",
    "    end \n",
    "    R1\n",
    "\n",
    "    R2 = zeros(Int64,n,n)\n",
    "    for i= 1:n  #Recorre el primer indice  externo de la posición matricial\n",
    "        for j = 1:n #Recorre el tercer índice externo de la posición matricial \n",
    "            for k = 1:n  #Recorre el indice interno de la posición matricial\n",
    "                    #println(A[i,k]  ,'X',A[k,j] ,'=', A[i,k]*A[k,j])\n",
    "                    R2[i,j]= R2[i,j]+R1[i,k]R1[k,j]\n",
    "\n",
    "            end\n",
    "\n",
    "        end\n",
    "\n",
    "    end \n",
    "    return R2\n",
    "end\n"
   ]
  },
  {
   "cell_type": "code",
   "execution_count": 19,
   "metadata": {},
   "outputs": [
    {
     "data": {
      "text/plain": [
       "10×10 Array{Int64,2}:\n",
       " 1242798  1009517  1119331  1072841  …  1322745  1076270  1212573  1014130\n",
       " 1009517   837572   912867   886736     1094884   881871   985242   829892\n",
       " 1119331   912867  1017665   973930     1201662   975662  1101667   918696\n",
       " 1072841   886736   973930   948864     1158518   933880  1042444   878621\n",
       "  825844   664609   745890   706624      867926   719207   810547   666489\n",
       " 1294289  1065253  1170645  1129619  …  1393726  1131445  1266389  1056116\n",
       " 1322745  1094884  1201662  1158518     1449593  1155817  1306103  1102527\n",
       " 1076270   881871   975662   933880     1155817   945055  1061147   876327\n",
       " 1212573   985242  1101667  1042444     1306103  1061147  1209489  1002879\n",
       " 1014130   829892   918696   878621     1102527   876327  1002879   857191"
      ]
     },
     "execution_count": 19,
     "metadata": {},
     "output_type": "execute_result"
    }
   ],
   "source": [
    "cuadrado_matriz_por_transpuesta(n,A)"
   ]
  },
  {
   "cell_type": "code",
   "execution_count": 20,
   "metadata": {},
   "outputs": [
    {
     "data": {
      "text/plain": [
       "10×10 Array{Int64,2}:\n",
       " 1242798  1009517  1119331  1072841  …  1322745  1076270  1212573  1014130\n",
       " 1009517   837572   912867   886736     1094884   881871   985242   829892\n",
       " 1119331   912867  1017665   973930     1201662   975662  1101667   918696\n",
       " 1072841   886736   973930   948864     1158518   933880  1042444   878621\n",
       "  825844   664609   745890   706624      867926   719207   810547   666489\n",
       " 1294289  1065253  1170645  1129619  …  1393726  1131445  1266389  1056116\n",
       " 1322745  1094884  1201662  1158518     1449593  1155817  1306103  1102527\n",
       " 1076270   881871   975662   933880     1155817   945055  1061147   876327\n",
       " 1212573   985242  1101667  1042444     1306103  1061147  1209489  1002879\n",
       " 1014130   829892   918696   878621     1102527   876327  1002879   857191"
      ]
     },
     "execution_count": 20,
     "metadata": {},
     "output_type": "execute_result"
    }
   ],
   "source": [
    "(A*A')^2"
   ]
  },
  {
   "cell_type": "markdown",
   "metadata": {},
   "source": [
    "[Contenido](#Contenido)"
   ]
  },
  {
   "cell_type": "markdown",
   "metadata": {},
   "source": [
    "<h2>Referencias</h2>\n"
   ]
  },
  {
   "attachments": {},
   "cell_type": "markdown",
   "metadata": {},
   "source": [
    "- Allan Avendaño, Matriz Multiplicacion. Recuperado de https://www.geogebra.org/m/S6R8A2xD"
   ]
  },
  {
   "cell_type": "markdown",
   "metadata": {},
   "source": [
    "- JLF, Matriz traspuesta o transpuesta. Recuperado de https://www.geogebra.org/m/mafmgjpd"
   ]
  },
  {
   "cell_type": "markdown",
   "metadata": {},
   "source": [
    "[Contenido](#Contenido)\n",
    "    "
   ]
  }
 ],
 "metadata": {
  "kernelspec": {
   "display_name": "Julia 1.0.0",
   "language": "julia",
   "name": "julia-1.0"
  },
  "language_info": {
   "file_extension": ".jl",
   "mimetype": "application/julia",
   "name": "julia",
   "version": "1.0.0"
  }
 },
 "nbformat": 4,
 "nbformat_minor": 4
}
