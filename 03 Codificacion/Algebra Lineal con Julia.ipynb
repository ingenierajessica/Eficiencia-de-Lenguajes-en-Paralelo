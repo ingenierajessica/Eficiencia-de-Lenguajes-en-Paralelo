{
 "cells": [
  {
   "cell_type": "markdown",
   "metadata": {},
   "source": [
    "# Algoritmos de Algebra Lineal con Julia"
   ]
  },
  {
   "cell_type": "markdown",
   "metadata": {},
   "source": [
    "\n",
    "## Alumna: Jessica Sarahi Méndez Rincón"
   ]
  },
  {
   "cell_type": "markdown",
   "metadata": {},
   "source": [
    "Implementar con Algebra Lineal \n",
    "\n",
    "### 1.-  A X v"
   ]
  },
  {
   "cell_type": "code",
   "execution_count": 5,
   "metadata": {},
   "outputs": [],
   "source": [
    "A = [2 6; 7 9]; v = [3,7]; # Sistema compatible"
   ]
  },
  {
   "cell_type": "code",
   "execution_count": 6,
   "metadata": {},
   "outputs": [
    {
     "data": {
      "text/plain": [
       "2-element Array{Int64,1}:\n",
       " 48\n",
       " 84"
      ]
     },
     "execution_count": 6,
     "metadata": {},
     "output_type": "execute_result"
    }
   ],
   "source": [
    "A * v"
   ]
  },
  {
   "cell_type": "code",
   "execution_count": null,
   "metadata": {},
   "outputs": [
    {
     "name": "stdout",
     "output_type": "stream",
     "text": [
      "\u001b[32m\u001b[1m  Updating\u001b[22m\u001b[39m registry at `C:\\Users\\Jess\\.julia\\registries\\General`\n",
      "\u001b[32m\u001b[1m  Updating\u001b[22m\u001b[39m git-repo `https://github.com/JuliaRegistries/General.git`\n",
      "\u001b[2K\u001b[36m\u001b[1mFetching:\u001b[22m\u001b[39m [========================================>]  99.9 %0.0 %>                                       ]  0.6 % [=>                                       ]  1.2 %\u001b[36m\u001b[1mFetching:\u001b[22m\u001b[39m [==>                                      ]  3.6 % %\u001b[36m\u001b[1mFetching:\u001b[22m\u001b[39m [==>                                      ]  5.0 %>                                     ]  5.6 %6.6 %>                                     ]  7.5 %5 %]  9.2 % [=====>                                   ]  10.2 %\u001b[36m\u001b[1mFetching:\u001b[22m\u001b[39m [=====>                                   ]  11.6 %.1 %                                  ]  12.6 %\u001b[36m\u001b[1mFetching:\u001b[22m\u001b[39m [======>                                  ]  13.2 %======>                                  ]  13.4 %1 %>                                  ]  14.6 % %]  16.4 % [========>                                ]  17.9 %>                                ]  19.1 %\u001b[36m\u001b[1mFetching:\u001b[22m\u001b[39m [=========>                               ]  20.6 % %9 %.0 % [============>                            ]  29.3 %\u001b[36m\u001b[1mFetching:\u001b[22m\u001b[39m [==============>                          ]  33.5 %\u001b[36m\u001b[1mFetching:\u001b[22m\u001b[39m [=================>                       ]  41.3 % [=================>                       ]  42.4 %.5 %46.9 %====================>                    ]  48.6 %                   ]  50.3 %\u001b[36m\u001b[1mFetching:\u001b[22m\u001b[39m [=====================>                   ]  52.0 %>                  ]  54.2 %>                  ]  54.6 % [=======================>                 ]  56.3 %.9 %]  59.6 %.8 % %61.0 % [==========================>              ]  64.2 % %\u001b[36m\u001b[1mFetching:\u001b[22m\u001b[39m [============================>            ]  69.4 %70.9 %           ]  72.0 % [==============================>          ]  73.9 % [===============================>         ]  75.3 %3 %================================>        ]  79.1 %9 %\u001b[36m\u001b[1mFetching:\u001b[22m\u001b[39m [==================================>      ]  83.1 % %     ]  86.7 %>    ]  87.9 %]  88.4 %89.0 %5 %\u001b[36m\u001b[1mFetching:\u001b[22m\u001b[39m [=====================================>   ]  91.3 %]  93.8 % [======================================>  ]  94.3 % % %\u001b[?25h\u001b[32m\u001b[1m Resolving\u001b[22m\u001b[39m package versions...\n"
     ]
    }
   ],
   "source": [
    "using Pkg\n",
    "Pkg.add(\"BenchmarkTools\")"
   ]
  },
  {
   "cell_type": "code",
   "execution_count": null,
   "metadata": {},
   "outputs": [],
   "source": [
    "using BenchmarkTools"
   ]
  }
 ],
 "metadata": {
  "kernelspec": {
   "display_name": "Julia 1.0.0",
   "language": "julia",
   "name": "julia-1.0"
  },
  "language_info": {
   "file_extension": ".jl",
   "mimetype": "application/julia",
   "name": "julia",
   "version": "1.0.0"
  }
 },
 "nbformat": 4,
 "nbformat_minor": 2
}
