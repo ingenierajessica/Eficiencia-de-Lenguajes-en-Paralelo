{
 "cells": [
  {
   "cell_type": "markdown",
   "metadata": {},
   "source": [
    "## Paquetes"
   ]
  },
  {
   "cell_type": "code",
   "execution_count": 17,
   "metadata": {},
   "outputs": [
    {
     "name": "stdout",
     "output_type": "stream",
     "text": [
      "\u001b[32m\u001b[1m Resolving\u001b[22m\u001b[39m package versions...\n",
      "\u001b[32m\u001b[1m  Updating\u001b[22m\u001b[39m `C:\\Users\\Jess\\.julia\\environments\\v1.0\\Project.toml`\n",
      "\u001b[90m [no changes]\u001b[39m\n",
      "\u001b[32m\u001b[1m  Updating\u001b[22m\u001b[39m `C:\\Users\\Jess\\.julia\\environments\\v1.0\\Manifest.toml`\n",
      "\u001b[90m [no changes]\u001b[39m\n"
     ]
    }
   ],
   "source": [
    "using Pkg\n",
    "Pkg.add(\"Conda\")\n",
    "using Conda"
   ]
  },
  {
   "cell_type": "code",
   "execution_count": 18,
   "metadata": {},
   "outputs": [
    {
     "name": "stdout",
     "output_type": "stream",
     "text": [
      "\u001b[32m\u001b[1m Resolving\u001b[22m\u001b[39m package versions...\n",
      "\u001b[32m\u001b[1m  Updating\u001b[22m\u001b[39m `C:\\Users\\Jess\\.julia\\environments\\v1.0\\Project.toml`\n",
      "\u001b[90m [no changes]\u001b[39m\n",
      "\u001b[32m\u001b[1m  Updating\u001b[22m\u001b[39m `C:\\Users\\Jess\\.julia\\environments\\v1.0\\Manifest.toml`\n",
      "\u001b[90m [no changes]\u001b[39m\n"
     ]
    }
   ],
   "source": [
    "using Pkg\n",
    "Pkg.add(\"BenchmarkTools\")"
   ]
  },
  {
   "cell_type": "code",
   "execution_count": 19,
   "metadata": {},
   "outputs": [],
   "source": [
    "using BenchmarkTools"
   ]
  },
  {
   "cell_type": "code",
   "execution_count": 20,
   "metadata": {},
   "outputs": [
    {
     "name": "stdout",
     "output_type": "stream",
     "text": [
      "\u001b[32m\u001b[1m Resolving\u001b[22m\u001b[39m package versions...\n",
      "\u001b[32m\u001b[1m  Updating\u001b[22m\u001b[39m `C:\\Users\\Jess\\.julia\\environments\\v1.0\\Project.toml`\n",
      "\u001b[90m [no changes]\u001b[39m\n",
      "\u001b[32m\u001b[1m  Updating\u001b[22m\u001b[39m `C:\\Users\\Jess\\.julia\\environments\\v1.0\\Manifest.toml`\n",
      "\u001b[90m [no changes]\u001b[39m\n"
     ]
    },
    {
     "name": "stderr",
     "output_type": "stream",
     "text": [
      "┌ Info: Recompiling stale cache file C:\\Users\\Jess\\.julia\\compiled\\v1.0\\PyCall\\GkzkC.ji for PyCall [438e738f-606a-5dbb-bf0a-cddfbfd45ab0]\n",
      "└ @ Base loading.jl:1184\n"
     ]
    }
   ],
   "source": [
    "using Pkg\n",
    "Pkg.add(\"PyCall\")\n",
    "using PyCall"
   ]
  },
  {
   "cell_type": "code",
   "execution_count": 21,
   "metadata": {},
   "outputs": [
    {
     "name": "stdout",
     "output_type": "stream",
     "text": [
      "\u001b[32m\u001b[1m Resolving\u001b[22m\u001b[39m package versions...\n",
      "\u001b[32m\u001b[1m  Updating\u001b[22m\u001b[39m `C:\\Users\\Jess\\.julia\\environments\\v1.0\\Project.toml`\n",
      "\u001b[90m [no changes]\u001b[39m\n",
      "\u001b[32m\u001b[1m  Updating\u001b[22m\u001b[39m `C:\\Users\\Jess\\.julia\\environments\\v1.0\\Manifest.toml`\n",
      "\u001b[90m [no changes]\u001b[39m\n"
     ]
    }
   ],
   "source": [
    "# using Pkg\n",
    "Pkg.add(\"Conda\")\n",
    "using Conda"
   ]
  },
  {
   "cell_type": "code",
   "execution_count": 22,
   "metadata": {},
   "outputs": [
    {
     "name": "stderr",
     "output_type": "stream",
     "text": [
      "┌ Info: Running `conda install -y numpy` in root environment\n",
      "└ @ Conda C:\\Users\\Jess\\.julia\\packages\\Conda\\3rPhK\\src\\Conda.jl:113\n"
     ]
    },
    {
     "name": "stdout",
     "output_type": "stream",
     "text": [
      "Collecting package metadata (current_repodata.json): ...working... done\n",
      "Solving environment: ...working... done\n",
      "\n",
      "# All requested packages already installed.\n",
      "\n"
     ]
    },
    {
     "name": "stderr",
     "output_type": "stream",
     "text": [
      "┌ Warning: `getindex(o::PyObject, s::AbstractString)` is deprecated in favor of dot overloading (`getproperty`) so elements should now be accessed as e.g. `o.\"s\"` instead of `o[\"s\"]`.\n",
      "│   caller = top-level scope at In[22]:2\n",
      "└ @ Core In[22]:2\n"
     ]
    },
    {
     "data": {
      "text/plain": [
       "PyObject <function sum at 0x0000000026240840>"
      ]
     },
     "execution_count": 22,
     "metadata": {},
     "output_type": "execute_result"
    }
   ],
   "source": [
    "Conda.add(\"numpy\")\n",
    "numpy_sum = pyimport(\"numpy\")[\"sum\"]"
   ]
  },
  {
   "cell_type": "markdown",
   "metadata": {},
   "source": [
    "## Benchmarking en Python"
   ]
  },
  {
   "cell_type": "markdown",
   "metadata": {},
   "source": [
    "Funciones propias del Lenguaje para operaciones matriciales"
   ]
  },
  {
   "cell_type": "markdown",
   "metadata": {},
   "source": [
    "##### n=10"
   ]
  },
  {
   "cell_type": "code",
   "execution_count": 28,
   "metadata": {},
   "outputs": [
    {
     "data": {
      "text/plain": [
       "PyObject <function f1 at 0x000000000E107158>"
      ]
     },
     "execution_count": 28,
     "metadata": {},
     "output_type": "execute_result"
    }
   ],
   "source": [
    "py\"\"\"\n",
    "import numpy as np\n",
    "def f1():\n",
    "    i=1 \n",
    "    n=10\n",
    "    A = np.random.randint(1,50,size=(n,n))\n",
    "    v = np.random.randint(1,50,size=(n))\n",
    "\n",
    "    return  A*v\n",
    "\"\"\"\n",
    "f1_py = py\"f1\""
   ]
  },
  {
   "cell_type": "code",
   "execution_count": 29,
   "metadata": {},
   "outputs": [
    {
     "data": {
      "text/plain": [
       "BenchmarkTools.Trial: \n",
       "  memory estimate:  2.05 KiB\n",
       "  allocs estimate:  29\n",
       "  --------------\n",
       "  minimum time:     48.999 μs (0.00% GC)\n",
       "  median time:      53.999 μs (0.00% GC)\n",
       "  mean time:        62.454 μs (2.86% GC)\n",
       "  maximum time:     26.448 ms (67.48% GC)\n",
       "  --------------\n",
       "  samples:          10000\n",
       "  evals/sample:     1"
      ]
     },
     "execution_count": 29,
     "metadata": {},
     "output_type": "execute_result"
    }
   ],
   "source": [
    "py_hand = @benchmark $f1_py()"
   ]
  },
  {
   "cell_type": "code",
   "execution_count": 30,
   "metadata": {},
   "outputs": [
    {
     "data": {
      "text/plain": [
       "PyObject <function ff1 at 0x000000002BAD5D90>"
      ]
     },
     "execution_count": 30,
     "metadata": {},
     "output_type": "execute_result"
    }
   ],
   "source": [
    "py\"\"\"\n",
    "import numpy as np\n",
    "def ff1():\n",
    "    i=1 \n",
    "    n=10\n",
    "    A = np.random.randint(1,50,size=(n,n)) \n",
    "\n",
    "    return  A*A\n",
    "\"\"\"\n",
    "ff1_py = py\"ff1\""
   ]
  },
  {
   "cell_type": "code",
   "execution_count": 31,
   "metadata": {},
   "outputs": [
    {
     "data": {
      "text/plain": [
       "BenchmarkTools.Trial: \n",
       "  memory estimate:  2.05 KiB\n",
       "  allocs estimate:  29\n",
       "  --------------\n",
       "  minimum time:     32.099 μs (0.00% GC)\n",
       "  median time:      35.601 μs (0.00% GC)\n",
       "  mean time:        42.440 μs (4.07% GC)\n",
       "  maximum time:     25.046 ms (68.91% GC)\n",
       "  --------------\n",
       "  samples:          10000\n",
       "  evals/sample:     1"
      ]
     },
     "execution_count": 31,
     "metadata": {},
     "output_type": "execute_result"
    }
   ],
   "source": [
    "py_hand = @benchmark $ff1_py()"
   ]
  },
  {
   "cell_type": "markdown",
   "metadata": {},
   "source": [
    "##### n=50"
   ]
  },
  {
   "cell_type": "code",
   "execution_count": 54,
   "metadata": {},
   "outputs": [
    {
     "data": {
      "text/plain": [
       "PyObject <function f2 at 0x000000002DB3C2F0>"
      ]
     },
     "execution_count": 54,
     "metadata": {},
     "output_type": "execute_result"
    }
   ],
   "source": [
    "py\"\"\"\n",
    "import numpy as np\n",
    "def f2():\n",
    "    i=1 \n",
    "    n=50\n",
    "    A = np.random.randint(1,50,size=(n,n))\n",
    "    v = np.random.randint(1,50,size=(n))\n",
    "\n",
    "    return  A*v\n",
    "\"\"\"\n",
    "f2_py = py\"f2\""
   ]
  },
  {
   "cell_type": "code",
   "execution_count": 55,
   "metadata": {},
   "outputs": [
    {
     "data": {
      "text/plain": [
       "BenchmarkTools.Trial: \n",
       "  memory estimate:  11.45 KiB\n",
       "  allocs estimate:  29\n",
       "  --------------\n",
       "  minimum time:     76.199 μs (0.00% GC)\n",
       "  median time:      87.199 μs (0.00% GC)\n",
       "  mean time:        96.777 μs (0.00% GC)\n",
       "  maximum time:     3.236 ms (0.00% GC)\n",
       "  --------------\n",
       "  samples:          10000\n",
       "  evals/sample:     1"
      ]
     },
     "execution_count": 55,
     "metadata": {},
     "output_type": "execute_result"
    }
   ],
   "source": [
    "py_hand = @benchmark $f2_py()"
   ]
  },
  {
   "cell_type": "code",
   "execution_count": 34,
   "metadata": {},
   "outputs": [
    {
     "data": {
      "text/plain": [
       "PyObject <function ff2 at 0x000000002BAFDD90>"
      ]
     },
     "execution_count": 34,
     "metadata": {},
     "output_type": "execute_result"
    }
   ],
   "source": [
    "py\"\"\"\n",
    "import numpy as np\n",
    "def ff2():\n",
    "    n=50\n",
    "    A = np.random.randint(1,50,size=(n,n)) \n",
    "    return  A*A\n",
    "\"\"\"\n",
    "ff2_py = py\"ff2\""
   ]
  },
  {
   "cell_type": "code",
   "execution_count": 35,
   "metadata": {},
   "outputs": [
    {
     "data": {
      "text/plain": [
       "BenchmarkTools.Trial: \n",
       "  memory estimate:  11.45 KiB\n",
       "  allocs estimate:  29\n",
       "  --------------\n",
       "  minimum time:     62.299 μs (0.00% GC)\n",
       "  median time:      73.001 μs (0.00% GC)\n",
       "  mean time:        81.060 μs (0.00% GC)\n",
       "  maximum time:     2.271 ms (0.00% GC)\n",
       "  --------------\n",
       "  samples:          10000\n",
       "  evals/sample:     1"
      ]
     },
     "execution_count": 35,
     "metadata": {},
     "output_type": "execute_result"
    }
   ],
   "source": [
    "py_hand = @benchmark $ff2_py()"
   ]
  },
  {
   "cell_type": "markdown",
   "metadata": {},
   "source": [
    "##### n=100"
   ]
  },
  {
   "cell_type": "code",
   "execution_count": 56,
   "metadata": {},
   "outputs": [
    {
     "data": {
      "text/plain": [
       "PyObject <function f3 at 0x000000002DB3C378>"
      ]
     },
     "execution_count": 56,
     "metadata": {},
     "output_type": "execute_result"
    }
   ],
   "source": [
    "py\"\"\"\n",
    "import numpy as np\n",
    "def f3():\n",
    "    i=1 \n",
    "    n=100\n",
    "    A = np.random.randint(1,50,size=(n,n))\n",
    "    v = np.random.randint(1,50,size=(n))\n",
    "\n",
    "    return  A*v\n",
    "\"\"\"\n",
    "f3_py = py\"f3\""
   ]
  },
  {
   "cell_type": "code",
   "execution_count": 57,
   "metadata": {},
   "outputs": [
    {
     "data": {
      "text/plain": [
       "BenchmarkTools.Trial: \n",
       "  memory estimate:  40.66 KiB\n",
       "  allocs estimate:  30\n",
       "  --------------\n",
       "  minimum time:     160.101 μs (0.00% GC)\n",
       "  median time:      200.401 μs (0.00% GC)\n",
       "  mean time:        220.898 μs (1.69% GC)\n",
       "  maximum time:     7.079 ms (25.67% GC)\n",
       "  --------------\n",
       "  samples:          10000\n",
       "  evals/sample:     1"
      ]
     },
     "execution_count": 57,
     "metadata": {},
     "output_type": "execute_result"
    }
   ],
   "source": [
    "py_hand = @benchmark $f3_py()"
   ]
  },
  {
   "cell_type": "code",
   "execution_count": 36,
   "metadata": {},
   "outputs": [
    {
     "data": {
      "text/plain": [
       "PyObject <function ff3 at 0x000000002BAFDE18>"
      ]
     },
     "execution_count": 36,
     "metadata": {},
     "output_type": "execute_result"
    }
   ],
   "source": [
    "py\"\"\"\n",
    "import numpy as np\n",
    "def ff3():\n",
    "    n=100\n",
    "    A = np.random.randint(1,50,size=(n,n)) \n",
    "    return  A*A\n",
    "\"\"\"\n",
    "ff3_py = py\"ff3\""
   ]
  },
  {
   "cell_type": "code",
   "execution_count": 37,
   "metadata": {},
   "outputs": [
    {
     "data": {
      "text/plain": [
       "BenchmarkTools.Trial: \n",
       "  memory estimate:  40.66 KiB\n",
       "  allocs estimate:  30\n",
       "  --------------\n",
       "  minimum time:     140.600 μs (0.00% GC)\n",
       "  median time:      179.099 μs (0.00% GC)\n",
       "  mean time:        204.825 μs (4.68% GC)\n",
       "  maximum time:     50.650 ms (94.70% GC)\n",
       "  --------------\n",
       "  samples:          10000\n",
       "  evals/sample:     1"
      ]
     },
     "execution_count": 37,
     "metadata": {},
     "output_type": "execute_result"
    }
   ],
   "source": [
    "py_hand = @benchmark $ff3_py()"
   ]
  },
  {
   "cell_type": "markdown",
   "metadata": {},
   "source": [
    "##### n=1000"
   ]
  },
  {
   "cell_type": "code",
   "execution_count": 58,
   "metadata": {},
   "outputs": [
    {
     "data": {
      "text/plain": [
       "PyObject <function f4 at 0x000000002DB3C400>"
      ]
     },
     "execution_count": 58,
     "metadata": {},
     "output_type": "execute_result"
    }
   ],
   "source": [
    "py\"\"\"\n",
    "import numpy as np\n",
    "def f4():\n",
    "    i=1 \n",
    "    n=1000\n",
    "    A = np.random.randint(1,50,size=(n,n))\n",
    "    v = np.random.randint(1,50,size=(n))\n",
    "\n",
    "    return  A*v\n",
    "\"\"\"\n",
    "f4_py = py\"f4\""
   ]
  },
  {
   "cell_type": "code",
   "execution_count": 59,
   "metadata": {},
   "outputs": [
    {
     "data": {
      "text/plain": [
       "BenchmarkTools.Trial: \n",
       "  memory estimate:  3.82 MiB\n",
       "  allocs estimate:  33\n",
       "  --------------\n",
       "  minimum time:     16.798 ms (0.00% GC)\n",
       "  median time:      17.469 ms (0.00% GC)\n",
       "  mean time:        18.430 ms (2.36% GC)\n",
       "  maximum time:     25.275 ms (9.56% GC)\n",
       "  --------------\n",
       "  samples:          272\n",
       "  evals/sample:     1"
      ]
     },
     "execution_count": 59,
     "metadata": {},
     "output_type": "execute_result"
    }
   ],
   "source": [
    "py_hand = @benchmark $f4_py()"
   ]
  },
  {
   "cell_type": "code",
   "execution_count": 38,
   "metadata": {},
   "outputs": [
    {
     "data": {
      "text/plain": [
       "PyObject <function ff4 at 0x000000002BAFDEA0>"
      ]
     },
     "execution_count": 38,
     "metadata": {},
     "output_type": "execute_result"
    }
   ],
   "source": [
    "py\"\"\"\n",
    "import numpy as np\n",
    "def ff4():\n",
    "    n=1000\n",
    "    A = np.random.randint(1,50,size=(n,n)) \n",
    "    return  A*A\n",
    "\"\"\"\n",
    "ff4_py = py\"ff4\""
   ]
  },
  {
   "cell_type": "code",
   "execution_count": 39,
   "metadata": {},
   "outputs": [
    {
     "data": {
      "text/plain": [
       "BenchmarkTools.Trial: \n",
       "  memory estimate:  3.82 MiB\n",
       "  allocs estimate:  33\n",
       "  --------------\n",
       "  minimum time:     16.869 ms (0.00% GC)\n",
       "  median time:      18.227 ms (0.00% GC)\n",
       "  mean time:        19.872 ms (4.60% GC)\n",
       "  maximum time:     90.099 ms (75.76% GC)\n",
       "  --------------\n",
       "  samples:          252\n",
       "  evals/sample:     1"
      ]
     },
     "execution_count": 39,
     "metadata": {},
     "output_type": "execute_result"
    }
   ],
   "source": [
    "py_hand = @benchmark $ff4_py()"
   ]
  },
  {
   "cell_type": "markdown",
   "metadata": {},
   "source": [
    "##### n=2000"
   ]
  },
  {
   "cell_type": "code",
   "execution_count": 60,
   "metadata": {},
   "outputs": [
    {
     "data": {
      "text/plain": [
       "PyObject <function f5 at 0x000000002DB3C488>"
      ]
     },
     "execution_count": 60,
     "metadata": {},
     "output_type": "execute_result"
    }
   ],
   "source": [
    "py\"\"\"\n",
    "import numpy as np\n",
    "def f5():\n",
    "    i=1 \n",
    "    n=2000\n",
    "    A = np.random.randint(1,50,size=(n,n))\n",
    "    v = np.random.randint(1,50,size=(n))\n",
    "\n",
    "    return  A*v\n",
    "\"\"\"\n",
    "f5_py = py\"f5\""
   ]
  },
  {
   "cell_type": "code",
   "execution_count": 61,
   "metadata": {},
   "outputs": [
    {
     "data": {
      "text/plain": [
       "BenchmarkTools.Trial: \n",
       "  memory estimate:  15.26 MiB\n",
       "  allocs estimate:  33\n",
       "  --------------\n",
       "  minimum time:     74.697 ms (0.00% GC)\n",
       "  median time:      81.140 ms (0.24% GC)\n",
       "  mean time:        81.379 ms (3.09% GC)\n",
       "  maximum time:     130.246 ms (37.82% GC)\n",
       "  --------------\n",
       "  samples:          62\n",
       "  evals/sample:     1"
      ]
     },
     "execution_count": 61,
     "metadata": {},
     "output_type": "execute_result"
    }
   ],
   "source": [
    "py_hand = @benchmark $f5_py()"
   ]
  },
  {
   "cell_type": "code",
   "execution_count": 40,
   "metadata": {},
   "outputs": [
    {
     "data": {
      "text/plain": [
       "PyObject <function ff5 at 0x000000002BAFDF28>"
      ]
     },
     "execution_count": 40,
     "metadata": {},
     "output_type": "execute_result"
    }
   ],
   "source": [
    "py\"\"\"\n",
    "import numpy as np\n",
    "def ff5():\n",
    "    n=2000\n",
    "    A = np.random.randint(1,50,size=(n,n)) \n",
    "    return  A*A\n",
    "\"\"\"\n",
    "ff5_py = py\"ff5\""
   ]
  },
  {
   "cell_type": "code",
   "execution_count": 41,
   "metadata": {},
   "outputs": [
    {
     "data": {
      "text/plain": [
       "BenchmarkTools.Trial: \n",
       "  memory estimate:  15.26 MiB\n",
       "  allocs estimate:  33\n",
       "  --------------\n",
       "  minimum time:     74.636 ms (0.00% GC)\n",
       "  median time:      82.349 ms (0.00% GC)\n",
       "  mean time:        87.423 ms (4.86% GC)\n",
       "  maximum time:     235.577 ms (40.39% GC)\n",
       "  --------------\n",
       "  samples:          58\n",
       "  evals/sample:     1"
      ]
     },
     "execution_count": 41,
     "metadata": {},
     "output_type": "execute_result"
    }
   ],
   "source": [
    "py_hand = @benchmark $ff5_py()"
   ]
  },
  {
   "cell_type": "markdown",
   "metadata": {},
   "source": [
    "#### n=5000"
   ]
  },
  {
   "cell_type": "code",
   "execution_count": 69,
   "metadata": {},
   "outputs": [
    {
     "data": {
      "text/plain": [
       "PyObject <function f6 at 0x000000002DB3C620>"
      ]
     },
     "execution_count": 69,
     "metadata": {},
     "output_type": "execute_result"
    }
   ],
   "source": [
    "py\"\"\"\n",
    "import numpy as np\n",
    "def f6():\n",
    "    i=1 \n",
    "    n=5000\n",
    "    A = np.random.randint(1,50,size=(n,n))\n",
    "    v = np.random.randint(1,50,size=(n))\n",
    "\n",
    "    return  A*v\n",
    "\"\"\"\n",
    "f6_py = py\"f6\""
   ]
  },
  {
   "cell_type": "code",
   "execution_count": 70,
   "metadata": {},
   "outputs": [
    {
     "data": {
      "text/plain": [
       "BenchmarkTools.Trial: \n",
       "  memory estimate:  95.37 MiB\n",
       "  allocs estimate:  33\n",
       "  --------------\n",
       "  minimum time:     538.385 ms (2.80% GC)\n",
       "  median time:      546.527 ms (1.69% GC)\n",
       "  mean time:        553.699 ms (3.39% GC)\n",
       "  maximum time:     588.615 ms (8.09% GC)\n",
       "  --------------\n",
       "  samples:          10\n",
       "  evals/sample:     1"
      ]
     },
     "execution_count": 70,
     "metadata": {},
     "output_type": "execute_result"
    }
   ],
   "source": [
    "py_hand = @benchmark $f6_py()"
   ]
  },
  {
   "cell_type": "code",
   "execution_count": 42,
   "metadata": {},
   "outputs": [
    {
     "data": {
      "text/plain": [
       "PyObject <function ff6 at 0x000000002BB1B048>"
      ]
     },
     "execution_count": 42,
     "metadata": {},
     "output_type": "execute_result"
    }
   ],
   "source": [
    "py\"\"\"\n",
    "import numpy as np\n",
    "def ff6():\n",
    "    n=5000\n",
    "    A = np.random.randint(1,50,size=(n,n)) \n",
    "    return  A*A\n",
    "\"\"\"\n",
    "ff6_py = py\"ff6\""
   ]
  },
  {
   "cell_type": "code",
   "execution_count": 43,
   "metadata": {},
   "outputs": [
    {
     "data": {
      "text/plain": [
       "BenchmarkTools.Trial: \n",
       "  memory estimate:  95.37 MiB\n",
       "  allocs estimate:  33\n",
       "  --------------\n",
       "  minimum time:     539.333 ms (1.69% GC)\n",
       "  median time:      551.693 ms (2.96% GC)\n",
       "  mean time:        563.489 ms (4.98% GC)\n",
       "  maximum time:     601.550 ms (9.55% GC)\n",
       "  --------------\n",
       "  samples:          9\n",
       "  evals/sample:     1"
      ]
     },
     "execution_count": 43,
     "metadata": {},
     "output_type": "execute_result"
    }
   ],
   "source": [
    "py_hand = @benchmark $ff6_py()"
   ]
  },
  {
   "cell_type": "markdown",
   "metadata": {},
   "source": [
    "# Benchmarking en Julia"
   ]
  },
  {
   "cell_type": "code",
   "execution_count": 44,
   "metadata": {},
   "outputs": [
    {
     "data": {
      "text/plain": [
       "10×10 Array{Int64,2}:\n",
       " 15  12   6  43  47   6  26  11  43   6\n",
       " 19  15  42  23  33  12  10  19  11   5\n",
       "  7  12  46   6  29  38   1  32  27  46\n",
       " 50  12  13   6  17  43  27  16  18  28\n",
       " 13  44  40  24  41  35  16  34  26  23\n",
       " 13   2   4  11  38   7  11  31  39  48\n",
       "  4  33   9   4  21  14  29  34  31  49\n",
       "  3  13  47  12  12  45  48  33  43  28\n",
       " 31  30  18   9   6  19  29  42  37  42\n",
       " 44  30  32  42  10  24   7  12  35  38"
      ]
     },
     "execution_count": 44,
     "metadata": {},
     "output_type": "execute_result"
    }
   ],
   "source": [
    "n=10\n",
    "A = rand(1:50,n,n)"
   ]
  },
  {
   "cell_type": "code",
   "execution_count": 45,
   "metadata": {},
   "outputs": [
    {
     "data": {
      "text/plain": [
       "10-element Array{Int64,1}:\n",
       "  8\n",
       " 35\n",
       " 20\n",
       " 47\n",
       " 21\n",
       " 19\n",
       " 35\n",
       " 39\n",
       " 10\n",
       " 48"
      ]
     },
     "execution_count": 45,
     "metadata": {},
     "output_type": "execute_result"
    }
   ],
   "source": [
    "v = rand(1:50,n)"
   ]
  },
  {
   "cell_type": "code",
   "execution_count": 46,
   "metadata": {},
   "outputs": [
    {
     "data": {
      "text/plain": [
       "BenchmarkTools.Trial: \n",
       "  memory estimate:  160 bytes\n",
       "  allocs estimate:  1\n",
       "  --------------\n",
       "  minimum time:     116.993 ns (0.00% GC)\n",
       "  median time:      125.382 ns (0.00% GC)\n",
       "  mean time:        149.820 ns (8.29% GC)\n",
       "  maximum time:     69.543 μs (99.76% GC)\n",
       "  --------------\n",
       "  samples:          10000\n",
       "  evals/sample:     918"
      ]
     },
     "execution_count": 46,
     "metadata": {},
     "output_type": "execute_result"
    }
   ],
   "source": [
    "julia_bench = @benchmark ($A*$v)"
   ]
  },
  {
   "cell_type": "code",
   "execution_count": 47,
   "metadata": {},
   "outputs": [
    {
     "data": {
      "text/plain": [
       "BenchmarkTools.Trial: \n",
       "  memory estimate:  1.09 KiB\n",
       "  allocs estimate:  5\n",
       "  --------------\n",
       "  minimum time:     1.040 μs (0.00% GC)\n",
       "  median time:      1.180 μs (0.00% GC)\n",
       "  mean time:        2.102 μs (33.95% GC)\n",
       "  maximum time:     4.992 ms (99.96% GC)\n",
       "  --------------\n",
       "  samples:          10000\n",
       "  evals/sample:     10"
      ]
     },
     "execution_count": 47,
     "metadata": {},
     "output_type": "execute_result"
    }
   ],
   "source": [
    "julia_bench = @benchmark ($A*$A)"
   ]
  },
  {
   "cell_type": "code",
   "execution_count": 48,
   "metadata": {},
   "outputs": [
    {
     "data": {
      "text/plain": [
       "BenchmarkTools.Trial: \n",
       "  memory estimate:  544 bytes\n",
       "  allocs estimate:  1\n",
       "  --------------\n",
       "  minimum time:     826.910 ns (0.00% GC)\n",
       "  median time:      887.179 ns (0.00% GC)\n",
       "  mean time:        1.068 μs (8.58% GC)\n",
       "  maximum time:     601.291 μs (99.79% GC)\n",
       "  --------------\n",
       "  samples:          10000\n",
       "  evals/sample:     78"
      ]
     },
     "execution_count": 48,
     "metadata": {},
     "output_type": "execute_result"
    }
   ],
   "source": [
    "n=50\n",
    "A = rand(1:50,n,n)\n",
    "v = rand(1:50,n)\n",
    "julia_bench = @benchmark ($A*$v)"
   ]
  },
  {
   "cell_type": "code",
   "execution_count": 50,
   "metadata": {},
   "outputs": [
    {
     "data": {
      "text/plain": [
       "BenchmarkTools.Trial: \n",
       "  memory estimate:  19.97 KiB\n",
       "  allocs estimate:  8\n",
       "  --------------\n",
       "  minimum time:     63.499 μs (0.00% GC)\n",
       "  median time:      75.500 μs (0.00% GC)\n",
       "  mean time:        88.829 μs (9.56% GC)\n",
       "  maximum time:     51.587 ms (99.80% GC)\n",
       "  --------------\n",
       "  samples:          10000\n",
       "  evals/sample:     1"
      ]
     },
     "execution_count": 50,
     "metadata": {},
     "output_type": "execute_result"
    }
   ],
   "source": [
    "julia_bench = @benchmark ($A*$A)"
   ]
  },
  {
   "cell_type": "code",
   "execution_count": 51,
   "metadata": {},
   "outputs": [
    {
     "data": {
      "text/plain": [
       "BenchmarkTools.Trial: \n",
       "  memory estimate:  896 bytes\n",
       "  allocs estimate:  1\n",
       "  --------------\n",
       "  minimum time:     3.225 μs (0.00% GC)\n",
       "  median time:      3.688 μs (0.00% GC)\n",
       "  mean time:        5.041 μs (18.08% GC)\n",
       "  maximum time:     6.867 ms (99.92% GC)\n",
       "  --------------\n",
       "  samples:          10000\n",
       "  evals/sample:     8"
      ]
     },
     "execution_count": 51,
     "metadata": {},
     "output_type": "execute_result"
    }
   ],
   "source": [
    "n=100\n",
    "A = rand(1:50,n,n)\n",
    "v = rand(1:50,n)\n",
    "julia_bench = @benchmark ($A*$v)"
   ]
  },
  {
   "cell_type": "code",
   "execution_count": 52,
   "metadata": {},
   "outputs": [
    {
     "data": {
      "text/plain": [
       "BenchmarkTools.Trial: \n",
       "  memory estimate:  78.53 KiB\n",
       "  allocs estimate:  8\n",
       "  --------------\n",
       "  minimum time:     438.500 μs (0.00% GC)\n",
       "  median time:      493.900 μs (0.00% GC)\n",
       "  mean time:        525.762 μs (2.11% GC)\n",
       "  maximum time:     48.607 ms (98.93% GC)\n",
       "  --------------\n",
       "  samples:          9472\n",
       "  evals/sample:     1"
      ]
     },
     "execution_count": 52,
     "metadata": {},
     "output_type": "execute_result"
    }
   ],
   "source": [
    "julia_bench = @benchmark ($A*$A)"
   ]
  },
  {
   "cell_type": "code",
   "execution_count": 53,
   "metadata": {},
   "outputs": [
    {
     "data": {
      "text/plain": [
       "BenchmarkTools.Trial: \n",
       "  memory estimate:  7.94 KiB\n",
       "  allocs estimate:  1\n",
       "  --------------\n",
       "  minimum time:     403.801 μs (0.00% GC)\n",
       "  median time:      462.800 μs (0.00% GC)\n",
       "  mean time:        516.720 μs (0.00% GC)\n",
       "  maximum time:     5.982 ms (0.00% GC)\n",
       "  --------------\n",
       "  samples:          9474\n",
       "  evals/sample:     1"
      ]
     },
     "execution_count": 53,
     "metadata": {},
     "output_type": "execute_result"
    }
   ],
   "source": [
    "n=1000\n",
    "A = rand(1:50,n,n)\n",
    "v = rand(1:50,n)\n",
    "julia_bench = @benchmark ($A*$v)"
   ]
  },
  {
   "cell_type": "code",
   "execution_count": 54,
   "metadata": {},
   "outputs": [
    {
     "data": {
      "text/plain": [
       "BenchmarkTools.Trial: \n",
       "  memory estimate:  7.63 MiB\n",
       "  allocs estimate:  8\n",
       "  --------------\n",
       "  minimum time:     496.440 ms (0.00% GC)\n",
       "  median time:      519.224 ms (0.00% GC)\n",
       "  mean time:        524.410 ms (1.34% GC)\n",
       "  maximum time:     590.427 ms (9.10% GC)\n",
       "  --------------\n",
       "  samples:          10\n",
       "  evals/sample:     1"
      ]
     },
     "execution_count": 54,
     "metadata": {},
     "output_type": "execute_result"
    }
   ],
   "source": [
    "julia_bench = @benchmark ($A*$A)"
   ]
  },
  {
   "cell_type": "markdown",
   "metadata": {},
   "source": [
    "##### n=2000"
   ]
  },
  {
   "cell_type": "code",
   "execution_count": 55,
   "metadata": {},
   "outputs": [
    {
     "data": {
      "text/plain": [
       "BenchmarkTools.Trial: \n",
       "  memory estimate:  15.75 KiB\n",
       "  allocs estimate:  1\n",
       "  --------------\n",
       "  minimum time:     1.895 ms (0.00% GC)\n",
       "  median time:      2.118 ms (0.00% GC)\n",
       "  mean time:        2.282 ms (0.00% GC)\n",
       "  maximum time:     6.045 ms (0.00% GC)\n",
       "  --------------\n",
       "  samples:          2181\n",
       "  evals/sample:     1"
      ]
     },
     "execution_count": 55,
     "metadata": {},
     "output_type": "execute_result"
    }
   ],
   "source": [
    "n=2000\n",
    "A = rand(1:50,n,n)\n",
    "v = rand(1:50,n)\n",
    "julia_bench = @benchmark ($A*$v)"
   ]
  },
  {
   "cell_type": "code",
   "execution_count": 56,
   "metadata": {},
   "outputs": [
    {
     "data": {
      "text/plain": [
       "BenchmarkTools.Trial: \n",
       "  memory estimate:  30.52 MiB\n",
       "  allocs estimate:  8\n",
       "  --------------\n",
       "  minimum time:     4.151 s (0.30% GC)\n",
       "  median time:      4.246 s (0.15% GC)\n",
       "  mean time:        4.246 s (0.15% GC)\n",
       "  maximum time:     4.341 s (0.01% GC)\n",
       "  --------------\n",
       "  samples:          2\n",
       "  evals/sample:     1"
      ]
     },
     "execution_count": 56,
     "metadata": {},
     "output_type": "execute_result"
    }
   ],
   "source": [
    "julia_bench = @benchmark ($A*$A)"
   ]
  },
  {
   "cell_type": "markdown",
   "metadata": {},
   "source": [
    "##### n=5000"
   ]
  },
  {
   "cell_type": "code",
   "execution_count": 57,
   "metadata": {},
   "outputs": [
    {
     "data": {
      "text/plain": [
       "BenchmarkTools.Trial: \n",
       "  memory estimate:  39.14 KiB\n",
       "  allocs estimate:  2\n",
       "  --------------\n",
       "  minimum time:     12.692 ms (0.00% GC)\n",
       "  median time:      14.278 ms (0.00% GC)\n",
       "  mean time:        14.645 ms (0.00% GC)\n",
       "  maximum time:     19.568 ms (0.00% GC)\n",
       "  --------------\n",
       "  samples:          342\n",
       "  evals/sample:     1"
      ]
     },
     "execution_count": 57,
     "metadata": {},
     "output_type": "execute_result"
    }
   ],
   "source": [
    "n=5000\n",
    "A = rand(1:50,n,n)\n",
    "v = rand(1:50,n)\n",
    "julia_bench = @benchmark ($A*$v)"
   ]
  },
  {
   "cell_type": "code",
   "execution_count": 58,
   "metadata": {},
   "outputs": [
    {
     "data": {
      "text/plain": [
       "BenchmarkTools.Trial: \n",
       "  memory estimate:  190.74 MiB\n",
       "  allocs estimate:  8\n",
       "  --------------\n",
       "  minimum time:     72.923 s (0.02% GC)\n",
       "  median time:      72.923 s (0.02% GC)\n",
       "  mean time:        72.923 s (0.02% GC)\n",
       "  maximum time:     72.923 s (0.02% GC)\n",
       "  --------------\n",
       "  samples:          1\n",
       "  evals/sample:     1"
      ]
     },
     "execution_count": 58,
     "metadata": {},
     "output_type": "execute_result"
    }
   ],
   "source": [
    "julia_bench = @benchmark ($A*$A)"
   ]
  },
  {
   "cell_type": "markdown",
   "metadata": {},
   "source": [
    "##### n=10000"
   ]
  },
  {
   "cell_type": "code",
   "execution_count": 59,
   "metadata": {},
   "outputs": [
    {
     "data": {
      "text/plain": [
       "BenchmarkTools.Trial: \n",
       "  memory estimate:  78.20 KiB\n",
       "  allocs estimate:  2\n",
       "  --------------\n",
       "  minimum time:     55.142 ms (0.00% GC)\n",
       "  median time:      58.060 ms (0.00% GC)\n",
       "  mean time:        61.134 ms (0.00% GC)\n",
       "  maximum time:     96.504 ms (0.00% GC)\n",
       "  --------------\n",
       "  samples:          82\n",
       "  evals/sample:     1"
      ]
     },
     "execution_count": 59,
     "metadata": {},
     "output_type": "execute_result"
    }
   ],
   "source": [
    "n=10000\n",
    "A = rand(1:50,n,n)\n",
    "v = rand(1:50,n)\n",
    "julia_bench = @benchmark ($A*$v)"
   ]
  },
  {
   "cell_type": "code",
   "execution_count": null,
   "metadata": {},
   "outputs": [],
   "source": [
    " \n",
    "julia_bench = @benchmark ($A*$A)"
   ]
  },
  {
   "cell_type": "markdown",
   "metadata": {},
   "source": [
    "# Benchmarking en Matlab"
   ]
  },
  {
   "cell_type": "code",
   "execution_count": 1,
   "metadata": {},
   "outputs": [],
   "source": [
    "using Pkg"
   ]
  },
  {
   "cell_type": "code",
   "execution_count": 2,
   "metadata": {},
   "outputs": [
    {
     "name": "stdout",
     "output_type": "stream",
     "text": [
      "\u001b[32m\u001b[1m  Updating\u001b[22m\u001b[39m registry at `C:\\Users\\Jess\\.julia\\registries\\General`\n",
      "\u001b[32m\u001b[1m  Updating\u001b[22m\u001b[39m git-repo `https://github.com/JuliaRegistries/General.git`\n",
      "\u001b[2K\u001b[?25h[1mFetching:\u001b[22m\u001b[39m [========================================>]  100.0 %.0 % [==================================>      ]  82.6 %\u001b[32m\u001b[1m Resolving\u001b[22m\u001b[39m package versions...\n",
      "\u001b[32m\u001b[1m Installed\u001b[22m\u001b[39m StatsBase ─ v0.32.2\n",
      "\u001b[32m\u001b[1m  Updating\u001b[22m\u001b[39m `C:\\Users\\Jess\\.julia\\environments\\v1.0\\Project.toml`\n",
      "\u001b[90m [no changes]\u001b[39m\n",
      "\u001b[32m\u001b[1m  Updating\u001b[22m\u001b[39m `C:\\Users\\Jess\\.julia\\environments\\v1.0\\Manifest.toml`\n",
      " \u001b[90m [2913bbd2]\u001b[39m\u001b[93m ↑ StatsBase v0.32.1 ⇒ v0.32.2\u001b[39m\n"
     ]
    }
   ],
   "source": [
    "Pkg.add(\"MATLAB\")"
   ]
  },
  {
   "cell_type": "code",
   "execution_count": 3,
   "metadata": {},
   "outputs": [
    {
     "ename": "InitError",
     "evalue": "InitError: The MATLAB library path could not be found.\nduring initialization of module MATLAB",
     "output_type": "error",
     "traceback": [
      "InitError: The MATLAB library path could not be found.\nduring initialization of module MATLAB",
      "",
      "Stacktrace:",
      " [1] error(::String) at .\\error.jl:33",
      " [2] matlab_libpath at C:\\Users\\Jess\\.julia\\packages\\MATLAB\\cVrxc\\src\\mxbase.jl:47 [inlined]",
      " [3] __init__() at C:\\Users\\Jess\\.julia\\packages\\MATLAB\\cVrxc\\src\\MATLAB.jl:72",
      " [4] _include_from_serialized(::String, ::Array{Any,1}) at .\\loading.jl:627",
      " [5] macro expansion at .\\logging.jl:312 [inlined]",
      " [6] _require_search_from_serialized(::Base.PkgId, ::String) at .\\loading.jl:698",
      " [7] _require(::Base.PkgId) at .\\loading.jl:931",
      " [8] require(::Base.PkgId) at .\\loading.jl:852",
      " [9] macro expansion at .\\logging.jl:311 [inlined]",
      " [10] require(::Module, ::Symbol) at .\\loading.jl:834",
      " [11] top-level scope at In[3]:1"
     ]
    }
   ],
   "source": [
    "using MATLAB"
   ]
  },
  {
   "cell_type": "code",
   "execution_count": 4,
   "metadata": {},
   "outputs": [
    {
     "ename": "LoadError",
     "evalue": "syntax: extra token \"\"\" after end of expression",
     "output_type": "error",
     "traceback": [
      "syntax: extra token \"\"\" after end of expression",
      ""
     ]
    }
   ],
   "source": [
    "mat \" a = 6 \" "
   ]
  },
  {
   "cell_type": "code",
   "execution_count": 5,
   "metadata": {},
   "outputs": [
    {
     "ename": "LoadError",
     "evalue": "UndefVarError: @mat_str not defined",
     "output_type": "error",
     "traceback": [
      "UndefVarError: @mat_str not defined",
      ""
     ]
    }
   ],
   "source": [
    "mat\"\"\"\n",
    "import numpy as np\n",
    "def m1():\n",
    "    i=1 \n",
    "    n=5000\n",
    "    A = np.random.randint(1,50,size=(n,n))\n",
    "    v = np.random.randint(1,50,size=(n))\n",
    "\n",
    "    return  A*v\n",
    "\"\"\"\n",
    "m1_py = mat\"m1\""
   ]
  },
  {
   "cell_type": "code",
   "execution_count": 6,
   "metadata": {},
   "outputs": [
    {
     "ename": "UndefVarError",
     "evalue": "UndefVarError: matimport not defined",
     "output_type": "error",
     "traceback": [
      "UndefVarError: matimport not defined",
      "",
      "Stacktrace:",
      " [1] top-level scope at In[6]:1"
     ]
    }
   ],
   "source": [
    "numpy_sum = matimport[\"m1\"]"
   ]
  },
  {
   "cell_type": "code",
   "execution_count": 7,
   "metadata": {},
   "outputs": [
    {
     "ename": "LoadError",
     "evalue": "UndefVarError: @mat_str not defined",
     "output_type": "error",
     "traceback": [
      "UndefVarError: @mat_str not defined",
      ""
     ]
    }
   ],
   "source": [
    "mat\"\"\" a = 6 \"\"\""
   ]
  },
  {
   "cell_type": "code",
   "execution_count": 8,
   "metadata": {},
   "outputs": [
    {
     "name": "stdout",
     "output_type": "stream",
     "text": [
      "\u001b[32m\u001b[1m Resolving\u001b[22m\u001b[39m package versions...\n",
      "\u001b[32m\u001b[1m  Updating\u001b[22m\u001b[39m `C:\\Users\\Jess\\.julia\\environments\\v1.0\\Project.toml`\n",
      "\u001b[90m [no changes]\u001b[39m\n",
      "\u001b[32m\u001b[1m  Updating\u001b[22m\u001b[39m `C:\\Users\\Jess\\.julia\\environments\\v1.0\\Manifest.toml`\n",
      "\u001b[90m [no changes]\u001b[39m\n"
     ]
    }
   ],
   "source": [
    "Pkg.add(\"MATLAB\")"
   ]
  },
  {
   "cell_type": "code",
   "execution_count": 9,
   "metadata": {},
   "outputs": [
    {
     "ename": "LoadError",
     "evalue": "syntax: space before \"(\" not allowed in \"mxarray (\"",
     "output_type": "error",
     "traceback": [
      "syntax: space before \"(\" not allowed in \"mxarray (\"",
      ""
     ]
    }
   ],
   "source": [
    "mxarray (Float64, n)    # crea una matriz n-por-1 MATLAB cero de tipo de doble valor \n",
    "mxarray (Int32, m, n)   # crea una matriz m-por-n MATLAB cero de tipo \n",
    "int32 de valor mxarray (Bool, m, n)    # crea una matriz lógica MATLAB de tamaño m-by-n\n",
    "\n",
    "mxarray (Float64, (n1, n2, n3))   # crea una matriz MATLAB de tamaño n1-by-n2-by-n3\n",
    "\n",
    "mxcellarray (m, n)         # crea una matriz de celdas MATLAB \n",
    "mxstruct ( \" a \" , \" b \" , \" c \" )   # crea una estructura MATLAB con campos dados"
   ]
  },
  {
   "cell_type": "code",
   "execution_count": 11,
   "metadata": {},
   "outputs": [
    {
     "ename": "UndefVarError",
     "evalue": "UndefVarError: n1 not defined",
     "output_type": "error",
     "traceback": [
      "UndefVarError: n1 not defined",
      "",
      "Stacktrace:",
      " [1] top-level scope at In[11]:1"
     ]
    }
   ],
   "source": [
    "mxarray(Float64, (n1, n2, n3)) "
   ]
  },
  {
   "cell_type": "code",
   "execution_count": 13,
   "metadata": {},
   "outputs": [],
   "source": [
    "using MATLAB\n"
   ]
  },
  {
   "cell_type": "code",
   "execution_count": 14,
   "metadata": {},
   "outputs": [
    {
     "data": {
      "text/plain": [
       "-10.0:0.04008016032064128:10.0"
      ]
     },
     "execution_count": 14,
     "metadata": {},
     "output_type": "execute_result"
    }
   ],
   "source": [
    "\n",
    "x = range(-10.0, stop=10.0, length=500)\n"
   ]
  },
  {
   "cell_type": "code",
   "execution_count": 15,
   "metadata": {},
   "outputs": [
    {
     "ename": "ErrorException",
     "evalue": "The MATLAB path is invalid. Set the MATLAB_HOME evironmental variable to the MATLAB root.",
     "output_type": "error",
     "traceback": [
      "The MATLAB path is invalid. Set the MATLAB_HOME evironmental variable to the MATLAB root.",
      "",
      "Stacktrace:",
      " [1] error(::String) at .\\error.jl:33",
      " [2] matlab_cmd() at C:\\Users\\Jess\\.julia\\packages\\MATLAB\\cVrxc\\src\\mxbase.jl:63",
      " [3] default_matlabcmd at C:\\Users\\Jess\\.julia\\packages\\MATLAB\\cVrxc\\src\\engine.jl:9 [inlined]",
      " [4] startcmd(::String) at C:\\Users\\Jess\\.julia\\packages\\MATLAB\\cVrxc\\src\\engine.jl:11",
      " [5] (::getfield(MATLAB, Symbol(\"##MSession#11#12\")))(::String, ::Type, ::Int64) at C:\\Users\\Jess\\.julia\\packages\\MATLAB\\cVrxc\\src\\engine.jl:26",
      " [6] Type at C:\\Users\\Jess\\.julia\\packages\\MATLAB\\cVrxc\\src\\engine.jl:23 [inlined] (repeats 2 times)",
      " [7] get_default_msession at C:\\Users\\Jess\\.julia\\packages\\MATLAB\\cVrxc\\src\\engine.jl:88 [inlined]",
      " [8] put_variable(::Symbol, ::StepRangeLen{Float64,Base.TwicePrecision{Float64},Base.TwicePrecision{Float64}}) at C:\\Users\\Jess\\.julia\\packages\\MATLAB\\cVrxc\\src\\engine.jl:159",
      " [9] top-level scope at C:\\Users\\Jess\\.julia\\packages\\MATLAB\\cVrxc\\src\\matstr.jl:160",
      " [10] top-level scope at In[15]:1"
     ]
    }
   ],
   "source": [
    "mat\"plot($x, sin($x))\"  # evaluate a MATLAB function\n"
   ]
  },
  {
   "cell_type": "code",
   "execution_count": null,
   "metadata": {},
   "outputs": [],
   "source": [
    "\n",
    "y = range(2.0, stop=3.0, length=500)\n",
    "mat\"\"\"\n",
    "    $u = $x + $y\n",
    "\t$v = $x - $y\n",
    "\"\"\"\n",
    "@show u v               # u and v are accessible from Julia"
   ]
  }
 ],
 "metadata": {
  "kernelspec": {
   "display_name": "Julia 1.0.0",
   "language": "julia",
   "name": "julia-1.0"
  },
  "language_info": {
   "file_extension": ".jl",
   "mimetype": "application/julia",
   "name": "julia",
   "version": "1.0.0"
  }
 },
 "nbformat": 4,
 "nbformat_minor": 2
}
