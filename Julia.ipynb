{
 "cells": [
  {
   "cell_type": "markdown",
   "metadata": {},
   "source": [
    "## Paquetes"
   ]
  },
  {
   "cell_type": "code",
   "execution_count": 2,
   "metadata": {},
   "outputs": [
    {
     "name": "stdout",
     "output_type": "stream",
     "text": [
      "\u001b[32m\u001b[1m  Updating\u001b[22m\u001b[39m registry at `C:\\Users\\Jess\\.julia\\registries\\General`\n",
      "\u001b[32m\u001b[1m  Updating\u001b[22m\u001b[39m git-repo `https://github.com/JuliaRegistries/General.git`\n",
      "\u001b[2K\u001b[36m\u001b[1mFetching:\u001b[22m\u001b[39m [========================================>]  100.0 %.0 %====>                                    ]  8.7 %>                                  ]  13.0 %30.4 %3 %38.6 % %]  47.3 % [=====================>                   ]  52.2 %2 %.5 % %>          ]  75.0 %=================================>       ]  80.4 % % [=====================================>   ]  90.8 % [=======================================> ]  96.2 %\u001b[?25h\u001b[32m\u001b[1m Resolving\u001b[22m\u001b[39m package versions...\n",
      "\u001b[32m\u001b[1m  Updating\u001b[22m\u001b[39m `C:\\Users\\Jess\\.julia\\environments\\v1.0\\Project.toml`\n",
      " \u001b[90m [8f4d0f93]\u001b[39m\u001b[92m + Conda v1.4.1\u001b[39m\n",
      "\u001b[32m\u001b[1m  Updating\u001b[22m\u001b[39m `C:\\Users\\Jess\\.julia\\environments\\v1.0\\Manifest.toml`\n",
      "\u001b[90m [no changes]\u001b[39m\n"
     ]
    }
   ],
   "source": [
    "using Pkg\n",
    "Pkg.add(\"Conda\")\n",
    "using Conda"
   ]
  },
  {
   "cell_type": "code",
   "execution_count": 8,
   "metadata": {},
   "outputs": [
    {
     "name": "stdout",
     "output_type": "stream",
     "text": [
      "\u001b[32m\u001b[1m Resolving\u001b[22m\u001b[39m package versions...\n",
      "\u001b[32m\u001b[1m  Updating\u001b[22m\u001b[39m `C:\\Users\\Jess\\.julia\\environments\\v1.0\\Project.toml`\n",
      "\u001b[90m [no changes]\u001b[39m\n",
      "\u001b[32m\u001b[1m  Updating\u001b[22m\u001b[39m `C:\\Users\\Jess\\.julia\\environments\\v1.0\\Manifest.toml`\n",
      "\u001b[90m [no changes]\u001b[39m\n"
     ]
    }
   ],
   "source": [
    "using Pkg\n",
    "Pkg.add(\"BenchmarkTools\")"
   ]
  },
  {
   "cell_type": "code",
   "execution_count": 9,
   "metadata": {},
   "outputs": [
    {
     "name": "stderr",
     "output_type": "stream",
     "text": [
      "┌ Info: Precompiling BenchmarkTools [6e4b80f9-dd63-53aa-95a3-0cdb28fa8baf]\n",
      "└ @ Base loading.jl:1186\n"
     ]
    }
   ],
   "source": [
    "using BenchmarkTools"
   ]
  },
  {
   "cell_type": "code",
   "execution_count": 10,
   "metadata": {},
   "outputs": [
    {
     "name": "stdout",
     "output_type": "stream",
     "text": [
      "\u001b[32m\u001b[1m Resolving\u001b[22m\u001b[39m package versions...\n",
      "\u001b[32m\u001b[1m  Updating\u001b[22m\u001b[39m `C:\\Users\\Jess\\.julia\\environments\\v1.0\\Project.toml`\n",
      " \u001b[90m [438e738f]\u001b[39m\u001b[92m + PyCall v1.91.3\u001b[39m\n",
      "\u001b[32m\u001b[1m  Updating\u001b[22m\u001b[39m `C:\\Users\\Jess\\.julia\\environments\\v1.0\\Manifest.toml`\n",
      "\u001b[90m [no changes]\u001b[39m\n"
     ]
    },
    {
     "name": "stderr",
     "output_type": "stream",
     "text": [
      "┌ Info: Precompiling PyCall [438e738f-606a-5dbb-bf0a-cddfbfd45ab0]\n",
      "└ @ Base loading.jl:1186\n"
     ]
    }
   ],
   "source": [
    "using Pkg\n",
    "Pkg.add(\"PyCall\")\n",
    "using PyCall"
   ]
  },
  {
   "cell_type": "code",
   "execution_count": 15,
   "metadata": {},
   "outputs": [
    {
     "name": "stdout",
     "output_type": "stream",
     "text": [
      "\u001b[32m\u001b[1m Resolving\u001b[22m\u001b[39m package versions...\n",
      "\u001b[32m\u001b[1m  Updating\u001b[22m\u001b[39m `C:\\Users\\Jess\\.julia\\environments\\v1.0\\Project.toml`\n",
      "\u001b[90m [no changes]\u001b[39m\n",
      "\u001b[32m\u001b[1m  Updating\u001b[22m\u001b[39m `C:\\Users\\Jess\\.julia\\environments\\v1.0\\Manifest.toml`\n",
      "\u001b[90m [no changes]\u001b[39m\n"
     ]
    }
   ],
   "source": [
    "# using Pkg\n",
    "Pkg.add(\"Conda\")\n",
    "using Conda"
   ]
  },
  {
   "cell_type": "code",
   "execution_count": 41,
   "metadata": {},
   "outputs": [
    {
     "name": "stderr",
     "output_type": "stream",
     "text": [
      "┌ Info: Running `conda install -y numpy` in root environment\n",
      "└ @ Conda C:\\Users\\Jess\\.julia\\packages\\Conda\\3rPhK\\src\\Conda.jl:113\n"
     ]
    },
    {
     "name": "stdout",
     "output_type": "stream",
     "text": [
      "Collecting package metadata (current_repodata.json): ...working... done\n",
      "Solving environment: ...working... done\n",
      "\n",
      "# All requested packages already installed.\n",
      "\n"
     ]
    },
    {
     "name": "stderr",
     "output_type": "stream",
     "text": [
      "┌ Warning: `getindex(o::PyObject, s::AbstractString)` is deprecated in favor of dot overloading (`getproperty`) so elements should now be accessed as e.g. `o.\"s\"` instead of `o[\"s\"]`.\n",
      "│   caller = top-level scope at In[41]:2\n",
      "└ @ Core In[41]:2\n"
     ]
    },
    {
     "data": {
      "text/plain": [
       "PyObject <function sum at 0x00000000025408C8>"
      ]
     },
     "execution_count": 41,
     "metadata": {},
     "output_type": "execute_result"
    }
   ],
   "source": [
    "Conda.add(\"numpy\")\n",
    "numpy_sum = pyimport(\"numpy\")[\"sum\"]"
   ]
  },
  {
   "cell_type": "markdown",
   "metadata": {},
   "source": [
    "## Benchmarking en Python"
   ]
  },
  {
   "cell_type": "markdown",
   "metadata": {},
   "source": [
    "Funciones propias del Lenguaje para operaciones matriciales"
   ]
  },
  {
   "cell_type": "markdown",
   "metadata": {},
   "source": [
    "##### n=10"
   ]
  },
  {
   "cell_type": "code",
   "execution_count": 52,
   "metadata": {},
   "outputs": [
    {
     "data": {
      "text/plain": [
       "PyObject <function f1 at 0x000000002DB3C268>"
      ]
     },
     "execution_count": 52,
     "metadata": {},
     "output_type": "execute_result"
    }
   ],
   "source": [
    "py\"\"\"\n",
    "import numpy as np\n",
    "def f1():\n",
    "    i=1 \n",
    "    n=10\n",
    "    A = np.random.randint(1,50,size=(n,n))\n",
    "    v = np.random.randint(1,50,size=(n))\n",
    "\n",
    "    return  A*v\n",
    "\"\"\"\n",
    "f1_py = py\"f1\""
   ]
  },
  {
   "cell_type": "code",
   "execution_count": 53,
   "metadata": {},
   "outputs": [
    {
     "data": {
      "text/plain": [
       "BenchmarkTools.Trial: \n",
       "  memory estimate:  2.05 KiB\n",
       "  allocs estimate:  29\n",
       "  --------------\n",
       "  minimum time:     47.900 μs (0.00% GC)\n",
       "  median time:      52.300 μs (0.00% GC)\n",
       "  mean time:        58.381 μs (1.07% GC)\n",
       "  maximum time:     14.558 ms (42.76% GC)\n",
       "  --------------\n",
       "  samples:          10000\n",
       "  evals/sample:     1"
      ]
     },
     "execution_count": 53,
     "metadata": {},
     "output_type": "execute_result"
    }
   ],
   "source": [
    "py_hand = @benchmark $f1_py()"
   ]
  },
  {
   "cell_type": "markdown",
   "metadata": {},
   "source": [
    "##### n=50"
   ]
  },
  {
   "cell_type": "code",
   "execution_count": 54,
   "metadata": {},
   "outputs": [
    {
     "data": {
      "text/plain": [
       "PyObject <function f2 at 0x000000002DB3C2F0>"
      ]
     },
     "execution_count": 54,
     "metadata": {},
     "output_type": "execute_result"
    }
   ],
   "source": [
    "py\"\"\"\n",
    "import numpy as np\n",
    "def f2():\n",
    "    i=1 \n",
    "    n=50\n",
    "    A = np.random.randint(1,50,size=(n,n))\n",
    "    v = np.random.randint(1,50,size=(n))\n",
    "\n",
    "    return  A*v\n",
    "\"\"\"\n",
    "f2_py = py\"f2\""
   ]
  },
  {
   "cell_type": "code",
   "execution_count": 55,
   "metadata": {},
   "outputs": [
    {
     "data": {
      "text/plain": [
       "BenchmarkTools.Trial: \n",
       "  memory estimate:  11.45 KiB\n",
       "  allocs estimate:  29\n",
       "  --------------\n",
       "  minimum time:     76.199 μs (0.00% GC)\n",
       "  median time:      87.199 μs (0.00% GC)\n",
       "  mean time:        96.777 μs (0.00% GC)\n",
       "  maximum time:     3.236 ms (0.00% GC)\n",
       "  --------------\n",
       "  samples:          10000\n",
       "  evals/sample:     1"
      ]
     },
     "execution_count": 55,
     "metadata": {},
     "output_type": "execute_result"
    }
   ],
   "source": [
    "py_hand = @benchmark $f2_py()"
   ]
  },
  {
   "cell_type": "markdown",
   "metadata": {},
   "source": [
    "##### n=100"
   ]
  },
  {
   "cell_type": "code",
   "execution_count": 56,
   "metadata": {},
   "outputs": [
    {
     "data": {
      "text/plain": [
       "PyObject <function f3 at 0x000000002DB3C378>"
      ]
     },
     "execution_count": 56,
     "metadata": {},
     "output_type": "execute_result"
    }
   ],
   "source": [
    "py\"\"\"\n",
    "import numpy as np\n",
    "def f3():\n",
    "    i=1 \n",
    "    n=100\n",
    "    A = np.random.randint(1,50,size=(n,n))\n",
    "    v = np.random.randint(1,50,size=(n))\n",
    "\n",
    "    return  A*v\n",
    "\"\"\"\n",
    "f3_py = py\"f3\""
   ]
  },
  {
   "cell_type": "code",
   "execution_count": 57,
   "metadata": {},
   "outputs": [
    {
     "data": {
      "text/plain": [
       "BenchmarkTools.Trial: \n",
       "  memory estimate:  40.66 KiB\n",
       "  allocs estimate:  30\n",
       "  --------------\n",
       "  minimum time:     160.101 μs (0.00% GC)\n",
       "  median time:      200.401 μs (0.00% GC)\n",
       "  mean time:        220.898 μs (1.69% GC)\n",
       "  maximum time:     7.079 ms (25.67% GC)\n",
       "  --------------\n",
       "  samples:          10000\n",
       "  evals/sample:     1"
      ]
     },
     "execution_count": 57,
     "metadata": {},
     "output_type": "execute_result"
    }
   ],
   "source": [
    "py_hand = @benchmark $f3_py()"
   ]
  },
  {
   "cell_type": "markdown",
   "metadata": {},
   "source": [
    "##### n=1000"
   ]
  },
  {
   "cell_type": "code",
   "execution_count": 58,
   "metadata": {},
   "outputs": [
    {
     "data": {
      "text/plain": [
       "PyObject <function f4 at 0x000000002DB3C400>"
      ]
     },
     "execution_count": 58,
     "metadata": {},
     "output_type": "execute_result"
    }
   ],
   "source": [
    "py\"\"\"\n",
    "import numpy as np\n",
    "def f4():\n",
    "    i=1 \n",
    "    n=1000\n",
    "    A = np.random.randint(1,50,size=(n,n))\n",
    "    v = np.random.randint(1,50,size=(n))\n",
    "\n",
    "    return  A*v\n",
    "\"\"\"\n",
    "f4_py = py\"f4\""
   ]
  },
  {
   "cell_type": "code",
   "execution_count": 59,
   "metadata": {},
   "outputs": [
    {
     "data": {
      "text/plain": [
       "BenchmarkTools.Trial: \n",
       "  memory estimate:  3.82 MiB\n",
       "  allocs estimate:  33\n",
       "  --------------\n",
       "  minimum time:     16.798 ms (0.00% GC)\n",
       "  median time:      17.469 ms (0.00% GC)\n",
       "  mean time:        18.430 ms (2.36% GC)\n",
       "  maximum time:     25.275 ms (9.56% GC)\n",
       "  --------------\n",
       "  samples:          272\n",
       "  evals/sample:     1"
      ]
     },
     "execution_count": 59,
     "metadata": {},
     "output_type": "execute_result"
    }
   ],
   "source": [
    "py_hand = @benchmark $f4_py()"
   ]
  },
  {
   "cell_type": "markdown",
   "metadata": {},
   "source": [
    "##### n=2000"
   ]
  },
  {
   "cell_type": "code",
   "execution_count": 60,
   "metadata": {},
   "outputs": [
    {
     "data": {
      "text/plain": [
       "PyObject <function f5 at 0x000000002DB3C488>"
      ]
     },
     "execution_count": 60,
     "metadata": {},
     "output_type": "execute_result"
    }
   ],
   "source": [
    "py\"\"\"\n",
    "import numpy as np\n",
    "def f5():\n",
    "    i=1 \n",
    "    n=2000\n",
    "    A = np.random.randint(1,50,size=(n,n))\n",
    "    v = np.random.randint(1,50,size=(n))\n",
    "\n",
    "    return  A*v\n",
    "\"\"\"\n",
    "f5_py = py\"f5\""
   ]
  },
  {
   "cell_type": "code",
   "execution_count": 61,
   "metadata": {},
   "outputs": [
    {
     "data": {
      "text/plain": [
       "BenchmarkTools.Trial: \n",
       "  memory estimate:  15.26 MiB\n",
       "  allocs estimate:  33\n",
       "  --------------\n",
       "  minimum time:     74.697 ms (0.00% GC)\n",
       "  median time:      81.140 ms (0.24% GC)\n",
       "  mean time:        81.379 ms (3.09% GC)\n",
       "  maximum time:     130.246 ms (37.82% GC)\n",
       "  --------------\n",
       "  samples:          62\n",
       "  evals/sample:     1"
      ]
     },
     "execution_count": 61,
     "metadata": {},
     "output_type": "execute_result"
    }
   ],
   "source": [
    "py_hand = @benchmark $f5_py()"
   ]
  },
  {
   "cell_type": "code",
   "execution_count": 69,
   "metadata": {},
   "outputs": [
    {
     "data": {
      "text/plain": [
       "PyObject <function f6 at 0x000000002DB3C620>"
      ]
     },
     "execution_count": 69,
     "metadata": {},
     "output_type": "execute_result"
    }
   ],
   "source": [
    "py\"\"\"\n",
    "import numpy as np\n",
    "def f6():\n",
    "    i=1 \n",
    "    n=5000\n",
    "    A = np.random.randint(1,50,size=(n,n))\n",
    "    v = np.random.randint(1,50,size=(n))\n",
    "\n",
    "    return  A*v\n",
    "\"\"\"\n",
    "f6_py = py\"f6\""
   ]
  },
  {
   "cell_type": "code",
   "execution_count": 70,
   "metadata": {},
   "outputs": [
    {
     "data": {
      "text/plain": [
       "BenchmarkTools.Trial: \n",
       "  memory estimate:  95.37 MiB\n",
       "  allocs estimate:  33\n",
       "  --------------\n",
       "  minimum time:     538.385 ms (2.80% GC)\n",
       "  median time:      546.527 ms (1.69% GC)\n",
       "  mean time:        553.699 ms (3.39% GC)\n",
       "  maximum time:     588.615 ms (8.09% GC)\n",
       "  --------------\n",
       "  samples:          10\n",
       "  evals/sample:     1"
      ]
     },
     "execution_count": 70,
     "metadata": {},
     "output_type": "execute_result"
    }
   ],
   "source": [
    "py_hand = @benchmark $f6_py()"
   ]
  },
  {
   "cell_type": "code",
   "execution_count": null,
   "metadata": {},
   "outputs": [],
   "source": []
  },
  {
   "cell_type": "markdown",
   "metadata": {},
   "source": [
    "# Benchmarking en Julia"
   ]
  },
  {
   "cell_type": "code",
   "execution_count": 75,
   "metadata": {},
   "outputs": [
    {
     "data": {
      "text/plain": [
       "10×10 Array{Int64,2}:\n",
       " 23  42  45  30  14  11  33  19  46  42\n",
       " 11   4  44  20  25  26  24  24  12   4\n",
       " 24  46  45   5   8  47  36  41  37  30\n",
       " 31  17   4   6  49  29  33  38  49   8\n",
       " 39  42  43  15  32  36  48  36  19  49\n",
       " 17  29  45  16  14  43  47  20  22  50\n",
       " 32  40  36  38  27  33  23  18  22  40\n",
       " 17  36   4   9  45  42   9  24  50  29\n",
       " 26  46  15   1  11  33  47  34  28  34\n",
       " 35  24  24   1   2   7  15  25  17   4"
      ]
     },
     "execution_count": 75,
     "metadata": {},
     "output_type": "execute_result"
    }
   ],
   "source": [
    "n=10\n",
    "A = rand(1:50,n,n)"
   ]
  },
  {
   "cell_type": "code",
   "execution_count": 78,
   "metadata": {},
   "outputs": [
    {
     "data": {
      "text/plain": [
       "10-element Array{Int64,1}:\n",
       " 37\n",
       " 11\n",
       " 21\n",
       " 48\n",
       " 14\n",
       " 29\n",
       " 46\n",
       " 30\n",
       " 26\n",
       " 19"
      ]
     },
     "execution_count": 78,
     "metadata": {},
     "output_type": "execute_result"
    }
   ],
   "source": [
    "v = rand(1:50,n)"
   ]
  },
  {
   "cell_type": "code",
   "execution_count": 79,
   "metadata": {},
   "outputs": [
    {
     "data": {
      "text/plain": [
       "BenchmarkTools.Trial: \n",
       "  memory estimate:  160 bytes\n",
       "  allocs estimate:  1\n",
       "  --------------\n",
       "  minimum time:     116.776 ns (0.00% GC)\n",
       "  median time:      126.253 ns (0.00% GC)\n",
       "  mean time:        138.898 ns (2.53% GC)\n",
       "  maximum time:     3.346 μs (0.00% GC)\n",
       "  --------------\n",
       "  samples:          10000\n",
       "  evals/sample:     918"
      ]
     },
     "execution_count": 79,
     "metadata": {},
     "output_type": "execute_result"
    }
   ],
   "source": [
    "julia_bench = @benchmark ($A*$v)"
   ]
  },
  {
   "cell_type": "code",
   "execution_count": 82,
   "metadata": {},
   "outputs": [
    {
     "data": {
      "text/plain": [
       "BenchmarkTools.Trial: \n",
       "  memory estimate:  544 bytes\n",
       "  allocs estimate:  1\n",
       "  --------------\n",
       "  minimum time:     832.419 ns (0.00% GC)\n",
       "  median time:      894.608 ns (0.00% GC)\n",
       "  mean time:        1.006 μs (1.20% GC)\n",
       "  maximum time:     9.900 μs (85.18% GC)\n",
       "  --------------\n",
       "  samples:          10000\n",
       "  evals/sample:     74"
      ]
     },
     "execution_count": 82,
     "metadata": {},
     "output_type": "execute_result"
    }
   ],
   "source": [
    "n=50\n",
    "A = rand(1:50,n,n)\n",
    "v = rand(1:50,n)\n",
    "julia_bench = @benchmark ($A*$v)"
   ]
  },
  {
   "cell_type": "code",
   "execution_count": 83,
   "metadata": {},
   "outputs": [
    {
     "data": {
      "text/plain": [
       "BenchmarkTools.Trial: \n",
       "  memory estimate:  896 bytes\n",
       "  allocs estimate:  1\n",
       "  --------------\n",
       "  minimum time:     3.050 μs (0.00% GC)\n",
       "  median time:      3.325 μs (0.00% GC)\n",
       "  mean time:        3.857 μs (0.61% GC)\n",
       "  maximum time:     373.650 μs (0.00% GC)\n",
       "  --------------\n",
       "  samples:          10000\n",
       "  evals/sample:     8"
      ]
     },
     "execution_count": 83,
     "metadata": {},
     "output_type": "execute_result"
    }
   ],
   "source": [
    "n=100\n",
    "A = rand(1:50,n,n)\n",
    "v = rand(1:50,n)\n",
    "julia_bench = @benchmark ($A*$v)"
   ]
  },
  {
   "cell_type": "code",
   "execution_count": 84,
   "metadata": {},
   "outputs": [
    {
     "data": {
      "text/plain": [
       "BenchmarkTools.Trial: \n",
       "  memory estimate:  7.94 KiB\n",
       "  allocs estimate:  1\n",
       "  --------------\n",
       "  minimum time:     413.999 μs (0.00% GC)\n",
       "  median time:      480.000 μs (0.00% GC)\n",
       "  mean time:        531.576 μs (0.00% GC)\n",
       "  maximum time:     20.897 ms (0.00% GC)\n",
       "  --------------\n",
       "  samples:          9322\n",
       "  evals/sample:     1"
      ]
     },
     "execution_count": 84,
     "metadata": {},
     "output_type": "execute_result"
    }
   ],
   "source": [
    "n=1000\n",
    "A = rand(1:50,n,n)\n",
    "v = rand(1:50,n)\n",
    "julia_bench = @benchmark ($A*$v)"
   ]
  },
  {
   "cell_type": "code",
   "execution_count": 85,
   "metadata": {},
   "outputs": [
    {
     "data": {
      "text/plain": [
       "BenchmarkTools.Trial: \n",
       "  memory estimate:  15.75 KiB\n",
       "  allocs estimate:  1\n",
       "  --------------\n",
       "  minimum time:     1.979 ms (0.00% GC)\n",
       "  median time:      2.199 ms (0.00% GC)\n",
       "  mean time:        2.322 ms (0.00% GC)\n",
       "  maximum time:     5.718 ms (0.00% GC)\n",
       "  --------------\n",
       "  samples:          2145\n",
       "  evals/sample:     1"
      ]
     },
     "execution_count": 85,
     "metadata": {},
     "output_type": "execute_result"
    }
   ],
   "source": [
    "n=2000\n",
    "A = rand(1:50,n,n)\n",
    "v = rand(1:50,n)\n",
    "julia_bench = @benchmark ($A*$v)"
   ]
  },
  {
   "cell_type": "code",
   "execution_count": 87,
   "metadata": {},
   "outputs": [
    {
     "data": {
      "text/plain": [
       "BenchmarkTools.Trial: \n",
       "  memory estimate:  39.14 KiB\n",
       "  allocs estimate:  2\n",
       "  --------------\n",
       "  minimum time:     13.013 ms (0.00% GC)\n",
       "  median time:      14.033 ms (0.00% GC)\n",
       "  mean time:        14.318 ms (0.00% GC)\n",
       "  maximum time:     18.245 ms (0.00% GC)\n",
       "  --------------\n",
       "  samples:          349\n",
       "  evals/sample:     1"
      ]
     },
     "execution_count": 87,
     "metadata": {},
     "output_type": "execute_result"
    }
   ],
   "source": [
    "n=5000\n",
    "A = rand(1:50,n,n)\n",
    "v = rand(1:50,n)\n",
    "julia_bench = @benchmark ($A*$v)"
   ]
  },
  {
   "cell_type": "code",
   "execution_count": 88,
   "metadata": {},
   "outputs": [
    {
     "data": {
      "text/plain": [
       "BenchmarkTools.Trial: \n",
       "  memory estimate:  78.20 KiB\n",
       "  allocs estimate:  2\n",
       "  --------------\n",
       "  minimum time:     55.454 ms (0.00% GC)\n",
       "  median time:      57.638 ms (0.00% GC)\n",
       "  mean time:        58.375 ms (0.00% GC)\n",
       "  maximum time:     71.082 ms (0.00% GC)\n",
       "  --------------\n",
       "  samples:          86\n",
       "  evals/sample:     1"
      ]
     },
     "execution_count": 88,
     "metadata": {},
     "output_type": "execute_result"
    }
   ],
   "source": [
    "n=10000\n",
    "A = rand(1:50,n,n)\n",
    "v = rand(1:50,n)\n",
    "julia_bench = @benchmark ($A*$v)"
   ]
  },
  {
   "cell_type": "code",
   "execution_count": null,
   "metadata": {},
   "outputs": [],
   "source": [
    "n=50000\n",
    "A = rand(1:50,n,n)\n",
    "v = rand(1:50,n)\n",
    "julia_bench = @benchmark ($A*$v)"
   ]
  },
  {
   "cell_type": "markdown",
   "metadata": {},
   "source": [
    "# Benchmarking en Matlab"
   ]
  },
  {
   "cell_type": "code",
   "execution_count": 1,
   "metadata": {},
   "outputs": [],
   "source": [
    "using Pkg"
   ]
  },
  {
   "cell_type": "code",
   "execution_count": 2,
   "metadata": {},
   "outputs": [
    {
     "name": "stdout",
     "output_type": "stream",
     "text": [
      "\u001b[32m\u001b[1m  Updating\u001b[22m\u001b[39m registry at `C:\\Users\\Jess\\.julia\\registries\\General`\n",
      "\u001b[32m\u001b[1m  Updating\u001b[22m\u001b[39m git-repo `https://github.com/JuliaRegistries/General.git`\n",
      "\u001b[2K\u001b[?25h[1mFetching:\u001b[22m\u001b[39m [========================================>]  100.0 %.0 % [==================================>      ]  82.6 %\u001b[32m\u001b[1m Resolving\u001b[22m\u001b[39m package versions...\n",
      "\u001b[32m\u001b[1m Installed\u001b[22m\u001b[39m StatsBase ─ v0.32.2\n",
      "\u001b[32m\u001b[1m  Updating\u001b[22m\u001b[39m `C:\\Users\\Jess\\.julia\\environments\\v1.0\\Project.toml`\n",
      "\u001b[90m [no changes]\u001b[39m\n",
      "\u001b[32m\u001b[1m  Updating\u001b[22m\u001b[39m `C:\\Users\\Jess\\.julia\\environments\\v1.0\\Manifest.toml`\n",
      " \u001b[90m [2913bbd2]\u001b[39m\u001b[93m ↑ StatsBase v0.32.1 ⇒ v0.32.2\u001b[39m\n"
     ]
    }
   ],
   "source": [
    "Pkg.add(\"MATLAB\")"
   ]
  },
  {
   "cell_type": "code",
   "execution_count": 3,
   "metadata": {},
   "outputs": [
    {
     "ename": "InitError",
     "evalue": "InitError: The MATLAB library path could not be found.\nduring initialization of module MATLAB",
     "output_type": "error",
     "traceback": [
      "InitError: The MATLAB library path could not be found.\nduring initialization of module MATLAB",
      "",
      "Stacktrace:",
      " [1] error(::String) at .\\error.jl:33",
      " [2] matlab_libpath at C:\\Users\\Jess\\.julia\\packages\\MATLAB\\cVrxc\\src\\mxbase.jl:47 [inlined]",
      " [3] __init__() at C:\\Users\\Jess\\.julia\\packages\\MATLAB\\cVrxc\\src\\MATLAB.jl:72",
      " [4] _include_from_serialized(::String, ::Array{Any,1}) at .\\loading.jl:627",
      " [5] macro expansion at .\\logging.jl:312 [inlined]",
      " [6] _require_search_from_serialized(::Base.PkgId, ::String) at .\\loading.jl:698",
      " [7] _require(::Base.PkgId) at .\\loading.jl:931",
      " [8] require(::Base.PkgId) at .\\loading.jl:852",
      " [9] macro expansion at .\\logging.jl:311 [inlined]",
      " [10] require(::Module, ::Symbol) at .\\loading.jl:834",
      " [11] top-level scope at In[3]:1"
     ]
    }
   ],
   "source": [
    "using MATLAB"
   ]
  },
  {
   "cell_type": "code",
   "execution_count": 4,
   "metadata": {},
   "outputs": [
    {
     "ename": "LoadError",
     "evalue": "syntax: extra token \"\"\" after end of expression",
     "output_type": "error",
     "traceback": [
      "syntax: extra token \"\"\" after end of expression",
      ""
     ]
    }
   ],
   "source": [
    "mat \" a = 6 \" "
   ]
  },
  {
   "cell_type": "code",
   "execution_count": 5,
   "metadata": {},
   "outputs": [
    {
     "ename": "LoadError",
     "evalue": "UndefVarError: @mat_str not defined",
     "output_type": "error",
     "traceback": [
      "UndefVarError: @mat_str not defined",
      ""
     ]
    }
   ],
   "source": [
    "mat\"\"\"\n",
    "import numpy as np\n",
    "def m1():\n",
    "    i=1 \n",
    "    n=5000\n",
    "    A = np.random.randint(1,50,size=(n,n))\n",
    "    v = np.random.randint(1,50,size=(n))\n",
    "\n",
    "    return  A*v\n",
    "\"\"\"\n",
    "m1_py = mat\"m1\""
   ]
  },
  {
   "cell_type": "code",
   "execution_count": 6,
   "metadata": {},
   "outputs": [
    {
     "ename": "UndefVarError",
     "evalue": "UndefVarError: matimport not defined",
     "output_type": "error",
     "traceback": [
      "UndefVarError: matimport not defined",
      "",
      "Stacktrace:",
      " [1] top-level scope at In[6]:1"
     ]
    }
   ],
   "source": [
    "numpy_sum = matimport[\"m1\"]"
   ]
  },
  {
   "cell_type": "code",
   "execution_count": 7,
   "metadata": {},
   "outputs": [
    {
     "ename": "LoadError",
     "evalue": "UndefVarError: @mat_str not defined",
     "output_type": "error",
     "traceback": [
      "UndefVarError: @mat_str not defined",
      ""
     ]
    }
   ],
   "source": [
    "mat\"\"\" a = 6 \"\"\""
   ]
  },
  {
   "cell_type": "code",
   "execution_count": 8,
   "metadata": {},
   "outputs": [
    {
     "name": "stdout",
     "output_type": "stream",
     "text": [
      "\u001b[32m\u001b[1m Resolving\u001b[22m\u001b[39m package versions...\n",
      "\u001b[32m\u001b[1m  Updating\u001b[22m\u001b[39m `C:\\Users\\Jess\\.julia\\environments\\v1.0\\Project.toml`\n",
      "\u001b[90m [no changes]\u001b[39m\n",
      "\u001b[32m\u001b[1m  Updating\u001b[22m\u001b[39m `C:\\Users\\Jess\\.julia\\environments\\v1.0\\Manifest.toml`\n",
      "\u001b[90m [no changes]\u001b[39m\n"
     ]
    }
   ],
   "source": [
    "Pkg.add(\"MATLAB\")"
   ]
  },
  {
   "cell_type": "code",
   "execution_count": 9,
   "metadata": {},
   "outputs": [
    {
     "ename": "LoadError",
     "evalue": "syntax: space before \"(\" not allowed in \"mxarray (\"",
     "output_type": "error",
     "traceback": [
      "syntax: space before \"(\" not allowed in \"mxarray (\"",
      ""
     ]
    }
   ],
   "source": [
    "mxarray (Float64, n)    # crea una matriz n-por-1 MATLAB cero de tipo de doble valor \n",
    "mxarray (Int32, m, n)   # crea una matriz m-por-n MATLAB cero de tipo \n",
    "int32 de valor mxarray (Bool, m, n)    # crea una matriz lógica MATLAB de tamaño m-by-n\n",
    "\n",
    "mxarray (Float64, (n1, n2, n3))   # crea una matriz MATLAB de tamaño n1-by-n2-by-n3\n",
    "\n",
    "mxcellarray (m, n)         # crea una matriz de celdas MATLAB \n",
    "mxstruct ( \" a \" , \" b \" , \" c \" )   # crea una estructura MATLAB con campos dados"
   ]
  },
  {
   "cell_type": "code",
   "execution_count": 11,
   "metadata": {},
   "outputs": [
    {
     "ename": "UndefVarError",
     "evalue": "UndefVarError: n1 not defined",
     "output_type": "error",
     "traceback": [
      "UndefVarError: n1 not defined",
      "",
      "Stacktrace:",
      " [1] top-level scope at In[11]:1"
     ]
    }
   ],
   "source": [
    "mxarray(Float64, (n1, n2, n3)) "
   ]
  },
  {
   "cell_type": "code",
   "execution_count": 13,
   "metadata": {},
   "outputs": [],
   "source": [
    "using MATLAB\n"
   ]
  },
  {
   "cell_type": "code",
   "execution_count": 14,
   "metadata": {},
   "outputs": [
    {
     "data": {
      "text/plain": [
       "-10.0:0.04008016032064128:10.0"
      ]
     },
     "execution_count": 14,
     "metadata": {},
     "output_type": "execute_result"
    }
   ],
   "source": [
    "\n",
    "x = range(-10.0, stop=10.0, length=500)\n"
   ]
  },
  {
   "cell_type": "code",
   "execution_count": 15,
   "metadata": {},
   "outputs": [
    {
     "ename": "ErrorException",
     "evalue": "The MATLAB path is invalid. Set the MATLAB_HOME evironmental variable to the MATLAB root.",
     "output_type": "error",
     "traceback": [
      "The MATLAB path is invalid. Set the MATLAB_HOME evironmental variable to the MATLAB root.",
      "",
      "Stacktrace:",
      " [1] error(::String) at .\\error.jl:33",
      " [2] matlab_cmd() at C:\\Users\\Jess\\.julia\\packages\\MATLAB\\cVrxc\\src\\mxbase.jl:63",
      " [3] default_matlabcmd at C:\\Users\\Jess\\.julia\\packages\\MATLAB\\cVrxc\\src\\engine.jl:9 [inlined]",
      " [4] startcmd(::String) at C:\\Users\\Jess\\.julia\\packages\\MATLAB\\cVrxc\\src\\engine.jl:11",
      " [5] (::getfield(MATLAB, Symbol(\"##MSession#11#12\")))(::String, ::Type, ::Int64) at C:\\Users\\Jess\\.julia\\packages\\MATLAB\\cVrxc\\src\\engine.jl:26",
      " [6] Type at C:\\Users\\Jess\\.julia\\packages\\MATLAB\\cVrxc\\src\\engine.jl:23 [inlined] (repeats 2 times)",
      " [7] get_default_msession at C:\\Users\\Jess\\.julia\\packages\\MATLAB\\cVrxc\\src\\engine.jl:88 [inlined]",
      " [8] put_variable(::Symbol, ::StepRangeLen{Float64,Base.TwicePrecision{Float64},Base.TwicePrecision{Float64}}) at C:\\Users\\Jess\\.julia\\packages\\MATLAB\\cVrxc\\src\\engine.jl:159",
      " [9] top-level scope at C:\\Users\\Jess\\.julia\\packages\\MATLAB\\cVrxc\\src\\matstr.jl:160",
      " [10] top-level scope at In[15]:1"
     ]
    }
   ],
   "source": [
    "mat\"plot($x, sin($x))\"  # evaluate a MATLAB function\n"
   ]
  },
  {
   "cell_type": "code",
   "execution_count": null,
   "metadata": {},
   "outputs": [],
   "source": [
    "\n",
    "y = range(2.0, stop=3.0, length=500)\n",
    "mat\"\"\"\n",
    "    $u = $x + $y\n",
    "\t$v = $x - $y\n",
    "\"\"\"\n",
    "@show u v               # u and v are accessible from Julia"
   ]
  }
 ],
 "metadata": {
  "kernelspec": {
   "display_name": "Julia 1.0.0",
   "language": "julia",
   "name": "julia-1.0"
  },
  "language_info": {
   "file_extension": ".jl",
   "mimetype": "application/julia",
   "name": "julia",
   "version": "1.0.0"
  }
 },
 "nbformat": 4,
 "nbformat_minor": 2
}
