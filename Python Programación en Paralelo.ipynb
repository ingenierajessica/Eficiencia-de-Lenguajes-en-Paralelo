{
 "cells": [
  {
   "cell_type": "markdown",
   "metadata": {},
   "source": [
    "# Programación en Paralelo"
   ]
  },
  {
   "cell_type": "markdown",
   "metadata": {},
   "source": [
    "## Hilos daemon"
   ]
  },
  {
   "cell_type": "code",
   "execution_count": 15,
   "metadata": {},
   "outputs": [
    {
     "name": "stderr",
     "output_type": "stream",
     "text": [
      "20:40:57: Main    : antes de crear thread (hilo)\n",
      "20:40:57: Main    : antes de correr thread (hilo)\n",
      "20:40:57: Thread 1: Empezando\n",
      "20:40:57: Main    : espera a que termine el thread(hilo)\n",
      "20:40:57: Main    : todo listo\n",
      "20:40:59: Thread 1: Terminando\n"
     ]
    }
   ],
   "source": [
    "import logging\n",
    "import threading\n",
    "import time\n",
    "\n",
    "def thread_function(name):\n",
    "    logging.info(\"Thread %s: Empezando\", name)\n",
    "    time.sleep(2)\n",
    "    logging.info(\"Thread %s: Terminando\", name)\n",
    "\n",
    "if __name__ == \"__main__\":\n",
    "    format = \"%(asctime)s: %(message)s\"\n",
    "    logging.basicConfig(format=format, level=logging.INFO,\n",
    "                        datefmt=\"%H:%M:%S\")\n",
    "\n",
    "    logging.info(\"Main    : antes de crear thread (hilo)\")\n",
    "    x = threading.Thread(target=thread_function, args=(1,))\n",
    "    logging.info(\"Main    : antes de correr thread (hilo)\")\n",
    "    x.start()\n",
    "    logging.info(\"Main    : espera a que termine el thread(hilo)\")\n",
    "    # x.join()\n",
    "    logging.info(\"Main    : todo listo\")"
   ]
  },
  {
   "cell_type": "markdown",
   "metadata": {},
   "source": [
    "## Hilos con Join"
   ]
  },
  {
   "cell_type": "code",
   "execution_count": 20,
   "metadata": {},
   "outputs": [
    {
     "name": "stderr",
     "output_type": "stream",
     "text": [
      "02:37:47: Main    : Crea e inicializa el hilo 0.\n",
      "02:37:47: Thread 0: Empezando\n",
      "02:37:47: Main    : Crea e inicializa el hilo 1.\n",
      "02:37:47: Thread 1: Empezando\n",
      "02:37:47: Main    : Crea e inicializa el hilo 2.\n",
      "02:37:47: Thread 2: Empezando\n",
      "02:37:47: Main    : Crea e inicializa el hilo 3.\n",
      "02:37:47: Thread 3: Empezando\n",
      "02:37:47: Main    : Crea e inicializa el hilo 4.\n",
      "02:37:47: Thread 4: Empezando\n",
      "02:37:47: Main    : antes de unir al thread(hilo) 0.\n",
      "02:37:49: Thread 0: Terminando\n",
      "02:37:49: Main    : thread 0 creado\n",
      "02:37:49: Main    : antes de unir al thread(hilo) 1.\n",
      "02:37:49: Thread 1: Terminando\n",
      "02:37:49: Main    : thread 1 creado\n",
      "02:37:49: Main    : antes de unir al thread(hilo) 2.\n",
      "02:37:49: Thread 2: Terminando\n",
      "02:37:49: Main    : thread 2 creado\n",
      "02:37:49: Main    : antes de unir al thread(hilo) 3.\n",
      "02:37:49: Thread 3: Terminando\n",
      "02:37:49: Main    : thread 3 creado\n",
      "02:37:49: Main    : antes de unir al thread(hilo) 4.\n",
      "02:37:49: Thread 4: Terminando\n",
      "02:37:49: Main    : thread 4 creado\n"
     ]
    }
   ],
   "source": [
    "import logging\n",
    "import threading\n",
    "import time\n",
    "\n",
    "def thread_function(name):\n",
    "    logging.info(\"Thread %s: Empezando\", name)\n",
    "    time.sleep(2)\n",
    "    logging.info(\"Thread %s: Terminando\", name)\n",
    "\n",
    "if __name__ == \"__main__\":\n",
    "    format = \"%(asctime)s: %(message)s\"\n",
    "    logging.basicConfig(format=format, level=logging.INFO,\n",
    "                        datefmt=\"%H:%M:%S\")\n",
    "\n",
    "    threads = list()\n",
    "    for index in range(5):\n",
    "        logging.info(\"Main    : Crea e inicializa el hilo %d.\", index)\n",
    "        x = threading.Thread(target=thread_function, args=(index,))\n",
    "        threads.append(x)\n",
    "        x.start()\n",
    "\n",
    "    for index, thread in enumerate(threads):\n",
    "        logging.info(\"Main    : antes de unir al thread(hilo) %d.\", index)\n",
    "        thread.join()\n",
    "        logging.info(\"Main    : thread %d creado\", index)\n",
    "        \n",
    "#Python te ofrece varias primitivas que verás más adelante para ayudar a coordinar los hilos y hacerlos funcionar juntos"
   ]
  },
  {
   "cell_type": "markdown",
   "metadata": {},
   "source": [
    "## Usando un ThreadPoolExecutor"
   ]
  },
  {
   "cell_type": "code",
   "execution_count": 23,
   "metadata": {},
   "outputs": [
    {
     "name": "stderr",
     "output_type": "stream",
     "text": [
      "02:41:19: Thread 0: Empezando\n",
      "02:41:19: Thread 1: Empezando\n",
      "02:41:19: Thread 2: Empezando\n",
      "02:41:19: Thread 4: Empezando\n",
      "02:41:19: Thread 3: Empezando\n",
      "02:41:19: Thread 5: Empezando\n",
      "02:41:19: Thread 6: Empezando\n",
      "02:41:19: Thread 7: Empezando\n",
      "02:41:21: Thread 0: Terminando\n",
      "02:41:21: Thread 1: Terminando\n",
      "02:41:21: Thread 2: Terminando\n",
      "02:41:21: Thread 3: Terminando\n",
      "02:41:21: Thread 4: Terminando\n",
      "02:41:21: Thread 5: Terminando\n",
      "02:41:21: Thread 6: Terminando\n",
      "02:41:21: Thread 7: Terminando\n"
     ]
    }
   ],
   "source": [
    "import concurrent.futures\n",
    "\n",
    "# [rest of code]\n",
    "\n",
    "if __name__ == \"__main__\":\n",
    "    format = \"%(asctime)s: %(message)s\"\n",
    "    logging.basicConfig(format=format, level=logging.INFO,\n",
    "                        datefmt=\"%H:%M:%S\")\n",
    "\n",
    "    with concurrent.futures.ThreadPoolExecutor(max_workers=8) as executor:\n",
    "        executor.map(thread_function, range(8))"
   ]
  },
  {
   "cell_type": "code",
   "execution_count": 29,
   "metadata": {},
   "outputs": [
    {
     "name": "stderr",
     "output_type": "stream",
     "text": [
      "03:34:56: Probando la Actualización. Inicializando el valor es  0.\n",
      "03:34:56: Thread 0: Actualiza el inicio\n",
      "03:34:56: Thread 1: Actualiza el inicio\n",
      "03:34:56: Thread 0: Actualiza el término\n",
      "03:34:56: Thread 2: Actualiza el inicio\n",
      "03:34:56: Thread 1: Actualiza el término\n",
      "03:34:56: Thread 3: Actualiza el inicio\n",
      "03:34:56: Thread 2: Actualiza el término\n",
      "03:34:56: Thread 4: Actualiza el inicio\n",
      "03:34:56: Thread 3: Actualiza el término\n",
      "03:34:56: Thread 4: Actualiza el término\n",
      "03:34:56: Probando la actualización.Terminando el valor es 3.\n"
     ]
    }
   ],
   "source": [
    "class FakeDatabase:\n",
    "    def __init__(self):\n",
    "        self.value = 0\n",
    "\n",
    "    def update(self, name):\n",
    "        logging.info(\"Thread %s: Actualiza el inicio\", name)\n",
    "        local_copy = self.value\n",
    "        local_copy += 1\n",
    "        time.sleep(0.1)\n",
    "        self.value = local_copy\n",
    "        logging.info(\"Thread %s: Actualiza el término\", name)\n",
    "\n",
    "if __name__ == \"__main__\":\n",
    "    format = \"%(asctime)s: %(message)s\"\n",
    "    logging.basicConfig(format=format, level=logging.INFO,\n",
    "                        datefmt=\"%H:%M:%S\")\n",
    "\n",
    "    database = FakeDatabase()\n",
    "    logging.info(\"Probando la Actualización. Inicializando el valor es  %d.\", database.value)\n",
    "    with concurrent.futures.ThreadPoolExecutor(max_workers=2) as executor:\n",
    "        for index in range(5):\n",
    "            executor.submit(database.update, index)\n",
    "    logging.info(\"Probando la actualización.Terminando el valor es %d.\", database.value)"
   ]
  },
  {
   "cell_type": "code",
   "execution_count": 1,
   "metadata": {},
   "outputs": [],
   "source": [
    "import os\n",
    "import time\n",
    "import threading\n",
    "import multiprocessing\n",
    " \n",
    "NUM_WORKERS = 4\n",
    " \n",
    "def only_sleep():\n",
    "    \"\"\" Do nothing, wait for a timer to expire \"\"\"\n",
    "    print(\"PID: %s, Process Name: %s, Thread Name: %s\" % (\n",
    "        os.getpid(),\n",
    "        multiprocessing.current_process().name,\n",
    "        threading.current_thread().name)\n",
    "    )\n",
    "    time.sleep(1)\n",
    " \n",
    " \n",
    "def crunch_numbers():\n",
    "    \"\"\" Do some computations \"\"\"\n",
    "    print(\"PID: %s, Process Name: %s, Thread Name: %s\" % (\n",
    "        os.getpid(),\n",
    "        multiprocessing.current_process().name,\n",
    "        threading.current_thread().name)\n",
    "    )\n",
    "    x = 0\n",
    "    while x < 10000000:\n",
    "        x += 1"
   ]
  },
  {
   "cell_type": "code",
   "execution_count": 2,
   "metadata": {},
   "outputs": [
    {
     "name": "stdout",
     "output_type": "stream",
     "text": [
      "PID: 2828, Process Name: MainProcess, Thread Name: MainThread\n",
      "PID: 2828, Process Name: MainProcess, Thread Name: MainThread\n",
      "PID: 2828, Process Name: MainProcess, Thread Name: MainThread\n",
      "PID: 2828, Process Name: MainProcess, Thread Name: MainThread\n",
      "Serial time= 4.002037525177002\n",
      "PID: 2828, Process Name: MainProcess, Thread Name: Thread-6\n",
      "PID: 2828, Process Name: MainProcess, Thread Name: Thread-7\n",
      "PID: 2828, Process Name: MainProcess, Thread Name: Thread-8\n",
      "PID: 2828, Process Name: MainProcess, Thread Name: Thread-9\n",
      "Threads time= 1.0158934593200684\n",
      "PID: 2828, Process Name: MainProcess, Thread Name: MainThread\n",
      "PID: 2828, Process Name: MainProcess, Thread Name: MainThread\n",
      "PID: 2828, Process Name: MainProcess, Thread Name: MainThread\n",
      "PID: 2828, Process Name: MainProcess, Thread Name: MainThread\n",
      "Parallel time= 4.169016361236572\n"
     ]
    }
   ],
   "source": [
    "## Run tasks serially\n",
    "start_time = time.time()\n",
    "for _ in range(NUM_WORKERS):\n",
    "    only_sleep()\n",
    "end_time = time.time()\n",
    " \n",
    "print(\"Serial time=\", end_time - start_time)\n",
    " \n",
    "# Run tasks using threads\n",
    "start_time = time.time()\n",
    "threads = [threading.Thread(target=only_sleep) for _ in range(NUM_WORKERS)]\n",
    "[thread.start() for thread in threads]\n",
    "[thread.join() for thread in threads]\n",
    "end_time = time.time()\n",
    " \n",
    "print(\"Threads time=\", end_time - start_time)\n",
    " \n",
    "# Run tasks using processes\n",
    "start_time = time.time()\n",
    "processes = [multiprocessing.Process(target=only_sleep()) for _ in range(NUM_WORKERS)]\n",
    "[process.start() for process in processes]\n",
    "[process.join() for process in processes]\n",
    "end_time = time.time()\n",
    " \n",
    "print(\"Parallel time=\", end_time - start_time)"
   ]
  },
  {
   "cell_type": "code",
   "execution_count": 3,
   "metadata": {},
   "outputs": [
    {
     "name": "stdout",
     "output_type": "stream",
     "text": [
      "PID: 2828, Process Name: MainProcess, Thread Name: MainThread\n",
      "PID: 2828, Process Name: MainProcess, Thread Name: MainThread\n",
      "PID: 2828, Process Name: MainProcess, Thread Name: MainThread\n",
      "PID: 2828, Process Name: MainProcess, Thread Name: MainThread\n",
      "Serial time= 2.0026726722717285\n",
      "PID: 2828, Process Name: MainProcess, Thread Name: Thread-10\n",
      "PID: 2828, Process Name: MainProcess, Thread Name: Thread-11\n",
      "PID: 2828, Process Name: MainProcess, Thread Name: Thread-12\n",
      "PID: 2828, Process Name: MainProcess, Thread Name: Thread-13\n",
      "Threads time= 2.027620553970337\n",
      "Parallel time= 0.150834321975708\n"
     ]
    }
   ],
   "source": [
    "start_time = time.time()\n",
    "for _ in range(NUM_WORKERS):\n",
    "    crunch_numbers()\n",
    "end_time = time.time()\n",
    " \n",
    "print(\"Serial time=\", end_time - start_time)\n",
    " \n",
    "start_time = time.time()\n",
    "threads = [threading.Thread(target=crunch_numbers) for _ in range(NUM_WORKERS)]\n",
    "[thread.start() for thread in threads]\n",
    "[thread.join() for thread in threads]\n",
    "end_time = time.time()\n",
    " \n",
    "print(\"Threads time=\", end_time - start_time)\n",
    " \n",
    " \n",
    "start_time = time.time()\n",
    "processes = [multiprocessing.Process(target=crunch_numbers) for _ in range(NUM_WORKERS)]\n",
    "[process.start() for process in processes]\n",
    "[process.join() for process in processes]\n",
    "end_time = time.time()\n",
    " \n",
    "print(\"Parallel time=\", end_time - start_time)"
   ]
  },
  {
   "cell_type": "markdown",
   "metadata": {},
   "source": [
    "## Matrices"
   ]
  },
  {
   "cell_type": "code",
   "execution_count": 34,
   "metadata": {},
   "outputs": [
    {
     "ename": "ValueError",
     "evalue": "invalid literal for int() with base 10: '-f'",
     "output_type": "error",
     "traceback": [
      "\u001b[1;31m---------------------------------------------------------------------------\u001b[0m",
      "\u001b[1;31mValueError\u001b[0m                                Traceback (most recent call last)",
      "\u001b[1;32m<ipython-input-34-e22edf0b39c5>\u001b[0m in \u001b[0;36m<module>\u001b[1;34m\u001b[0m\n\u001b[0;32m     52\u001b[0m \u001b[1;33m\u001b[0m\u001b[0m\n\u001b[0;32m     53\u001b[0m \u001b[1;32mif\u001b[0m \u001b[0m__name__\u001b[0m \u001b[1;33m==\u001b[0m \u001b[1;34m\"__main__\"\u001b[0m\u001b[1;33m:\u001b[0m\u001b[1;33m\u001b[0m\u001b[1;33m\u001b[0m\u001b[0m\n\u001b[1;32m---> 54\u001b[1;33m     \u001b[0msys\u001b[0m\u001b[1;33m.\u001b[0m\u001b[0mexit\u001b[0m\u001b[1;33m(\u001b[0m\u001b[0mmain\u001b[0m\u001b[1;33m(\u001b[0m\u001b[1;33m)\u001b[0m\u001b[1;33m)\u001b[0m\u001b[1;33m\u001b[0m\u001b[1;33m\u001b[0m\u001b[0m\n\u001b[0m\u001b[0;32m     55\u001b[0m \u001b[1;33m\u001b[0m\u001b[0m\n",
      "\u001b[1;32m<ipython-input-34-e22edf0b39c5>\u001b[0m in \u001b[0;36mmain\u001b[1;34m(argv)\u001b[0m\n\u001b[0;32m     27\u001b[0m         \u001b[0margv\u001b[0m \u001b[1;33m=\u001b[0m \u001b[0msys\u001b[0m\u001b[1;33m.\u001b[0m\u001b[0margv\u001b[0m\u001b[1;33m\u001b[0m\u001b[1;33m\u001b[0m\u001b[0m\n\u001b[0;32m     28\u001b[0m \u001b[1;33m\u001b[0m\u001b[0m\n\u001b[1;32m---> 29\u001b[1;33m     \u001b[0mn\u001b[0m \u001b[1;33m=\u001b[0m \u001b[0mint\u001b[0m\u001b[1;33m(\u001b[0m\u001b[0margv\u001b[0m\u001b[1;33m[\u001b[0m\u001b[1;36m1\u001b[0m\u001b[1;33m]\u001b[0m\u001b[1;33m)\u001b[0m\u001b[1;33m\u001b[0m\u001b[1;33m\u001b[0m\u001b[0m\n\u001b[0m\u001b[0;32m     30\u001b[0m     \u001b[0mniters\u001b[0m \u001b[1;33m=\u001b[0m \u001b[0mint\u001b[0m\u001b[1;33m(\u001b[0m\u001b[0margv\u001b[0m\u001b[1;33m[\u001b[0m\u001b[1;36m2\u001b[0m\u001b[1;33m]\u001b[0m\u001b[1;33m)\u001b[0m\u001b[1;33m\u001b[0m\u001b[1;33m\u001b[0m\u001b[0m\n\u001b[0;32m     31\u001b[0m     \u001b[0ma\u001b[0m\u001b[1;33m,\u001b[0m\u001b[0mb\u001b[0m \u001b[1;33m=\u001b[0m \u001b[0minit\u001b[0m\u001b[1;33m(\u001b[0m\u001b[0mn\u001b[0m\u001b[1;33m)\u001b[0m\u001b[1;33m\u001b[0m\u001b[1;33m\u001b[0m\u001b[0m\n",
      "\u001b[1;31mValueError\u001b[0m: invalid literal for int() with base 10: '-f'"
     ]
    }
   ],
   "source": [
    "#!/usr/bin/env python\n",
    "import numpy\n",
    "import numpy.random\n",
    "import numpy.linalg\n",
    "import sys\n",
    "import time\n",
    "\n",
    "def init(n):\n",
    "    a = numpy.matrix(numpy.random.rand(n,n))\n",
    "    b = numpy.random.rand(n,1)\n",
    "    b = b.reshape((n,1))\n",
    "    return a,b\n",
    "\n",
    "def np_mult(a, b):\n",
    "    c = numpy.multiply(a,b)\n",
    "    return c\n",
    "\n",
    "def manual_mult(a,b):\n",
    "    c = numpy.matrix(numpy.zeros_like(a))\n",
    "    for i in range(0,a.shape[0]):\n",
    "        for j in range(0,a.shape[1]):\n",
    "             c[i,j] = a[i,j] * b[i]\n",
    "    return c\n",
    "\n",
    "def main(argv=None):\n",
    "    if argv is None:\n",
    "        argv = sys.argv\n",
    "\n",
    "    n = int(argv[1])\n",
    "    niters = int(argv[2])\n",
    "    a,b = init(n)\n",
    "\n",
    "    start = time.time()\n",
    "    for i in xrange(niters):\n",
    "        cnp = np_mult(a,b)\n",
    "    end = time.time()\n",
    "\n",
    "    nptime = (end-start)/niters\n",
    "    print('Numpy: ', nptime)\n",
    "\n",
    "    start = time.time()\n",
    "    for i in xrange(niters):\n",
    "        cm = manual_mult(a,b)\n",
    "    end = time.time()\n",
    "\n",
    "    manualtime = (end-start)/niters\n",
    "    print('Manual: ', manualtime)\n",
    "    print('Speed difference = ', manualtime/nptime)\n",
    "    print('Diff = ', numpy.linalg.norm(cm - cnp)/numpy.linalg.norm(cnp))\n",
    "\n",
    "    return 0\n",
    "\n",
    "if __name__ == \"__main__\":\n",
    "    sys.exit(main())\n",
    "    "
   ]
  },
  {
   "cell_type": "code",
   "execution_count": 35,
   "metadata": {},
   "outputs": [],
   "source": [
    "  argv = sys.argv"
   ]
  },
  {
   "cell_type": "code",
   "execution_count": 36,
   "metadata": {},
   "outputs": [
    {
     "data": {
      "text/plain": [
       "['c:\\\\users\\\\jess\\\\appdata\\\\local\\\\programs\\\\python\\\\python37\\\\lib\\\\site-packages\\\\ipykernel_launcher.py',\n",
       " '-f',\n",
       " 'C:\\\\Users\\\\Jess\\\\AppData\\\\Roaming\\\\jupyter\\\\runtime\\\\kernel-7e9ee413-d461-4837-9050-898481d36f84.json']"
      ]
     },
     "execution_count": 36,
     "metadata": {},
     "output_type": "execute_result"
    }
   ],
   "source": [
    "argv"
   ]
  },
  {
   "cell_type": "code",
   "execution_count": 40,
   "metadata": {},
   "outputs": [],
   "source": [
    "    def mv_mult(start_col,end_col,M,V):\n",
    "    for i in range(0,M.shape[0]):\n",
    "        for j in range(start_col,end_col):\n",
    "            M[i,j] = M[i,j] * V[i,0]\n",
    "\n",
    "    num_threads = multiprocessing.cpu_count()\n",
    "    threads = []\n",
    "    extra = temp.shape[1] % num_threads\n",
    "    start_col = 0\n",
    "    jump = temp.shape[1] / num_threads\n",
    "    for i in range(0,num_threads):\n",
    "        print('starting thread ', i)\n",
    "        if (i <  extra):\n",
    "            args = start_col, start_col+jump+1,temp,h\n",
    "            p = multiprocessing.Process(target=mv_mult,args=args)\n",
    "            p.start()\n",
    "            threads.append(p)\n",
    "            start_col += jump+1\n",
    "        else:\n",
    "            args = start_col, start_col+jump,temp,h\n",
    "            p = multiprocessing.Process(target=mv_mult,args=args)\n",
    "            p.start()\n",
    "            threads.append(p)\n",
    "            start_col += jump\n",
    "\n",
    "    for i in threads:\n",
    "        i.join()"
   ]
  },
  {
   "cell_type": "code",
   "execution_count": 47,
   "metadata": {},
   "outputs": [
    {
     "name": "stderr",
     "output_type": "stream",
     "text": [
      "ERROR: Could not find a version that satisfies the requirement handythread (from versions: none)\n",
      "ERROR: No matching distribution found for handythread\n"
     ]
    }
   ],
   "source": [
    "!pip install handythread"
   ]
  },
  {
   "cell_type": "code",
   "execution_count": 46,
   "metadata": {},
   "outputs": [
    {
     "ename": "ModuleNotFoundError",
     "evalue": "No module named 'handythread'",
     "output_type": "error",
     "traceback": [
      "\u001b[1;31m---------------------------------------------------------------------------\u001b[0m",
      "\u001b[1;31mModuleNotFoundError\u001b[0m                       Traceback (most recent call last)",
      "\u001b[1;32m<ipython-input-46-d6510f1215bf>\u001b[0m in \u001b[0;36m<module>\u001b[1;34m\u001b[0m\n\u001b[0;32m     11\u001b[0m \u001b[1;33m\u001b[0m\u001b[0m\n\u001b[0;32m     12\u001b[0m \u001b[1;33m\u001b[0m\u001b[0m\n\u001b[1;32m---> 13\u001b[1;33m \u001b[1;32mfrom\u001b[0m \u001b[0mhandythread\u001b[0m \u001b[1;32mimport\u001b[0m \u001b[0mforeach\u001b[0m\u001b[1;33m\u001b[0m\u001b[1;33m\u001b[0m\u001b[0m\n\u001b[0m\u001b[0;32m     14\u001b[0m \u001b[1;32mfrom\u001b[0m \u001b[0mprocessing\u001b[0m \u001b[1;32mimport\u001b[0m \u001b[0mPool\u001b[0m\u001b[1;33m\u001b[0m\u001b[1;33m\u001b[0m\u001b[0m\n\u001b[0;32m     15\u001b[0m \u001b[1;32mfrom\u001b[0m \u001b[0mtimings\u001b[0m \u001b[1;32mimport\u001b[0m \u001b[0mf\u001b[0m\u001b[1;33m,\u001b[0m\u001b[0mg\u001b[0m\u001b[1;33m\u001b[0m\u001b[1;33m\u001b[0m\u001b[0m\n",
      "\u001b[1;31mModuleNotFoundError\u001b[0m: No module named 'handythread'"
     ]
    }
   ],
   "source": [
    "import numpy as np\n",
    "import math\n",
    "def f(x):\n",
    "    print(x)\n",
    "    y = [1]*10000000\n",
    "    [math.exp(i) for i in y]\n",
    "def g(x):\n",
    "    print(x)\n",
    "    y = np.ones(10000000)\n",
    "    np.exp(y)\n",
    "\n",
    "\n",
    "from handythread import foreach\n",
    "from processing import Pool\n",
    "from timings import f,g\n",
    "\n",
    "def fornorm(f,l):\n",
    "    for i in l:\n",
    "        f(i)\n",
    "        \n",
    "time(fornorm(g,range(100)))\n",
    "\n",
    "time(fornorm(f,range(10)))\n",
    "time(foreach(g,range(100),threads=2))\n",
    "time(foreach(f,range(10),threads=2))\n",
    "p = Pool(2)\n",
    "time(p.map(g,range(100)))\n",
    "time(p.map(f,range(100)))"
   ]
  },
  {
   "cell_type": "code",
   "execution_count": null,
   "metadata": {},
   "outputs": [],
   "source": []
  }
 ],
 "metadata": {
  "kernelspec": {
   "display_name": "Python 3",
   "language": "python",
   "name": "python3"
  },
  "language_info": {
   "codemirror_mode": {
    "name": "ipython",
    "version": 3
   },
   "file_extension": ".py",
   "mimetype": "text/x-python",
   "name": "python",
   "nbconvert_exporter": "python",
   "pygments_lexer": "ipython3",
   "version": "3.7.6"
  }
 },
 "nbformat": 4,
 "nbformat_minor": 4
}
