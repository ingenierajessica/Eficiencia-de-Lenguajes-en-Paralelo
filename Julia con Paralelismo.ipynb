{
 "cells": [
  {
   "cell_type": "markdown",
   "metadata": {},
   "source": [
    "# Fibonacci.\n",
    "Implementación en Julia del algoritmo de Fibonacci.\n",
    "Julia es una opción realmente concisa porqué incluye álgebra de matrices como parte del lenguaje.\n",
    "Su algoritmo de exponenciación por defecto es el de exponenciación rápida basado en elevar al cuadrado."
   ]
  },
  {
   "cell_type": "code",
   "execution_count": 1,
   "metadata": {},
   "outputs": [
    {
     "data": {
      "text/plain": [
       "fastfibo (generic function with 1 method)"
      ]
     },
     "execution_count": 1,
     "metadata": {},
     "output_type": "execute_result"
    }
   ],
   "source": [
    "function fastfibo(n)\n",
    "    ([BigInt(0) 1; 1 1]^n)[1,2]\n",
    "end"
   ]
  },
  {
   "cell_type": "code",
   "execution_count": 5,
   "metadata": {},
   "outputs": [],
   "source": [
    "using Distributed"
   ]
  },
  {
   "cell_type": "code",
   "execution_count": 18,
   "metadata": {},
   "outputs": [],
   "source": [
    "@everywhere function fib(n)\n",
    "    if (n < 2)\n",
    "        return n\n",
    "    else return fib(n-1) + fib(n-2)\n",
    "    end\n",
    "end"
   ]
  },
  {
   "cell_type": "code",
   "execution_count": 19,
   "metadata": {},
   "outputs": [],
   "source": [
    "@everywhere function fib_parallel(n)\n",
    "    if (n < 40)\n",
    "        return fib(n)\n",
    "    else\n",
    "        x = @spawn fib_parallel(n-1)\n",
    "        y = fib_parallel(n-2)\n",
    "        return fetch(x) + y\n",
    "    end\n",
    "end"
   ]
  },
  {
   "cell_type": "code",
   "execution_count": 20,
   "metadata": {},
   "outputs": [
    {
     "data": {
      "text/plain": [
       "102334155"
      ]
     },
     "execution_count": 20,
     "metadata": {},
     "output_type": "execute_result"
    }
   ],
   "source": [
    "fib_parallel(40)"
   ]
  },
  {
   "cell_type": "code",
   "execution_count": 21,
   "metadata": {},
   "outputs": [
    {
     "name": "stdout",
     "output_type": "stream",
     "text": [
      " 18.364512 seconds (67.74 k allocations: 3.511 MiB)\n"
     ]
    }
   ],
   "source": [
    " @time [fib_parallel(i) for i=1:45];"
   ]
  },
  {
   "cell_type": "code",
   "execution_count": 22,
   "metadata": {},
   "outputs": [
    {
     "ename": "LoadError",
     "evalue": "UndefVarError: @parallel not defined",
     "output_type": "error",
     "traceback": [
      "UndefVarError: @parallel not defined",
      ""
     ]
    }
   ],
   "source": [
    "@time @parallel for i=1:4 println(fib(45)) end"
   ]
  },
  {
   "cell_type": "code",
   "execution_count": 23,
   "metadata": {},
   "outputs": [
    {
     "ename": "LoadError",
     "evalue": "UndefVarError: @parallel not defined",
     "output_type": "error",
     "traceback": [
      "UndefVarError: @parallel not defined",
      ""
     ]
    }
   ],
   "source": [
    "@parallel for i=1:4\n",
    "a[i] = i\n",
    "end\n"
   ]
  },
  {
   "cell_type": "code",
   "execution_count": null,
   "metadata": {},
   "outputs": [],
   "source": []
  }
 ],
 "metadata": {
  "kernelspec": {
   "display_name": "Julia 1.0.0",
   "language": "julia",
   "name": "julia-1.0"
  },
  "language_info": {
   "file_extension": ".jl",
   "mimetype": "application/julia",
   "name": "julia",
   "version": "1.0.0"
  }
 },
 "nbformat": 4,
 "nbformat_minor": 4
}
