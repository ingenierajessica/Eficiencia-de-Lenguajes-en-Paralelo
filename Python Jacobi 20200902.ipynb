{
 "cells": [
  {
   "cell_type": "code",
   "execution_count": 11,
   "metadata": {},
   "outputs": [],
   "source": [
    "import numpy as np\n",
    "from numba import jit\n",
    "import random"
   ]
  },
  {
   "cell_type": "markdown",
   "metadata": {},
   "source": [
    "# Algoritmo de Gradiente Conjugado"
   ]
  },
  {
   "cell_type": "markdown",
   "metadata": {},
   "source": [
    "<h2>Contenido</h2>\n",
    "\n",
    "- [Implementación](#Implementación) \n",
    "- [Seidel](#Seidel) \n",
    "- [Referencías](#Referencias)"
   ]
  },
  {
   "cell_type": "markdown",
   "metadata": {},
   "source": [
    "<h2>Implementación</h2>"
   ]
  },
  {
   "cell_type": "code",
   "execution_count": 2,
   "metadata": {},
   "outputs": [],
   "source": [
    "def jacobi(A,b,error):\n",
    "    n = A.shape[0]\n",
    "    x = np.zeros(n)\n",
    "    iter = 0\n",
    "    res = b - dot(A,x)\n",
    "    while norm(res) > error:\n",
    "        x = array([ (b[k] - dot( A[k, arange(n)!=k], x[arange(n)!=k] ))/A[k,k] for k in arange(n) ])\n",
    "        res = b - dot(A,x)\n",
    "        iter = iter + 1\n",
    "    return x, iter\n"
   ]
  },
  {
   "cell_type": "code",
   "execution_count": 3,
   "metadata": {},
   "outputs": [],
   "source": [
    "import numpy.matlib \n",
    "import numpy as np \n",
    "a = np.array([[1,2],[3,4]]) \n",
    "b = np.array([[11,12],[13,14]]) \n",
    "np.dot(a,b)\n",
    "\n",
    "#A = np.array([ [4.0, 1, 2], [3,5,1], [1,1,3] ])\n",
    "A = np.array([[3,-1,0,0,0,0.5],[-1,3,-1,0,0.5,0],[0,-1,3,-1,0,0],[0,0,-1,3,-1,0],[0,0.5,0,-1,3,-1],[0.5,0,0,0,-1,3]])\n",
    "#b = np.array([4.0, 7, 3])\n",
    "b=np.array([5/2,3/2,1,1,3/2,5/2])\n",
    "def jacobi(A,b,error):\n",
    "    n = A.shape[0]\n",
    "    x = np.zeros(n)\n",
    "    iter = 0\n",
    "    res = b - np.dot(A,x)\n",
    "    while np.linalg.norm(res) > error:\n",
    "        x = np.array([ (b[k] - np.dot( A[k, np.arange(n)!=k], x[np.arange(n)!=k] ))/A[k,k] for k in np.arange(n) ])\n",
    "        #producto escalar\n",
    "        res = b - np.dot(A,x)\n",
    "        iter = iter + 1\n",
    "    return x, iter\n"
   ]
  },
  {
   "cell_type": "code",
   "execution_count": 4,
   "metadata": {},
   "outputs": [
    {
     "data": {
      "text/plain": [
       "(array([1., 1., 1., 1., 1., 1.]), 33)"
      ]
     },
     "execution_count": 4,
     "metadata": {},
     "output_type": "execute_result"
    }
   ],
   "source": [
    "jacobi(A,b,0.00000001)"
   ]
  },
  {
   "cell_type": "code",
   "execution_count": 5,
   "metadata": {},
   "outputs": [
    {
     "name": "stdout",
     "output_type": "stream",
     "text": [
      "3.32 ms ± 151 µs per loop (mean ± std. dev. of 7 runs, 100 loops each)\n"
     ]
    }
   ],
   "source": [
    "%timeit jacobi(A,b,0.00000001)"
   ]
  },
  {
   "cell_type": "code",
   "execution_count": 13,
   "metadata": {},
   "outputs": [],
   "source": [
    "numbafunc2= jit(jacobi(A,b,0.00000001))"
   ]
  },
  {
   "cell_type": "code",
   "execution_count": 14,
   "metadata": {},
   "outputs": [
    {
     "name": "stdout",
     "output_type": "stream",
     "text": [
      "28.5 ns ± 1.3 ns per loop (mean ± std. dev. of 7 runs, 10000000 loops each)\n"
     ]
    }
   ],
   "source": [
    "%timeit numbafunc2"
   ]
  },
  {
   "cell_type": "markdown",
   "metadata": {},
   "source": [
    "<h2>Seidel</h2>"
   ]
  },
  {
   "cell_type": "code",
   "execution_count": 16,
   "metadata": {},
   "outputs": [
    {
     "name": "stdout",
     "output_type": "stream",
     "text": [
      "Valor de m:1\n",
      "Valor de n:1\n",
      "Método de Gauss-Seidel\n",
      "Introduce la matriz de coeficientes y el vector solución\n",
      "Elemento a[11] 5\n",
      "b[1]: 9\n",
      "Método de Gauss-Seidel\n",
      "¿Cuál es la tolerancia que deseas?0.1\n",
      "¿Cuál es l número máximo de iteraciones?10\n",
      "x[0]: 1.8\n",
      "Error en x[ 0 ]= 0.0\n",
      "Iteraciones:  1\n",
      "Hasta Luego bebé\n"
     ]
    }
   ],
   "source": [
    "import numpy \n",
    "def seidel():\n",
    "    m=int(input('Valor de m:')) \n",
    "    #Renglones = m\n",
    "    n=int(input('Valor de n:')) #Columnas = n\n",
    "    matrix = numpy.zeros((m,n))\n",
    "    x=numpy.zeros((m))\n",
    "\n",
    "    vector = numpy.zeros((n))\n",
    "    comp = numpy.zeros((m))\n",
    "    error = []\n",
    "\n",
    "\n",
    "\n",
    "    print ('Método de Gauss-Seidel')\n",
    "    print ('Introduce la matriz de coeficientes y el vector solución')\n",
    "    for r in range(0,m):\n",
    "        for c in range(0,n):\n",
    "            matrix[(r),(c)]=float(input(\"Elemento a[\"+str(r+1)+str(c+1)+\"] \"))\n",
    "        vector[(r)]=float(input('b['+str(r+1)+']: '))\n",
    "    print (\"Método de Gauss-Seidel\")\n",
    "\n",
    "    #Tolerancia: margen de error\n",
    "    tol=float(input(\"¿Cuál es la tolerancia que deseas?\"))\n",
    "    itera=int(input(\"¿Cuál es l número máximo de iteraciones?\"))\n",
    "    #Método de Gauss-Seidel\n",
    "    k=0\n",
    "    while k< itera: #Agregar la iteraciones\n",
    "        suma=0\n",
    "        k=k+1\n",
    "\n",
    "        for r in range(0,m):\n",
    "            suma=0\n",
    "            for c in range(0,n):\n",
    "                if (c != r):\n",
    "                    #Multiplicaciones\n",
    "                    suma=suma+matrix[r,c]*x[c]               \n",
    "            #parte de despeje con suma negativa\n",
    "            x[r]=(vector[r]-suma)/matrix[r,r]\n",
    "            print(\"x[\"+str(r)+\"]: \" + str(x[r]))\n",
    "        del error[:]\n",
    "        #Comprobación\n",
    "        #comprobando sustituyedo en la ecuación\n",
    "        for r in range(0,m):\n",
    "            suma=0\n",
    "            for c in range(0,n):\n",
    "                #multiplica los coeficientes por el valor que yo tengo en la matriz de coefcientes\n",
    "                suma=suma+matrix[r,c]*x[c]               \n",
    "            #parte de despeje con suma negativa\n",
    "            comp[r] = suma\n",
    "            dif = abs(comp[r]-vector[r])\n",
    "            error.append(dif)\n",
    "            print(\"Error en x[\",r,\"]=\",error[r])\n",
    "        print(\"Iteraciones: \",k)    \n",
    "        if all( i <= tol for i in error) == True:\n",
    "            break\n",
    "    print(\"Hasta Luego bebé\")\n",
    "\n",
    "seidel()\n",
    "\n"
   ]
  },
  {
   "cell_type": "markdown",
   "metadata": {},
   "source": [
    "<h2>Referencias</h2>"
   ]
  },
  {
   "cell_type": "markdown",
   "metadata": {},
   "source": [
    "https://gist.github.com/glederrey/7fe6e03bbc85c81ed60f3585eea2e073"
   ]
  }
 ],
 "metadata": {
  "kernelspec": {
   "display_name": "Python 3",
   "language": "python",
   "name": "python3"
  },
  "language_info": {
   "codemirror_mode": {
    "name": "ipython",
    "version": 3
   },
   "file_extension": ".py",
   "mimetype": "text/x-python",
   "name": "python",
   "nbconvert_exporter": "python",
   "pygments_lexer": "ipython3",
   "version": "3.6.5"
  }
 },
 "nbformat": 4,
 "nbformat_minor": 2
}
