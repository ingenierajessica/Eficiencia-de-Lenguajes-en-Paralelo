{
 "cells": [
  {
   "cell_type": "code",
   "execution_count": 1,
   "metadata": {},
   "outputs": [],
   "source": [
    "import turtle\n",
    "import random"
   ]
  },
  {
   "cell_type": "code",
   "execution_count": 2,
   "metadata": {},
   "outputs": [],
   "source": [
    "window = turtle.Screen()\n",
    "window.bgcolor(\"black\")"
   ]
  },
  {
   "cell_type": "code",
   "execution_count": 3,
   "metadata": {},
   "outputs": [],
   "source": [
    "tortuga =turtle.Turtle()\n",
    "tortuga.speed(0)\n",
    "tortuga.left(90)"
   ]
  },
  {
   "cell_type": "code",
   "execution_count": 4,
   "metadata": {},
   "outputs": [],
   "source": [
    "random_colors =[\"#0ca90c\",\"#c20d0d\",\"#ffffff\",\"#ffd700\",\"#3225de\",\"#8314b9\"]"
   ]
  },
  {
   "cell_type": "code",
   "execution_count": 5,
   "metadata": {},
   "outputs": [],
   "source": [
    "def dibujarArbol(tamanoDeRama,tortuga):\n",
    "    #tamaño de trazo\n",
    "    tortuga.pensize(tamanoDeRama/10)\n",
    "    if(tamanoDeRama <40):\n",
    "        #esfera de navidad\n",
    "        tortuga.dot(random.randint(7,10), random.choice(random_colors))\n",
    "        return\n",
    "    tortuga.forward(tamanoDeRama)\n",
    "    tortuga.left(30)\n",
    "    dibujarArbol(tamanoDeRama*random.uniform(0.8,0.9),tortuga)\n",
    "    tortuga.right(60)\n",
    "    dibujarArbol(tamanoDeRama*random.uniform(0.8,0.9),tortuga)\n",
    "    tortuga.left(30)\n",
    "    tortuga.backward(tamanoDeRama)"
   ]
  },
  {
   "cell_type": "code",
   "execution_count": 6,
   "metadata": {},
   "outputs": [],
   "source": [
    "tortuga.penup()"
   ]
  },
  {
   "cell_type": "code",
   "execution_count": 7,
   "metadata": {},
   "outputs": [],
   "source": [
    "tortuga.setpos(0,-250)"
   ]
  },
  {
   "cell_type": "code",
   "execution_count": 8,
   "metadata": {},
   "outputs": [],
   "source": [
    "tortuga.pendown()\n",
    "tortuga.hideturtle()\n",
    "tortuga.color(\"#406c35\")"
   ]
  },
  {
   "cell_type": "code",
   "execution_count": 9,
   "metadata": {},
   "outputs": [],
   "source": [
    "dibujarArbol(100,tortuga)"
   ]
  },
  {
   "cell_type": "code",
   "execution_count": 10,
   "metadata": {},
   "outputs": [],
   "source": [
    "tortuga.penup()\n",
    "tortuga.setpos(-60,150)\n",
    "tortuga.pendown()\n",
    "tortuga.color(\"yellow\")\n",
    "tortuga.begin_fill()\n",
    "for i in range(5): #estrella\n",
    "    tortuga.forward(150)\n",
    "    tortuga.right(144)\n",
    "tortuga.end_fill()"
   ]
  },
  {
   "cell_type": "code",
   "execution_count": 11,
   "metadata": {},
   "outputs": [],
   "source": [
    "#Luces de navidad\n",
    "maxY =250\n",
    "maxX =350\n",
    "luces=[]"
   ]
  },
  {
   "cell_type": "code",
   "execution_count": 12,
   "metadata": {},
   "outputs": [],
   "source": [
    "for j in range (0,10000):\n",
    "    y = random.randint(-1*maxY,maxY)\n",
    "    x = random.randint(-1*maxX,maxX)\n",
    "    luz=turtle.Turtle()\n",
    "    luz.speed(0)\n",
    "    luz.penup()\n",
    "    luz.setpos(x,y)\n",
    "    luz.pendown()\n",
    "    luz.dot(random.randint(1,5), random.choice(random_colors))\n",
    "    luces.append(luz)\n",
    "    if len(luces)> 150:\n",
    "        luzAApagar =random.choice(luces)\n",
    "        luzAApagar.clear()\n",
    "    "
   ]
  },
  {
   "cell_type": "code",
   "execution_count": 13,
   "metadata": {},
   "outputs": [],
   "source": [
    "window.exitonclick()"
   ]
  },
  {
   "cell_type": "code",
   "execution_count": null,
   "metadata": {},
   "outputs": [],
   "source": [
    "#Dibujar Rama\n",
    "tortuga.forward(100)\n",
    "#ajuste para empezar a dibujar la rama de la izquierda\n",
    "tortuga.left(45)"
   ]
  },
  {
   "cell_type": "code",
   "execution_count": null,
   "metadata": {},
   "outputs": [],
   "source": [
    "tortuga.forward(50)\n",
    "tortuga.backward(50)"
   ]
  },
  {
   "cell_type": "code",
   "execution_count": null,
   "metadata": {},
   "outputs": [],
   "source": [
    "tortuga.right(90)"
   ]
  },
  {
   "cell_type": "code",
   "execution_count": null,
   "metadata": {},
   "outputs": [],
   "source": [
    "tortuga.forward(50)\n",
    "tortuga.backward(50)"
   ]
  },
  {
   "cell_type": "code",
   "execution_count": null,
   "metadata": {},
   "outputs": [],
   "source": [
    "tortuga.left(45)\n",
    "tortuga.backward(100)"
   ]
  },
  {
   "cell_type": "code",
   "execution_count": null,
   "metadata": {},
   "outputs": [],
   "source": []
  }
 ],
 "metadata": {
  "kernelspec": {
   "display_name": "Python 3",
   "language": "python",
   "name": "python3"
  },
  "language_info": {
   "codemirror_mode": {
    "name": "ipython",
    "version": 3
   },
   "file_extension": ".py",
   "mimetype": "text/x-python",
   "name": "python",
   "nbconvert_exporter": "python",
   "pygments_lexer": "ipython3",
   "version": "3.7.6"
  }
 },
 "nbformat": 4,
 "nbformat_minor": 4
}
