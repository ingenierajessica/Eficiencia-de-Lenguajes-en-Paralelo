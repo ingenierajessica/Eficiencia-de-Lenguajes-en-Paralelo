{
 "cells": [
  {
   "cell_type": "markdown",
   "metadata": {},
   "source": [
    "# Optimización de Funciones con Arquitecturas de Procesamiento en Cómputo"
   ]
  },
  {
   "cell_type": "code",
   "execution_count": 1,
   "metadata": {},
   "outputs": [],
   "source": [
    "using Distributed\n",
    "using BenchmarkTools"
   ]
  },
  {
   "cell_type": "code",
   "execution_count": 20,
   "metadata": {},
   "outputs": [
    {
     "data": {
      "text/plain": [
       "1"
      ]
     },
     "execution_count": 20,
     "metadata": {},
     "output_type": "execute_result"
    }
   ],
   "source": [
    "Threads.nthreads()"
   ]
  },
  {
   "cell_type": "code",
   "execution_count": 22,
   "metadata": {},
   "outputs": [
    {
     "ename": "ErrorException",
     "evalue": "syntax: invalid assignment location \"export JULIA_NUM_THREADS\"",
     "output_type": "error",
     "traceback": [
      "syntax: invalid assignment location \"export JULIA_NUM_THREADS\"",
      ""
     ]
    }
   ],
   "source": [
    "export JULIA_NUM_THREADS=4"
   ]
  },
  {
   "cell_type": "code",
   "execution_count": 23,
   "metadata": {},
   "outputs": [
    {
     "ename": "ErrorException",
     "evalue": "syntax: \"$env\" is not a valid function argument name",
     "output_type": "error",
     "traceback": [
      "syntax: \"$env\" is not a valid function argument name",
      ""
     ]
    }
   ],
   "source": [
    "$env:JULIA_NUM_THREADS=4"
   ]
  },
  {
   "cell_type": "code",
   "execution_count": 21,
   "metadata": {},
   "outputs": [
    {
     "ename": "LoadError",
     "evalue": "syntax: extra token \"JULIA_NUM_THREADS\" after end of expression",
     "output_type": "error",
     "traceback": [
      "syntax: extra token \"JULIA_NUM_THREADS\" after end of expression",
      ""
     ]
    }
   ],
   "source": [
    "set JULIA_NUM_THREADS=4"
   ]
  },
  {
   "cell_type": "code",
   "execution_count": 2,
   "metadata": {},
   "outputs": [],
   "source": [
    "@everywhere function fib(n)\n",
    "    if (n < 2)\n",
    "        return n\n",
    "    else return fib(n-1) + fib(n-2)\n",
    "    end\n",
    "end"
   ]
  },
  {
   "cell_type": "code",
   "execution_count": 3,
   "metadata": {},
   "outputs": [
    {
     "data": {
      "text/plain": [
       "10-element Array{Int64,1}:\n",
       " 5\n",
       " 5\n",
       " 5\n",
       " 4\n",
       " 2\n",
       " 2\n",
       " 3\n",
       " 4\n",
       " 2\n",
       " 1"
      ]
     },
     "execution_count": 3,
     "metadata": {},
     "output_type": "execute_result"
    }
   ],
   "source": [
    "#Orden de la matriz\n",
    "n=10\n",
    "#Matriz \n",
    "A = rand(1:5,n,n) \n",
    "#Vector\n",
    "v= rand(1:5,n)\n"
   ]
  },
  {
   "cell_type": "markdown",
   "metadata": {},
   "source": [
    "<h2>Contenido</h2>\n",
    "\n",
    "- [Paralelismo](#Paralelismo)\n",
    "- [GPU](#GPU) \n",
    "        "
   ]
  },
  {
   "cell_type": "markdown",
   "metadata": {},
   "source": [
    "## Paralelismo"
   ]
  },
  {
   "cell_type": "code",
   "execution_count": 17,
   "metadata": {},
   "outputs": [],
   "source": [
    "#Código de una función que multiplica por ciclos for entre una matriz y un vector\n",
    "\n",
    "#@everywhere function matriz_vector_paralell(cardinalidad::Int64, A::Array{Int64}, v::Array{Int64})\n",
    "\n",
    "@everywhere function matriz_vector_paralell(cardinalidad::Int64)\n",
    "    #Orden de la matriz\n",
    "    n=cardinalidad\n",
    "    #Matriz \n",
    "    A = rand(1:5,n,n) \n",
    "    #Vector\n",
    "    v= rand(1:5,n)\n",
    "    #Matrices auxiliares\n",
    "    R = zeros(Int64,n,1)\n",
    "    a = zeros(Int64,n,1)\n",
    "  \n",
    "    for i= 1:n  #Recorre filas\n",
    "        for j = 1:n #Recorre columnas \n",
    "            a[i,1]= @spawn A[i,j]*v[j,1]\n",
    "            R[i,1]= R[i,1]+a[i,1] \n",
    "        end\n",
    "    end \n",
    "    return R \n",
    "end\n",
    "\n",
    " "
   ]
  },
  {
   "cell_type": "code",
   "execution_count": 16,
   "metadata": {},
   "outputs": [
    {
     "data": {
      "text/plain": [
       "5×1 Array{Int64,2}:\n",
       " 40\n",
       " 56\n",
       " 40\n",
       " 27\n",
       " 53"
      ]
     },
     "execution_count": 16,
     "metadata": {},
     "output_type": "execute_result"
    }
   ],
   "source": [
    "function matriz_vector_paralell(n::Int64)\n",
    "    #Orden de la matriz\n",
    "    n=n\n",
    "    #Matriz \n",
    "    A = rand(1:5,n,n) \n",
    "    #Vector\n",
    "    v= rand(1:5,n)\n",
    "    #Matrices auxiliares\n",
    "    R = zeros(Int64,n,1)\n",
    "    a = zeros(Int64,n,1)\n",
    "  \n",
    "    for i= 1:n  #Recorre filas\n",
    "        for j = 1:n #Recorre columnas \n",
    "            a[i,1]=  A[i,j]*v[j,1]\n",
    "            R[i,1]= R[i,1]+a[i,1] \n",
    "        end\n",
    "    end \n",
    "    return R \n",
    "end\n",
    "\n",
    "matriz_vector_paralell(5)"
   ]
  },
  {
   "cell_type": "code",
   "execution_count": 37,
   "metadata": {},
   "outputs": [
    {
     "ename": "MethodError",
     "evalue": "MethodError: Cannot `convert` an object of type Future to an object of type Int64\nClosest candidates are:\n  convert(::Type{T<:Number}, !Matched::T<:Number) where T<:Number at number.jl:6\n  convert(::Type{T<:Number}, !Matched::Number) where T<:Number at number.jl:7\n  convert(::Type{T<:Integer}, !Matched::Ptr) where T<:Integer at pointer.jl:23\n  ...",
     "output_type": "error",
     "traceback": [
      "MethodError: Cannot `convert` an object of type Future to an object of type Int64\nClosest candidates are:\n  convert(::Type{T<:Number}, !Matched::T<:Number) where T<:Number at number.jl:6\n  convert(::Type{T<:Number}, !Matched::Number) where T<:Number at number.jl:7\n  convert(::Type{T<:Integer}, !Matched::Ptr) where T<:Integer at pointer.jl:23\n  ...",
      "",
      "Stacktrace:",
      " [1] setindex! at .\\array.jl:771 [inlined]",
      " [2] matriz_vector_paralell(::Int64) at .\\In[36]:18",
      " [3] iterate at .\\generator.jl:47 [inlined]",
      " [4] collect(::Base.Generator{UnitRange{Int64},typeof(matriz_vector_paralell)}) at .\\array.jl:619",
      " [5] top-level scope at util.jl:156",
      " [6] top-level scope at In[37]:1"
     ]
    }
   ],
   "source": [
    "@time [matriz_vector_paralell(i) for i=10:15];"
   ]
  },
  {
   "cell_type": "code",
   "execution_count": 34,
   "metadata": {},
   "outputs": [
    {
     "ename": "MethodError",
     "evalue": "MethodError: Cannot `convert` an object of type Future to an object of type Int64\nClosest candidates are:\n  convert(::Type{T<:Number}, !Matched::T<:Number) where T<:Number at number.jl:6\n  convert(::Type{T<:Number}, !Matched::Number) where T<:Number at number.jl:7\n  convert(::Type{T<:Integer}, !Matched::Ptr) where T<:Integer at pointer.jl:23\n  ...",
     "output_type": "error",
     "traceback": [
      "MethodError: Cannot `convert` an object of type Future to an object of type Int64\nClosest candidates are:\n  convert(::Type{T<:Number}, !Matched::T<:Number) where T<:Number at number.jl:6\n  convert(::Type{T<:Number}, !Matched::Number) where T<:Number at number.jl:7\n  convert(::Type{T<:Integer}, !Matched::Ptr) where T<:Integer at pointer.jl:23\n  ...",
      "",
      "Stacktrace:",
      " [1] setindex! at .\\array.jl:771 [inlined]",
      " [2] matriz_vector_paralell(::Int64) at .\\In[32]:18",
      " [3] top-level scope at In[34]:1"
     ]
    }
   ],
   "source": [
    "matriz_vector_paralell(10)"
   ]
  },
  {
   "cell_type": "markdown",
   "metadata": {},
   "source": [
    "## GPU"
   ]
  },
  {
   "cell_type": "code",
   "execution_count": 18,
   "metadata": {},
   "outputs": [
    {
     "name": "stdout",
     "output_type": "stream",
     "text": [
      "\u001b[32m\u001b[1m  Updating\u001b[22m\u001b[39m registry at `C:\\Users\\Jess\\.julia\\registries\\General`\n",
      "\u001b[32m\u001b[1m  Updating\u001b[22m\u001b[39m git-repo `https://github.com/JuliaRegistries/General.git`\n",
      "\u001b[2K\u001b[?25h[1mFetching:\u001b[22m\u001b[39m [========================================>]  100.0 %.0 %\u001b[32m\u001b[1m Resolving\u001b[22m\u001b[39m package versions...\n",
      "\u001b[32m\u001b[1m Installed\u001b[22m\u001b[39m CEnum ──────── v0.2.0\n",
      "\u001b[32m\u001b[1m Installed\u001b[22m\u001b[39m CUDAapi ────── v2.1.0\n",
      "\u001b[32m\u001b[1m Installed\u001b[22m\u001b[39m Adapt ──────── v1.0.1\n",
      "\u001b[32m\u001b[1m Installed\u001b[22m\u001b[39m GPUArrays ──── v2.0.1\n",
      "\u001b[32m\u001b[1m Installed\u001b[22m\u001b[39m NNlib ──────── v0.6.6\n",
      "\u001b[32m\u001b[1m Installed\u001b[22m\u001b[39m LLVM ───────── v1.3.4\n",
      "\u001b[32m\u001b[1m Installed\u001b[22m\u001b[39m CUDAdrv ────── v5.1.0\n",
      "\u001b[32m\u001b[1m Installed\u001b[22m\u001b[39m CuArrays ───── v1.6.0\n",
      "\u001b[32m\u001b[1m Installed\u001b[22m\u001b[39m TimerOutputs ─ v0.5.4\n",
      "\u001b[32m\u001b[1m Installed\u001b[22m\u001b[39m CUDAnative ─── v2.7.0\n",
      "\u001b[32m\u001b[1m  Updating\u001b[22m\u001b[39m `C:\\Users\\Jess\\.julia\\environments\\v1.0\\Project.toml`\n",
      " \u001b[90m [3a865a2d]\u001b[39m\u001b[92m + CuArrays v1.6.0\u001b[39m\n",
      "\u001b[32m\u001b[1m  Updating\u001b[22m\u001b[39m `C:\\Users\\Jess\\.julia\\environments\\v1.0\\Manifest.toml`\n",
      " \u001b[90m [79e6a3ab]\u001b[39m\u001b[92m + Adapt v1.0.1\u001b[39m\n",
      " \u001b[90m [fa961155]\u001b[39m\u001b[92m + CEnum v0.2.0\u001b[39m\n",
      " \u001b[90m [3895d2a7]\u001b[39m\u001b[92m + CUDAapi v2.1.0\u001b[39m\n",
      " \u001b[90m [c5f51814]\u001b[39m\u001b[92m + CUDAdrv v5.1.0\u001b[39m\n",
      " \u001b[90m [be33ccc6]\u001b[39m\u001b[92m + CUDAnative v2.7.0\u001b[39m\n",
      " \u001b[90m [3a865a2d]\u001b[39m\u001b[92m + CuArrays v1.6.0\u001b[39m\n",
      " \u001b[90m [0c68f7d7]\u001b[39m\u001b[92m + GPUArrays v2.0.1\u001b[39m\n",
      " \u001b[90m [929cbde3]\u001b[39m\u001b[92m + LLVM v1.3.4\u001b[39m\n",
      " \u001b[90m [872c559c]\u001b[39m\u001b[92m + NNlib v0.6.6\u001b[39m\n",
      " \u001b[90m [a759f4b9]\u001b[39m\u001b[92m + TimerOutputs v0.5.4\u001b[39m\n",
      "\u001b[32m\u001b[1m  Building\u001b[22m\u001b[39m NNlib → `C:\\Users\\Jess\\.julia\\packages\\NNlib\\FAI3o\\deps\\build.log`\n"
     ]
    }
   ],
   "source": [
    "import Pkg; Pkg.add(\"CuArrays\")"
   ]
  },
  {
   "cell_type": "code",
   "execution_count": 19,
   "metadata": {},
   "outputs": [
    {
     "ename": "ArgumentError",
     "evalue": "ArgumentError: Package CUDAapi not found in current path:\n- Run `Pkg.add(\"CUDAapi\")` to install the CUDAapi package.\n",
     "output_type": "error",
     "traceback": [
      "ArgumentError: Package CUDAapi not found in current path:\n- Run `Pkg.add(\"CUDAapi\")` to install the CUDAapi package.\n",
      "",
      "Stacktrace:",
      " [1] require(::Module, ::Symbol) at .\\loading.jl:817",
      " [2] top-level scope at In[19]:1"
     ]
    }
   ],
   "source": [
    " \n",
    "using CUDAapi, CUDAdrv, CUDAnative\n",
    "\n",
    "using GPUArrays\n",
    "\n",
    "export CuArray, CuVector, CuMatrix, CuVecOrMat, CuIterator, cu\n",
    "export CUBLAS, CUSPARSE, CUSOLVER, CUFFT, CURAND, CUDNN, CUTENSOR\n",
    "\n",
    "import LinearAlgebra\n",
    "\n",
    "using Adapt\n",
    "\n",
    "using Libdl\n",
    "\n",
    "using Requires\n"
   ]
  }
 ],
 "metadata": {
  "kernelspec": {
   "display_name": "Julia 1.0.0",
   "language": "julia",
   "name": "julia-1.0"
  },
  "language_info": {
   "file_extension": ".jl",
   "mimetype": "application/julia",
   "name": "julia",
   "version": "1.0.0"
  }
 },
 "nbformat": 4,
 "nbformat_minor": 4
}
