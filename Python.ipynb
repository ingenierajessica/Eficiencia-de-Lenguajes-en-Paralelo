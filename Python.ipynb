{
 "cells": [
  {
   "cell_type": "code",
   "execution_count": 32,
   "metadata": {},
   "outputs": [
    {
     "name": "stdout",
     "output_type": "stream",
     "text": [
      "Collecting pytest-benchmark\n",
      "  Downloading pytest_benchmark-3.2.3-py2.py3-none-any.whl (49 kB)\n",
      "Collecting pytest>=3.8\n",
      "  Downloading pytest-5.3.5-py3-none-any.whl (235 kB)\n",
      "Collecting py-cpuinfo\n",
      "  Downloading py-cpuinfo-5.0.0.tar.gz (82 kB)\n",
      "Requirement already satisfied: colorama; sys_platform == \"win32\" in c:\\phyton 372\\lib\\site-packages (from pytest>=3.8->pytest-benchmark) (0.4.3)\n",
      "Collecting packaging\n",
      "  Downloading packaging-20.1-py2.py3-none-any.whl (36 kB)\n",
      "Requirement already satisfied: wcwidth in c:\\phyton 372\\lib\\site-packages (from pytest>=3.8->pytest-benchmark) (0.1.7)\n",
      "Collecting pluggy<1.0,>=0.12\n",
      "  Downloading pluggy-0.13.1-py2.py3-none-any.whl (18 kB)\n",
      "Collecting atomicwrites>=1.0; sys_platform == \"win32\"\n",
      "  Downloading atomicwrites-1.3.0-py2.py3-none-any.whl (5.9 kB)\n",
      "Requirement already satisfied: attrs>=17.4.0 in c:\\phyton 372\\lib\\site-packages (from pytest>=3.8->pytest-benchmark) (19.3.0)\n",
      "Requirement already satisfied: importlib-metadata>=0.12; python_version < \"3.8\" in c:\\phyton 372\\lib\\site-packages (from pytest>=3.8->pytest-benchmark) (1.2.0)\n",
      "Requirement already satisfied: more-itertools>=4.0.0 in c:\\phyton 372\\lib\\site-packages (from pytest>=3.8->pytest-benchmark) (8.0.2)\n",
      "Collecting py>=1.5.0\n",
      "  Downloading py-1.8.1-py2.py3-none-any.whl (83 kB)\n",
      "Requirement already satisfied: pyparsing>=2.0.2 in c:\\phyton 372\\lib\\site-packages (from packaging->pytest>=3.8->pytest-benchmark) (2.3.1)\n",
      "Requirement already satisfied: six in c:\\phyton 372\\lib\\site-packages (from packaging->pytest>=3.8->pytest-benchmark) (1.12.0)\n",
      "Requirement already satisfied: zipp>=0.5 in c:\\phyton 372\\lib\\site-packages (from importlib-metadata>=0.12; python_version < \"3.8\"->pytest>=3.8->pytest-benchmark) (0.6.0)\n",
      "Building wheels for collected packages: py-cpuinfo\n",
      "  Building wheel for py-cpuinfo (setup.py): started\n",
      "  Building wheel for py-cpuinfo (setup.py): finished with status 'done'\n",
      "  Created wheel for py-cpuinfo: filename=py_cpuinfo-5.0.0-py3-none-any.whl size=18689 sha256=1a12dfa68ebcee2a4d65b26b7f708ead8763061a8004684274788d29ec0fb82f\n",
      "  Stored in directory: c:\\users\\jess\\appdata\\local\\pip\\cache\\wheels\\e7\\3b\\8e\\2b1f0f6cc651cd381bb5806e5005820c6986867c46f3536101\n",
      "Successfully built py-cpuinfo\n",
      "Installing collected packages: packaging, pluggy, atomicwrites, py, pytest, py-cpuinfo, pytest-benchmark\n",
      "Successfully installed atomicwrites-1.3.0 packaging-20.1 pluggy-0.13.1 py-1.8.1 py-cpuinfo-5.0.0 pytest-5.3.5 pytest-benchmark-3.2.3\n"
     ]
    }
   ],
   "source": [
    "!pip install pytest-benchmark"
   ]
  },
  {
   "cell_type": "code",
   "execution_count": 36,
   "metadata": {},
   "outputs": [],
   "source": [
    "import numpy as np"
   ]
  },
  {
   "cell_type": "code",
   "execution_count": 82,
   "metadata": {},
   "outputs": [],
   "source": [
    "from time import time "
   ]
  },
  {
   "cell_type": "code",
   "execution_count": 46,
   "metadata": {},
   "outputs": [],
   "source": [
    "np.random.seed(0)"
   ]
  },
  {
   "cell_type": "code",
   "execution_count": 47,
   "metadata": {},
   "outputs": [
    {
     "data": {
      "text/plain": [
       "<module 'numpy' from 'c:\\\\phyton 372\\\\lib\\\\site-packages\\\\numpy\\\\__init__.py'>"
      ]
     },
     "execution_count": 47,
     "metadata": {},
     "output_type": "execute_result"
    }
   ],
   "source": [
    "np"
   ]
  },
  {
   "cell_type": "code",
   "execution_count": 49,
   "metadata": {},
   "outputs": [],
   "source": [
    "size = 4096\n",
    "A, B = np.random.random((size, size)), np.random.random((size, size))"
   ]
  },
  {
   "cell_type": "code",
   "execution_count": 50,
   "metadata": {},
   "outputs": [
    {
     "name": "stdout",
     "output_type": "stream",
     "text": [
      "Dotted two 4096x4096 matrices in 4.80 s.\n"
     ]
    }
   ],
   "source": [
    "N = 20\n",
    "t = time()\n",
    "for i in range(N):\n",
    "    np.dot(A, B)\n",
    "delta = time() - t\n",
    "print('Dotted two %dx%d matrices in %0.2f s.' % (size, size, delta / N))\n",
    "del A, B"
   ]
  },
  {
   "cell_type": "markdown",
   "metadata": {},
   "source": [
    "## Con números Enteros"
   ]
  },
  {
   "cell_type": "markdown",
   "metadata": {},
   "source": [
    "# n=10"
   ]
  },
  {
   "cell_type": "code",
   "execution_count": null,
   "metadata": {},
   "outputs": [],
   "source": [
    "A = np.random.randint(1,50,size=(10,10))\n",
    "print(a)"
   ]
  },
  {
   "cell_type": "code",
   "execution_count": 90,
   "metadata": {},
   "outputs": [
    {
     "name": "stdout",
     "output_type": "stream",
     "text": [
      "[[ 1 47 47 27 35 22  6 19 40 40]]\n"
     ]
    }
   ],
   "source": [
    "v = np.random.randint(1,50,size=( 1,10))\n",
    "print(v)"
   ]
  },
  {
   "cell_type": "code",
   "execution_count": 91,
   "metadata": {},
   "outputs": [
    {
     "data": {
      "text/plain": [
       "array([[  12,  564, 1927, 1080, 1470,  286,   96,  418, 1200,  560],\n",
       "       [  28, 1833,  329, 1026, 1645,  440,   90,  931,  400, 1560],\n",
       "       [   2,  940, 2162,  621,  490, 1056,   36,  874,  480,  160],\n",
       "       [  21, 1128,  658,  324,  455,  660,  276,   95, 1320, 1040],\n",
       "       [  25,  517, 1410,  999, 1015,  594,   66,  323,  880, 1400],\n",
       "       [   4, 1504,  376, 1269, 1330,  902,  204,  836,  480, 1160],\n",
       "       [  25, 1645,  141,  756, 1260,  220,  186,  323, 1760,  320],\n",
       "       [  27, 2068,  893,  405, 1400,  792,  186,  665,  400,  120],\n",
       "       [  43, 1222,  329,  459,  175,  418,    6,  665,  240,  640],\n",
       "       [  37, 1692,  423,  378,  455,  572,  102,  285, 1480,  400]])"
      ]
     },
     "execution_count": 91,
     "metadata": {},
     "output_type": "execute_result"
    }
   ],
   "source": [
    "A*v"
   ]
  },
  {
   "cell_type": "code",
   "execution_count": 92,
   "metadata": {},
   "outputs": [
    {
     "data": {
      "text/plain": [
       "array([[ 144,  144, 1681, 1600, 1764,  169,  256,  484,  900,  196],\n",
       "       [ 784, 1521,   49, 1444, 2209,  400,  225, 2401,  100, 1521],\n",
       "       [   4,  400, 2116,  529,  196, 2304,   36, 2116,  144,   16],\n",
       "       [ 441,  576,  196,  144,  169,  900, 2116,   25, 1089,  676],\n",
       "       [ 625,  121,  900, 1369,  841,  729,  121,  289,  484, 1225],\n",
       "       [  16, 1024,   64, 2209, 1444, 1681, 1156, 1936,  144,  841],\n",
       "       [ 625, 1225,    9,  784, 1296,  100,  961,  289, 1936,   64],\n",
       "       [ 729, 1936,  361,  225, 1600, 1296,  961, 1225,  100,    9],\n",
       "       [1849,  676,   49,  289,   25,  361,    1, 1225,   36,  256],\n",
       "       [1369, 1296,   81,  196,  169,  676,  289,  225, 1369,  100]])"
      ]
     },
     "execution_count": 92,
     "metadata": {},
     "output_type": "execute_result"
    }
   ],
   "source": [
    "A*A"
   ]
  },
  {
   "cell_type": "code",
   "execution_count": 94,
   "metadata": {},
   "outputs": [],
   "source": [
    "def multiplicacionAv(A, v):\n",
    "   return A*v\n"
   ]
  },
  {
   "cell_type": "code",
   "execution_count": 95,
   "metadata": {},
   "outputs": [
    {
     "ename": "SyntaxError",
     "evalue": "invalid syntax (<ipython-input-95-7281c104214d>, line 1)",
     "output_type": "error",
     "traceback": [
      "\u001b[1;36m  File \u001b[1;32m\"<ipython-input-95-7281c104214d>\"\u001b[1;36m, line \u001b[1;32m1\u001b[0m\n\u001b[1;33m    show multiplicacionAv\u001b[0m\n\u001b[1;37m                        ^\u001b[0m\n\u001b[1;31mSyntaxError\u001b[0m\u001b[1;31m:\u001b[0m invalid syntax\n"
     ]
    }
   ],
   "source": [
    "show multiplicacionAv"
   ]
  },
  {
   "cell_type": "code",
   "execution_count": 34,
   "metadata": {},
   "outputs": [
    {
     "ename": "SyntaxError",
     "evalue": "invalid syntax (<ipython-input-34-1d208e5b7273>, line 3)",
     "output_type": "error",
     "traceback": [
      "\u001b[1;36m  File \u001b[1;32m\"<ipython-input-34-1d208e5b7273>\"\u001b[1;36m, line \u001b[1;32m3\u001b[0m\n\u001b[1;33m    A*A\u001b[0m\n\u001b[1;37m    ^\u001b[0m\n\u001b[1;31mSyntaxError\u001b[0m\u001b[1;31m:\u001b[0m invalid syntax\n"
     ]
    }
   ],
   "source": [
    "@benchmark\n",
    "\n",
    "A*A"
   ]
  },
  {
   "cell_type": "markdown",
   "metadata": {},
   "source": [
    "# n=50"
   ]
  },
  {
   "cell_type": "code",
   "execution_count": 81,
   "metadata": {},
   "outputs": [
    {
     "data": {
      "text/plain": [
       "array([[1012,  357,  480, ...,  810,  504, 1638],\n",
       "       [ 391,  425,  720, ..., 1755,   24,  840],\n",
       "       [ 759,  289,   80, ...,  405,  576,  126],\n",
       "       ...,\n",
       "       [1081,  697, 1600, ..., 1080,  144,  672],\n",
       "       [ 368,  561, 1600, ...,  990,  120, 1596],\n",
       "       [ 621,  578, 1920, ...,  810,  312, 1218]])"
      ]
     },
     "execution_count": 81,
     "metadata": {},
     "output_type": "execute_result"
    }
   ],
   "source": [
    "N = 50 \n",
    "A = np.random.randint(1,50,size=(N,N))\n",
    "v = np.random.randint(1,50,size=(N))\n",
    "\n",
    "A*v\n",
    "\n"
   ]
  },
  {
   "cell_type": "code",
   "execution_count": 122,
   "metadata": {},
   "outputs": [],
   "source": [
    "\n",
    "def f1():\n",
    "    i=1\n",
    "    t=50\n",
    "    #for i in range(t):  \n",
    "    A = np.random.randint(1,50,size=(t,t))\n",
    "    v = np.random.randint(1,50,size=(t))\n",
    "\n",
    "    return  A*v"
   ]
  },
  {
   "cell_type": "code",
   "execution_count": 124,
   "metadata": {},
   "outputs": [],
   "source": [
    "\n",
    "def f2():\n",
    "    i=1\n",
    "    t=100\n",
    "    #for i in range(t):  \n",
    "    A = np.random.randint(1,50,size=(t,t))\n",
    "    v = np.random.randint(1,50,size=(t))\n",
    "\n",
    "    return  A*v"
   ]
  },
  {
   "cell_type": "code",
   "execution_count": 123,
   "metadata": {},
   "outputs": [
    {
     "data": {
      "text/plain": [
       "array([[ 864,  432, 1521, ...,  135,   50,  264],\n",
       "       [ 162,  752, 1521, ...,  600,   98,   44],\n",
       "       [  36,  496, 1170, ...,  495,   98,  858],\n",
       "       ...,\n",
       "       [ 216,  400, 1404, ...,  390,   88,  902],\n",
       "       [ 612,  240,  897, ...,  720,   38,  264],\n",
       "       [ 684,  272,  390, ...,  390,   52,  880]])"
      ]
     },
     "execution_count": 123,
     "metadata": {},
     "output_type": "execute_result"
    }
   ],
   "source": [
    "f1()"
   ]
  },
  {
   "cell_type": "code",
   "execution_count": 127,
   "metadata": {},
   "outputs": [],
   "source": [
    "import time\n",
    "import statistics\n",
    "# Assertion\n",
    "import random"
   ]
  },
  {
   "cell_type": "code",
   "execution_count": 128,
   "metadata": {},
   "outputs": [
    {
     "name": "stdout",
     "output_type": "stream",
     "text": [
      "FUNCTION: f1 Used 2988 times\n",
      "\tMEDIAN 0.0\n",
      "\tMEAN   0.03907599123606242\n",
      "\tSTDEV  0.1936142106965694\n",
      "FUNCTION: f2 Used 3012 times\n",
      "\tMEDIAN 0.0\n",
      "\tMEAN   0.10725867700766757\n",
      "\tSTDEV  0.30900789623433994\n"
     ]
    }
   ],
   "source": [
    "functions = f1,f2 \n",
    "times = {f.__name__: [] for f in functions}\n",
    "\n",
    "for i in range(3000):\n",
    "    for _ in range(len(functions)):\n",
    "        func = random.choice(functions)\n",
    "        t0 = time.time()\n",
    "        func()\n",
    "        t1 = time.time()\n",
    "        times[func.__name__].append((t1 - t0) * 1000)\n",
    "\n",
    "for name, numbers in times.items():\n",
    "    print('FUNCTION:', name, 'Used', len(numbers), 'times')\n",
    "    print('\\tMEDIAN', statistics.median(numbers))\n",
    "    print('\\tMEAN  ', statistics.mean(numbers))\n",
    "    print('\\tSTDEV ', statistics.stdev(numbers))"
   ]
  },
  {
   "cell_type": "markdown",
   "metadata": {},
   "source": [
    "# n=100"
   ]
  },
  {
   "cell_type": "code",
   "execution_count": 104,
   "metadata": {},
   "outputs": [
    {
     "name": "stdout",
     "output_type": "stream",
     "text": [
      "<function f1 at 0x09E32ED0>\n"
     ]
    }
   ],
   "source": [
    "print(f1)"
   ]
  },
  {
   "cell_type": "code",
   "execution_count": 83,
   "metadata": {},
   "outputs": [
    {
     "data": {
      "text/plain": [
       "array([[ 924,  360,  240, ...,   82, 1472, 1188],\n",
       "       [1452,  615,  120, ..., 1230, 1058,  462],\n",
       "       [  33,   90,   30, ..., 1230,  414,  264],\n",
       "       ...,\n",
       "       [1485,   45,   80, ...,  656,  322,  693],\n",
       "       [ 462,  630,  390, ...,  574, 1472, 1023],\n",
       "       [1386,  210,  210, ...,  410, 2070, 1551]])"
      ]
     },
     "execution_count": 83,
     "metadata": {},
     "output_type": "execute_result"
    }
   ],
   "source": [
    "\n",
    "N = 100 \n",
    "A = np.random.randint(1,50,size=(N,N))\n",
    "v = np.random.randint(1,50,size=(N))\n",
    "\n",
    "A*v"
   ]
  },
  {
   "cell_type": "markdown",
   "metadata": {},
   "source": [
    "## n=1000"
   ]
  },
  {
   "cell_type": "code",
   "execution_count": 84,
   "metadata": {},
   "outputs": [
    {
     "data": {
      "text/plain": [
       "array([[ 864,  279,  216, ..., 1617, 1482,  682],\n",
       "       [ 504,  225,  144, ...,  441,  912,  484],\n",
       "       [ 108,  117,   96, ..., 1127,  836,  154],\n",
       "       ...,\n",
       "       [1188,  261,  528, ..., 2303, 1368,  264],\n",
       "       [ 216,  135,   12, ..., 1127, 1862,  924],\n",
       "       [ 936,   81,  108, ..., 2352, 1710,  858]])"
      ]
     },
     "execution_count": 84,
     "metadata": {},
     "output_type": "execute_result"
    }
   ],
   "source": [
    "\n",
    "N = 1000 \n",
    "A = np.random.randint(1,50,size=(N,N))\n",
    "v = np.random.randint(1,50,size=(N))\n",
    "\n",
    "A*v"
   ]
  },
  {
   "cell_type": "markdown",
   "metadata": {},
   "source": [
    "## n=2000"
   ]
  },
  {
   "cell_type": "code",
   "execution_count": 85,
   "metadata": {},
   "outputs": [
    {
     "data": {
      "text/plain": [
       "array([[  99, 1075, 1248, ...,  992,  703,  748],\n",
       "       [ 627,  725,  130, ..., 1302,  893, 1224],\n",
       "       [1353,  650,  416, ..., 1085,  475,  510],\n",
       "       ...,\n",
       "       [ 924,  725,   52, ..., 1271,  399, 1122],\n",
       "       [ 627,  150,  130, ...,  372,  760,  476],\n",
       "       [1386,  750,  728, ...,  527,  646,  510]])"
      ]
     },
     "execution_count": 85,
     "metadata": {},
     "output_type": "execute_result"
    }
   ],
   "source": [
    "\n",
    "N = 2000\n",
    "A = np.random.randint(1,50,size=(N,N))\n",
    "v = np.random.randint(1,50,size=(N))\n",
    "\n",
    "A*v"
   ]
  },
  {
   "cell_type": "markdown",
   "metadata": {},
   "source": [
    "## n=5000"
   ]
  },
  {
   "cell_type": "code",
   "execution_count": 86,
   "metadata": {},
   "outputs": [
    {
     "data": {
      "text/plain": [
       "array([[ 420,   39, 1353, ..., 1813,  644,  114],\n",
       "       [ 180,   32,  891, ..., 1323,  336, 1786],\n",
       "       [ 525,   25,  330, ..., 1225,  112,  874],\n",
       "       ...,\n",
       "       [ 420,   11, 1353, ..., 2352,  644,  266],\n",
       "       [ 540,    7,  825, ..., 1127,  266, 1140],\n",
       "       [ 375,   25,  429, ..., 1323,   28, 1558]])"
      ]
     },
     "execution_count": 86,
     "metadata": {},
     "output_type": "execute_result"
    }
   ],
   "source": [
    "\n",
    "N = 5000\n",
    "A = np.random.randint(1,50,size=(N,N))\n",
    "v = np.random.randint(1,50,size=(N))\n",
    "\n",
    "A*v"
   ]
  },
  {
   "cell_type": "markdown",
   "metadata": {},
   "source": [
    "## Con números flotantes"
   ]
  },
  {
   "cell_type": "code",
   "execution_count": 2,
   "metadata": {},
   "outputs": [
    {
     "name": "stdout",
     "output_type": "stream",
     "text": [
      "[[0.45449054 0.16997893 0.7089804  ... 0.71114093 0.43814141 0.61264227]\n",
      " [0.38865389 0.36302348 0.53887777 ... 0.86289651 0.69822651 0.92123119]\n",
      " [0.98411828 0.45906326 0.66129457 ... 0.68120344 0.26636417 0.67573951]\n",
      " ...\n",
      " [0.20433261 0.80703014 0.36454149 ... 0.29902688 0.336739   0.51376608]\n",
      " [0.16571089 0.15714728 0.04972149 ... 0.81434086 0.07921392 0.24770101]\n",
      " [0.12651025 0.75908078 0.63385437 ... 0.63215767 0.48659102 0.53160641]]\n"
     ]
    }
   ],
   "source": [
    "import numpy as np\n",
    "random_matrix_array = np.random.rand(10, 10)\n",
    "print(random_matrix_array)"
   ]
  },
  {
   "cell_type": "code",
   "execution_count": 130,
   "metadata": {},
   "outputs": [
    {
     "ename": "NameError",
     "evalue": "name 'AT' is not defined",
     "output_type": "error",
     "traceback": [
      "\u001b[1;31m---------------------------------------------------------------------------\u001b[0m",
      "\u001b[1;31mNameError\u001b[0m                                 Traceback (most recent call last)",
      "\u001b[1;32m<ipython-input-130-10bc1fe25787>\u001b[0m in \u001b[0;36m<module>\u001b[1;34m\u001b[0m\n\u001b[1;32m----> 1\u001b[1;33m \u001b[0mAT\u001b[0m\u001b[1;33m\u001b[0m\u001b[1;33m\u001b[0m\u001b[0m\n\u001b[0m",
      "\u001b[1;31mNameError\u001b[0m: name 'AT' is not defined"
     ]
    }
   ],
   "source": [
    "AT"
   ]
  },
  {
   "cell_type": "code",
   "execution_count": null,
   "metadata": {},
   "outputs": [],
   "source": []
  }
 ],
 "metadata": {
  "kernelspec": {
   "display_name": "Python 3",
   "language": "python",
   "name": "python3"
  },
  "language_info": {
   "codemirror_mode": {
    "name": "ipython",
    "version": 3
   },
   "file_extension": ".py",
   "mimetype": "text/x-python",
   "name": "python",
   "nbconvert_exporter": "python",
   "pygments_lexer": "ipython3",
   "version": "3.7.6"
  }
 },
 "nbformat": 4,
 "nbformat_minor": 2
}
