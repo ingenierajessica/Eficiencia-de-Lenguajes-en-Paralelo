{
 "cells": [
  {
   "cell_type": "markdown",
   "metadata": {},
   "source": [
    "# Diseño de Algoritmos de multiplicación Matricial"
   ]
  },
  {
   "cell_type": "markdown",
   "metadata": {},
   "source": [
    "Se inicia con el Desarrollo de algoritmos que ayuden a comprender la configuración de GPU's y Paralelismo en el Lengauje de Julia.\n",
    "\n",
    "Se usará el algoritmo con ciclos for que ayuden a generar procesos anidados y que por consecuencia requiera mejorar en su performance"
   ]
  },
  {
   "cell_type": "markdown",
   "metadata": {},
   "source": [
    "#### Inicio\n"
   ]
  },
  {
   "cell_type": "code",
   "execution_count": 1,
   "metadata": {},
   "outputs": [
    {
     "data": {
      "text/plain": [
       "2×2 Array{Int64,2}:\n",
       " 10  5\n",
       "  1  6"
      ]
     },
     "execution_count": 1,
     "metadata": {},
     "output_type": "execute_result"
    }
   ],
   "source": [
    "n=2\n",
    "A = rand(1:10,n,n)"
   ]
  },
  {
   "cell_type": "code",
   "execution_count": 2,
   "metadata": {},
   "outputs": [
    {
     "data": {
      "text/plain": [
       "2-element Array{Int64,1}:\n",
       " 1\n",
       " 3"
      ]
     },
     "execution_count": 2,
     "metadata": {},
     "output_type": "execute_result"
    }
   ],
   "source": [
    "v= rand(1:10,n)"
   ]
  },
  {
   "cell_type": "code",
   "execution_count": 23,
   "metadata": {},
   "outputs": [
    {
     "data": {
      "text/plain": [
       "2-element Array{Int64,1}:\n",
       " 29\n",
       " 14"
      ]
     },
     "execution_count": 23,
     "metadata": {},
     "output_type": "execute_result"
    }
   ],
   "source": [
    "A*v"
   ]
  },
  {
   "cell_type": "code",
   "execution_count": 124,
   "metadata": {},
   "outputs": [
    {
     "data": {
      "text/plain": [
       "2×1 Array{Int64,2}:\n",
       " 0\n",
       " 0"
      ]
     },
     "execution_count": 124,
     "metadata": {},
     "output_type": "execute_result"
    }
   ],
   "source": [
    "#Establezco un arreglo de números enteros donde guarde el resultado del producto de filas y columnas\n",
    "a = zeros(Int64,n,1)"
   ]
  },
  {
   "cell_type": "code",
   "execution_count": 125,
   "metadata": {},
   "outputs": [
    {
     "data": {
      "text/plain": [
       "2×1 Array{Int64,2}:\n",
       " 0\n",
       " 0"
      ]
     },
     "execution_count": 125,
     "metadata": {},
     "output_type": "execute_result"
    }
   ],
   "source": [
    "#Establezco un arreglo de números enteros donde guarde el resultado del producto de filas y columnas\n",
    "r = zeros(Int64,n,1)\n"
   ]
  },
  {
   "cell_type": "code",
   "execution_count": 114,
   "metadata": {},
   "outputs": [
    {
     "name": "stdout",
     "output_type": "stream",
     "text": [
      "8X1=8\n",
      "i=1j=1es 8.0\n",
      "7X3=21\n",
      "i=1j=2es 29.0\n",
      "5X1=5\n",
      "i=2j=1es 5.0\n",
      "3X3=9\n",
      "i=2j=2es 14.0\n"
     ]
    },
    {
     "data": {
      "text/plain": [
       "2×1 Array{Float64,2}:\n",
       " 29.0\n",
       " 14.0"
      ]
     },
     "execution_count": 114,
     "metadata": {},
     "output_type": "execute_result"
    }
   ],
   "source": [
    "r = zeros(n,1)\n",
    "for i= 1:n  #Recorre filas\n",
    "    for j = 1:n #Recorre columnas\n",
    "        #r[n] = n^2 + 3;\n",
    "        a[i,1]= A[i,j]*v[j,1]\n",
    "        println(A[i,j],\"X\", v[j,1],\"=\" ,a[i,1])\n",
    "        r[i,1]=r[i,1]+a[i,1]\n",
    "        \n",
    "        println(\"i=\",i,\"j=\", j,\"es \",r[i,1])\n",
    "    end\n",
    "    \n",
    "    #println(\"+\",a[i,1],\"=\", r[i,1])\n",
    "end\n",
    "r"
   ]
  },
  {
   "cell_type": "code",
   "execution_count": 36,
   "metadata": {},
   "outputs": [
    {
     "name": "stdout",
     "output_type": "stream",
     "text": [
      "1\n",
      "1\n",
      "3\n",
      "3\n"
     ]
    }
   ],
   "source": [
    "for i= 1:n  #Recorre filas\n",
    "    for j = 1:n #Recorre columnas\n",
    "        #r[n] = n^2 + 3;\n",
    "\n",
    "        println(v[i,1])\n",
    " \n",
    "    end\n",
    "end\n"
   ]
  },
  {
   "cell_type": "code",
   "execution_count": null,
   "metadata": {},
   "outputs": [],
   "source": [
    "#Código limpio y Comprobación\n",
    "#Orden de la matriz\n",
    "n=3\n",
    "#Matriz \n",
    "A = rand(1:10,n,n)\n",
    "A\n",
    "#Vector\n",
    "v= rand(1:1000,n)\n",
    "\n",
    "#Matrices auxiliares\n",
    "r = zeros(Int64,n,1)\n",
    "a = zeros(Int64,n,1)\n",
    "\n",
    "\n",
    "for i= 1:n  #Recorre filas\n",
    "    for j = 1:n #Recorre columnas \n",
    "        a[i,1]= A[i,j]*v[j,1]\n",
    "        r[i,1]=r[i,1]+a[i,1] \n",
    "    end\n",
    "     \n",
    "end\n",
    "#println(\"A=\",A)\n",
    "#println(\"v=\",v)\n",
    "#println(\"resultset=\",r)\n",
    "#println(\"operacion=\",A*v)\n",
    "r"
   ]
  },
  {
   "cell_type": "code",
   "execution_count": 144,
   "metadata": {},
   "outputs": [
    {
     "data": {
      "text/plain": [
       "20000×1 Array{Int64,2}:\n",
       " 5010305922\n",
       " 5007895450\n",
       " 4993310845\n",
       " 4952543345\n",
       " 5010809272\n",
       " 5022438413\n",
       " 4999036500\n",
       " 4967960054\n",
       " 5013792377\n",
       " 5006005759\n",
       " 4962096004\n",
       " 4989791102\n",
       " 4987962120\n",
       "          ⋮\n",
       " 4977725935\n",
       " 4982719357\n",
       " 4968592953\n",
       " 4964696316\n",
       " 5031006586\n",
       " 4976686953\n",
       " 4998736017\n",
       " 4990995477\n",
       " 4994516961\n",
       " 5048992459\n",
       " 5032535268\n",
       " 4964570621"
      ]
     },
     "execution_count": 144,
     "metadata": {},
     "output_type": "execute_result"
    }
   ],
   "source": [
    "#Código limpio y Comprobación\n",
    "#Orden de la matriz\n",
    "n=20000\n",
    "#Matriz \n",
    "A = rand(1:1000,n,n)\n",
    "A\n",
    "#Vector\n",
    "v= rand(1:1000,n)\n",
    "\n",
    "#Matrices auxiliares\n",
    "r = zeros(Int64,n,1)\n",
    "a = zeros(Int64,n,1)\n",
    "\n",
    "\n",
    "for i= 1:n  #Recorre filas\n",
    "    for j = 1:n #Recorre columnas \n",
    "        a[i,1]= A[i,j]*v[j,1]\n",
    "        r[i,1]=r[i,1]+a[i,1] \n",
    "    end\n",
    "     \n",
    "end\n",
    "#println(\"A=\",A)\n",
    "#println(\"v=\",v)\n",
    "#println(\"resultset=\",r)\n",
    "#println(\"operacion=\",A*v)\n",
    "r"
   ]
  },
  {
   "cell_type": "code",
   "execution_count": 147,
   "metadata": {},
   "outputs": [
    {
     "data": {
      "text/plain": [
       "20000×20000 Array{Float64,2}:\n",
       " 9.1  7.1  1.1  8.1  8.1  0.1  3.1  5.1  …  2.1  0.1  2.1  4.1  2.1  7.1  4.1\n",
       " 8.1  9.1  2.1  1.1  6.1  9.1  5.1  9.1     8.1  3.1  5.1  3.1  1.1  2.1  3.1\n",
       " 1.1  4.1  8.1  8.1  9.1  9.1  0.1  7.1     2.1  6.1  2.1  7.1  6.1  6.1  0.1\n",
       " 0.1  4.1  1.1  0.1  5.1  7.1  2.1  2.1     5.1  3.1  8.1  4.1  9.1  2.1  3.1\n",
       " 2.1  9.1  5.1  2.1  7.1  8.1  2.1  4.1     5.1  1.1  5.1  1.1  5.1  3.1  9.1\n",
       " 6.1  4.1  2.1  1.1  3.1  0.1  7.1  2.1  …  1.1  4.1  6.1  9.1  4.1  6.1  4.1\n",
       " 0.1  4.1  3.1  9.1  0.1  3.1  7.1  7.1     0.1  4.1  8.1  5.1  0.1  3.1  6.1\n",
       " 9.1  4.1  1.1  9.1  0.1  2.1  9.1  4.1     0.1  6.1  6.1  8.1  3.1  8.1  4.1\n",
       " 7.1  1.1  7.1  8.1  5.1  3.1  5.1  0.1     6.1  9.1  5.1  4.1  2.1  1.1  0.1\n",
       " 3.1  4.1  7.1  1.1  3.1  5.1  8.1  3.1     4.1  0.1  2.1  0.1  7.1  9.1  3.1\n",
       " 3.1  5.1  0.1  4.1  1.1  0.1  2.1  6.1  …  5.1  8.1  1.1  7.1  5.1  6.1  1.1\n",
       " 7.1  0.1  9.1  1.1  3.1  4.1  9.1  0.1     4.1  1.1  8.1  2.1  0.1  7.1  4.1\n",
       " 6.1  3.1  9.1  7.1  8.1  0.1  0.1  7.1     5.1  4.1  4.1  1.1  8.1  9.1  7.1\n",
       " ⋮                        ⋮              ⋱            ⋮                      \n",
       " 1.1  2.1  6.1  8.1  8.1  0.1  2.1  8.1     7.1  6.1  2.1  4.1  0.1  6.1  3.1\n",
       " 7.1  9.1  1.1  1.1  6.1  1.1  0.1  8.1     6.1  4.1  0.1  4.1  9.1  3.1  9.1\n",
       " 2.1  8.1  5.1  1.1  3.1  1.1  9.1  1.1  …  9.1  4.1  8.1  6.1  9.1  5.1  1.1\n",
       " 0.1  5.1  7.1  6.1  4.1  1.1  8.1  8.1     8.1  3.1  6.1  9.1  2.1  3.1  6.1\n",
       " 7.1  4.1  0.1  2.1  6.1  3.1  5.1  5.1     2.1  4.1  0.1  7.1  0.1  9.1  6.1\n",
       " 6.1  0.1  8.1  3.1  1.1  9.1  0.1  1.1     1.1  1.1  7.1  0.1  9.1  4.1  9.1\n",
       " 9.1  1.1  5.1  1.1  0.1  8.1  3.1  0.1     6.1  5.1  1.1  7.1  7.1  7.1  9.1\n",
       " 6.1  0.1  2.1  0.1  3.1  7.1  3.1  7.1  …  2.1  1.1  9.1  6.1  7.1  9.1  5.1\n",
       " 2.1  2.1  3.1  2.1  3.1  9.1  4.1  2.1     2.1  8.1  5.1  4.1  3.1  4.1  2.1\n",
       " 4.1  7.1  2.1  0.1  8.1  4.1  2.1  7.1     2.1  9.1  4.1  0.1  8.1  7.1  7.1\n",
       " 6.1  6.1  0.1  8.1  3.1  6.1  8.1  4.1     0.1  8.1  4.1  5.1  9.1  1.1  9.1\n",
       " 9.1  7.1  6.1  9.1  6.1  3.1  4.1  6.1     5.1  4.1  4.1  2.1  1.1  5.1  3.1"
      ]
     },
     "execution_count": 147,
     "metadata": {},
     "output_type": "execute_result"
    }
   ],
   "source": [
    "\n",
    "A = rand(0.1:10,n,n)"
   ]
  },
  {
   "cell_type": "markdown",
   "metadata": {},
   "source": [
    "# Multiplicación de Matriz Cuadrada"
   ]
  },
  {
   "cell_type": "code",
   "execution_count": 32,
   "metadata": {},
   "outputs": [
    {
     "name": "stdout",
     "output_type": "stream",
     "text": [
      "10X10=100\n",
      "5X1=5\n",
      "10X5=50\n",
      "5X6=30\n",
      "1X10=10\n",
      "6X1=6\n",
      "1X5=5\n",
      "6X6=36\n"
     ]
    },
    {
     "data": {
      "text/plain": [
       "2×2 Array{Int64,2}:\n",
       " 105  80\n",
       "  16  41"
      ]
     },
     "execution_count": 32,
     "metadata": {},
     "output_type": "execute_result"
    }
   ],
   "source": [
    "t = zeros(Int64,n,n)\n",
    "for i= 1:n  #Recorre el primer indice  externo de la posición matricial\n",
    "    for j = 1:n #Recorre el tercer índice externo de la posición matricial\n",
    "        \n",
    "        for k = 1:n  #Recorre el indice interno de la posición matricial\n",
    "                println(A[i,k]  ,'X',A[k,j] ,'=', A[i,k]*A[k,j])\n",
    "                t[i,j]= t[i,j]+A[i,k]*A[k,j]\n",
    "         \n",
    "        end\n",
    "       \n",
    "    end\n",
    "     \n",
    "end \n",
    "t"
   ]
  },
  {
   "cell_type": "code",
   "execution_count": 23,
   "metadata": {},
   "outputs": [
    {
     "data": {
      "text/plain": [
       "3×3 Array{Int64,2}:\n",
       " 3  2  1\n",
       " 1  1  3\n",
       " 0  2  1"
      ]
     },
     "execution_count": 23,
     "metadata": {},
     "output_type": "execute_result"
    }
   ],
   "source": [
    "A=[3 2 1;1 1 3;0 2 1]"
   ]
  },
  {
   "cell_type": "code",
   "execution_count": 24,
   "metadata": {},
   "outputs": [
    {
     "data": {
      "text/plain": [
       "3×3 Array{Int64,2}:\n",
       " 11  10  10\n",
       "  4   9   7\n",
       "  2   4   7"
      ]
     },
     "execution_count": 24,
     "metadata": {},
     "output_type": "execute_result"
    }
   ],
   "source": [
    "A*A"
   ]
  },
  {
   "cell_type": "code",
   "execution_count": 35,
   "metadata": {},
   "outputs": [
    {
     "data": {
      "text/plain": [
       "3×3 Array{Int64,2}:\n",
       " 11  10  10\n",
       "  4   9   7\n",
       "  2   4   7"
      ]
     },
     "execution_count": 35,
     "metadata": {},
     "output_type": "execute_result"
    }
   ],
   "source": [
    "n=3\n",
    "t = zeros(Int64,n,n)\n",
    "\n",
    "A =[3 2 1;1 1 3;0 2 1]\n",
    "for i= 1:n  #Recorre el primer indice  externo de la posición matricial\n",
    "    for j = 1:n #Recorre el tercer índice externo de la posición matricial\n",
    "        \n",
    "        for k = 1:n  #Recorre el indice interno de la posición matricial \n",
    "                t[i,j]= t[i,j]+A[i,k]*A[k,j]\n",
    "         \n",
    "        end\n",
    "       \n",
    "    end\n",
    "     \n",
    "end \n",
    "t"
   ]
  },
  {
   "cell_type": "code",
   "execution_count": 62,
   "metadata": {},
   "outputs": [
    {
     "data": {
      "text/plain": [
       "3×3 Array{Int64,2}:\n",
       " 3  2  1\n",
       " 1  1  3\n",
       " 0  2  1"
      ]
     },
     "execution_count": 62,
     "metadata": {},
     "output_type": "execute_result"
    }
   ],
   "source": [
    "A =[3 2 1;1 1 3;0 2 1]"
   ]
  },
  {
   "cell_type": "code",
   "execution_count": 63,
   "metadata": {},
   "outputs": [
    {
     "data": {
      "text/plain": [
       "3×3 Array{Int64,2}:\n",
       " 11  10  10\n",
       "  4   9   7\n",
       "  2   4   7"
      ]
     },
     "execution_count": 63,
     "metadata": {},
     "output_type": "execute_result"
    }
   ],
   "source": [
    "A^2"
   ]
  },
  {
   "cell_type": "code",
   "execution_count": 69,
   "metadata": {},
   "outputs": [
    {
     "data": {
      "text/plain": [
       "3×3 Array{Int64,2}:\n",
       " 11  10  10\n",
       "  4   9   7\n",
       "  2   4   7"
      ]
     },
     "execution_count": 69,
     "metadata": {},
     "output_type": "execute_result"
    }
   ],
   "source": [
    "n=3\n",
    "R = zeros(Int64,n,n)\n",
    "A =[3 2 1;1 1 3;0 2 1]\n",
    "for i= 1:n  #Recorre el primer indice  externo de la posición matricial\n",
    "    for j = 1:n #Recorre el tercer índice externo de la posición matricial        \n",
    "        for k = 1:n  #Recorre el indice interno de la posición matricial \n",
    "                R[i,j]= R[i,j]+A[i,k]*A[k,j]\n",
    "         \n",
    "        end\n",
    "       \n",
    "    end\n",
    "     \n",
    "end \n",
    "R"
   ]
  },
  {
   "cell_type": "markdown",
   "metadata": {},
   "source": [
    "Transpuesta"
   ]
  },
  {
   "cell_type": "code",
   "execution_count": 38,
   "metadata": {},
   "outputs": [
    {
     "data": {
      "text/plain": [
       "3×3 Array{Int64,2}:\n",
       " 1  0   4\n",
       " 0  5   0\n",
       " 6  0  -9"
      ]
     },
     "execution_count": 38,
     "metadata": {},
     "output_type": "execute_result"
    }
   ],
   "source": [
    "n=3\n",
    "q = zeros(Int64,n,n)\n",
    "\n",
    "A =[1 0 4;0 5 0; 6 0 -9]\n",
    "for i= 1:n  #Recorre el primer indice  externo de la posición matricial\n",
    "    for j = 1:n #Recorre el tercer índice externo de la posición matricial\n",
    "        \n",
    "        #for k = 1:n  #Recorre el indice interno de la posición matricial \n",
    "                q[i,j]=  A[j,i]\n",
    "         \n",
    "        #end\n",
    "       \n",
    "    end\n",
    "     \n",
    "end \n",
    "A"
   ]
  },
  {
   "cell_type": "code",
   "execution_count": 39,
   "metadata": {},
   "outputs": [
    {
     "data": {
      "text/plain": [
       "3×3 Array{Int64,2}:\n",
       " 1  0   6\n",
       " 0  5   0\n",
       " 4  0  -9"
      ]
     },
     "execution_count": 39,
     "metadata": {},
     "output_type": "execute_result"
    }
   ],
   "source": [
    "q"
   ]
  },
  {
   "cell_type": "code",
   "execution_count": 40,
   "metadata": {},
   "outputs": [
    {
     "data": {
      "text/plain": [
       "3×3 Array{Int64,2}:\n",
       " 9  3  0\n",
       " 5  2  2\n",
       " 5  5  5"
      ]
     },
     "execution_count": 40,
     "metadata": {},
     "output_type": "execute_result"
    }
   ],
   "source": [
    "n=3\n",
    "t = zeros(Int64,n,n)\n",
    "q = zeros(Int64,n,n)\n",
    "A =[3 2 1;1 1 3;0 2 1]\n",
    "for i= 1:n  #Recorre el primer indice  externo de la posición matricial\n",
    "    for j = 1:n #Recorre el tercer índice externo de la posición matricial\n",
    "        q[i,j]=  A[j,i]\n",
    "        for k = 1:n  #Recorre el indice interno de la posición matricial \n",
    "                t[i,j]= t[i,j]+A[i,k]*q[k,j]\n",
    "         \n",
    "        end\n",
    "       \n",
    "    end\n",
    "     \n",
    "end \n",
    "t"
   ]
  },
  {
   "cell_type": "markdown",
   "metadata": {},
   "source": [
    "# A*A^T"
   ]
  },
  {
   "cell_type": "code",
   "execution_count": 49,
   "metadata": {},
   "outputs": [
    {
     "data": {
      "text/plain": [
       "3×3 Array{Int64,2}:\n",
       " 1  0   4\n",
       " 0  5   0\n",
       " 6  0  -9"
      ]
     },
     "execution_count": 49,
     "metadata": {},
     "output_type": "execute_result"
    }
   ],
   "source": [
    "A =[1 0 4;0 5 0; 6 0 -9]"
   ]
  },
  {
   "cell_type": "code",
   "execution_count": 50,
   "metadata": {},
   "outputs": [
    {
     "data": {
      "text/plain": [
       "3×3 LinearAlgebra.Adjoint{Int64,Array{Int64,2}}:\n",
       " 1  0   6\n",
       " 0  5   0\n",
       " 4  0  -9"
      ]
     },
     "execution_count": 50,
     "metadata": {},
     "output_type": "execute_result"
    }
   ],
   "source": [
    "A'"
   ]
  },
  {
   "cell_type": "code",
   "execution_count": 51,
   "metadata": {},
   "outputs": [
    {
     "data": {
      "text/plain": [
       "3×3 Array{Int64,2}:\n",
       "  17   0  -30\n",
       "   0  25    0\n",
       " -30   0  117"
      ]
     },
     "execution_count": 51,
     "metadata": {},
     "output_type": "execute_result"
    }
   ],
   "source": [
    "A*A'"
   ]
  },
  {
   "cell_type": "code",
   "execution_count": 58,
   "metadata": {},
   "outputs": [
    {
     "data": {
      "text/plain": [
       "3×3 Array{Int64,2}:\n",
       "  17   0  -30\n",
       "   0  25    0\n",
       " -30   0  117"
      ]
     },
     "execution_count": 58,
     "metadata": {},
     "output_type": "execute_result"
    }
   ],
   "source": [
    "n=3\n",
    "T = zeros(Int64,n,n)\n",
    "\n",
    "A =[1 0 4;0 5 0; 6 0 -9]\n",
    "for i= 1:n  #Recorre el primer indice  externo de la posición matricial\n",
    "    for j = 1:n #Recorre el tercer índice externo de la posición matricial \n",
    "                T[i,j]=  A[j,i] \n",
    "    end\n",
    "  \n",
    "end \n",
    "R = zeros(Int64,n,n)\n",
    "for i= 1:n  #Recorre el primer indice  externo de la posición matricial\n",
    "    for j = 1:n #Recorre el tercer índice externo de la posición matricial \n",
    "        for k = 1:n  #Recorre el indice interno de la posición matricial\n",
    "                #println(A[i,k]  ,'X',A[k,j] ,'=', A[i,k]*A[k,j])\n",
    "                R[i,j]= R[i,j]+A[i,k]*T[k,j]\n",
    "         \n",
    "        end\n",
    "       \n",
    "    end\n",
    "     \n",
    "end \n",
    "R"
   ]
  },
  {
   "cell_type": "markdown",
   "metadata": {},
   "source": [
    "# (A*A^T)^2"
   ]
  },
  {
   "cell_type": "code",
   "execution_count": 59,
   "metadata": {},
   "outputs": [
    {
     "data": {
      "text/plain": [
       "3×3 Array{Int64,2}:\n",
       "  1189    0  -4020\n",
       "     0  625      0\n",
       " -4020    0  14589"
      ]
     },
     "execution_count": 59,
     "metadata": {},
     "output_type": "execute_result"
    }
   ],
   "source": [
    "(A*A')^2"
   ]
  },
  {
   "cell_type": "code",
   "execution_count": 70,
   "metadata": {},
   "outputs": [
    {
     "data": {
      "text/plain": [
       "3×3 Array{Int64,2}:\n",
       "  1189    0  -4020\n",
       "     0  625      0\n",
       " -4020    0  14589"
      ]
     },
     "execution_count": 70,
     "metadata": {},
     "output_type": "execute_result"
    }
   ],
   "source": [
    "n=3\n",
    "T = zeros(Int64,n,n)\n",
    "\n",
    "A =[1 0 4;0 5 0; 6 0 -9]\n",
    "for i= 1:n  #Recorre el primer indice  externo de la posición matricial\n",
    "    for j = 1:n #Recorre el tercer índice externo de la posición matricial \n",
    "                T[i,j]=  A[j,i] \n",
    "    end\n",
    "  \n",
    "end \n",
    "R1 = zeros(Int64,n,n)\n",
    "for i= 1:n  #Recorre el primer indice  externo de la posición matricial\n",
    "    for j = 1:n #Recorre el tercer índice externo de la posición matricial \n",
    "        for k = 1:n  #Recorre el indice interno de la posición matricial\n",
    "                #println(A[i,k]  ,'X',A[k,j] ,'=', A[i,k]*A[k,j])\n",
    "                R1[i,j]= R1[i,j]+A[i,k]*T[k,j]\n",
    "         \n",
    "        end\n",
    "       \n",
    "    end\n",
    "     \n",
    "end \n",
    "R1\n",
    "\n",
    "R2 = zeros(Int64,n,n)\n",
    "for i= 1:n  #Recorre el primer indice  externo de la posición matricial\n",
    "    for j = 1:n #Recorre el tercer índice externo de la posición matricial \n",
    "        for k = 1:n  #Recorre el indice interno de la posición matricial\n",
    "                #println(A[i,k]  ,'X',A[k,j] ,'=', A[i,k]*A[k,j])\n",
    "                R2[i,j]= R2[i,j]+R1[i,k]R1[k,j]\n",
    "         \n",
    "        end\n",
    "       \n",
    "    end\n",
    "     \n",
    "end \n",
    "R2\n",
    "\n",
    " "
   ]
  }
 ],
 "metadata": {
  "kernelspec": {
   "display_name": "Julia 1.0.0",
   "language": "julia",
   "name": "julia-1.0"
  },
  "language_info": {
   "file_extension": ".jl",
   "mimetype": "application/julia",
   "name": "julia",
   "version": "1.0.0"
  }
 },
 "nbformat": 4,
 "nbformat_minor": 4
}
